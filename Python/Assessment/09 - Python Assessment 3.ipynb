{
 "cells": [
  {
   "cell_type": "code",
   "execution_count": 19,
   "metadata": {},
   "outputs": [],
   "source": [
    "# Define a function which counts vowels and consonant in a word\n",
    "\n",
    "# Hint\n",
    "# Input:\n",
    "# Enter a word = pythonlobby\n",
    "\n",
    "# Expected output \n",
    "# Count of vowel is = 2\n",
    "# Count of consonant is = 9\n",
    "def vowels_and_consonants(a):\n",
    "    vowel_count=0\n",
    "    consonant_count=0\n",
    "    b='aeiou'\n",
    "    c=a.lower()\n",
    "    for i in b:\n",
    "        for j in c:\n",
    "            if i==j:\n",
    "                vowel_count+=1\n",
    "    consonant_count=len(a)-vowel_count\n",
    "    print(f\"Count of vowel is = {vowel_count}\")    \n",
    "    print(f\"Count of consonant is = {consonant_count}\")"
   ]
  },
  {
   "cell_type": "code",
   "execution_count": 20,
   "metadata": {},
   "outputs": [
    {
     "name": "stdout",
     "output_type": "stream",
     "text": [
      "Count of vowel is = 2\n",
      "Count of consonant is = 9\n"
     ]
    }
   ],
   "source": [
    "vowels_and_consonants('pythonLobby')"
   ]
  },
  {
   "cell_type": "code",
   "execution_count": 28,
   "metadata": {},
   "outputs": [],
   "source": [
    "# Define a function that returns Factorial of a number\n",
    "\n",
    "# Hint\n",
    "# Input:\n",
    "# Enter a number = 6\n",
    "\n",
    "# Expected output \n",
    "# Factorial is 720\n",
    "\n",
    "def factorial(b):\n",
    "    fact=1\n",
    "    for i in range(1,b+1):\n",
    "        fact=fact*i\n",
    "    print(fact)"
   ]
  },
  {
   "cell_type": "code",
   "execution_count": 29,
   "metadata": {},
   "outputs": [
    {
     "name": "stdout",
     "output_type": "stream",
     "text": [
      "720\n"
     ]
    }
   ],
   "source": [
    "factorial(6)"
   ]
  },
  {
   "cell_type": "code",
   "execution_count": null,
   "metadata": {},
   "outputs": [],
   "source": [
    "# What is the difference between local and global variable?\n",
    "# Ans:\n",
    "#Local variables are temporarily created variables inside a function. They can accessed and\n",
    "#manipulated only inside a function\n",
    "#Global variables are permanently created varibales outside a function. They can be accessed any\n",
    "#where outside the function, globally, and can be changed too. They can even be accessed inside\n",
    "#a function but to change their value inside any function, we have to follow a specific syntax\n",
    "#called 'global var_name', then Python allows us to use those global variables inside any function\n",
    "#also\n"
   ]
  },
  {
   "cell_type": "code",
   "execution_count": null,
   "metadata": {},
   "outputs": [],
   "source": [
    "# What is the scope of a variable (in function)?\n",
    "# Ans:\n",
    "#The scope refers to the visiblitly of a variable and the region within which it is available.\n",
    "#Two types of scopes exist for any variable, -global and local, explained as above\n"
   ]
  },
  {
   "cell_type": "code",
   "execution_count": null,
   "metadata": {},
   "outputs": [],
   "source": [
    "# What is the difference between a parameter and an argument?\n"
   ]
  },
  {
   "cell_type": "code",
   "execution_count": null,
   "metadata": {},
   "outputs": [],
   "source": [
    "# What does function returns by default in Python?\n"
   ]
  },
  {
   "cell_type": "code",
   "execution_count": null,
   "metadata": {},
   "outputs": [],
   "source": [
    "# Write a Python program to reverse a number.\n",
    "# Hint\n",
    "# Input a number to reverse : 43521\n",
    "\n",
    "# Expected output \n",
    "# Result: 12534"
   ]
  },
  {
   "cell_type": "code",
   "execution_count": null,
   "metadata": {},
   "outputs": [],
   "source": [
    "# Write a program to display the first 7 multiples of 7 in a range of value from\n",
    "# 0 to 200\n",
    "# Hint\n",
    "# Use if and for loop with break\n",
    "\n",
    "# Expected output \n",
    "# Result: 0  7  14  21  28  35  42  49"
   ]
  },
  {
   "cell_type": "code",
   "execution_count": null,
   "metadata": {},
   "outputs": [],
   "source": [
    "# Write a python program to separate positive and negative number from a list.\n",
    "# Hint \n",
    "# Given x = [23, 4, -6, 23, -9, 21, 3, -45, -8]\n",
    "\n",
    "# Expected output \n",
    "# Result:\n",
    "# Positive: [23, 4, 23, 21, 3] Negative: [-6, -45, -9, -8]"
   ]
  },
  {
   "cell_type": "code",
   "execution_count": null,
   "metadata": {},
   "outputs": [],
   "source": [
    "# Write a program that appends the type of elements from a list.\n",
    "# Hint\n",
    "# Given x = [23, ‘Python’, 23.98]\n",
    "\n",
    "# Expected output \n",
    "# Result:\n",
    "# [<class ‘int’>,<class ‘str’>,<class ‘float’>]"
   ]
  },
  {
   "cell_type": "code",
   "execution_count": null,
   "metadata": {},
   "outputs": [],
   "source": [
    "# Write a program to fetch only even values from a dictionary.\n",
    "# Hint\n",
    "# dic = {‘val1’:10, ‘val2’:20, ‘val3’:23, ‘val4’:22 }\n",
    "\n",
    "# Expected output \n",
    "# Result : 10 20 22"
   ]
  }
 ],
 "metadata": {
  "kernelspec": {
   "display_name": "Python 3 (ipykernel)",
   "language": "python",
   "name": "python3"
  },
  "language_info": {
   "codemirror_mode": {
    "name": "ipython",
    "version": 3
   },
   "file_extension": ".py",
   "mimetype": "text/x-python",
   "name": "python",
   "nbconvert_exporter": "python",
   "pygments_lexer": "ipython3",
   "version": "3.9.12"
  }
 },
 "nbformat": 4,
 "nbformat_minor": 4
}
