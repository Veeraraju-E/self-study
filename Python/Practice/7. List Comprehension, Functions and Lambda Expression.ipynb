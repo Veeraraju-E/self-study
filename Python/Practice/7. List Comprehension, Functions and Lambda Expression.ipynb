{
 "cells": [
  {
   "cell_type": "markdown",
   "metadata": {},
   "source": [
    "# List Comprehension"
   ]
  },
  {
   "cell_type": "code",
   "execution_count": 1,
   "metadata": {},
   "outputs": [
    {
     "name": "stdout",
     "output_type": "stream",
     "text": [
      "0\n",
      "1\n",
      "2\n"
     ]
    }
   ],
   "source": [
    "for i in range(3): # [0,1,2]\n",
    "    print(i)"
   ]
  },
  {
   "cell_type": "code",
   "execution_count": 2,
   "metadata": {},
   "outputs": [
    {
     "data": {
      "text/plain": [
       "[0, 1, 2]"
      ]
     },
     "execution_count": 2,
     "metadata": {},
     "output_type": "execute_result"
    }
   ],
   "source": [
    "[i for i in range(3)]"
   ]
  },
  {
   "cell_type": "code",
   "execution_count": 3,
   "metadata": {},
   "outputs": [
    {
     "data": {
      "text/plain": [
       "[0, 1, 4, 9, 16, 25, 36, 49, 64, 81, 100]"
      ]
     },
     "execution_count": 3,
     "metadata": {},
     "output_type": "execute_result"
    }
   ],
   "source": [
    "a = []\n",
    "for i in range(11): #[0,1,2,3,4,5,6,7,8,9,10]\n",
    "    a.append(i * i)\n",
    "a"
   ]
  },
  {
   "cell_type": "code",
   "execution_count": 4,
   "metadata": {},
   "outputs": [
    {
     "data": {
      "text/plain": [
       "[0, 1, 4, 9, 16, 25, 36, 49, 64, 81, 100]"
      ]
     },
     "execution_count": 4,
     "metadata": {},
     "output_type": "execute_result"
    }
   ],
   "source": [
    "[i * i for i in range(11)]"
   ]
  },
  {
   "cell_type": "code",
   "execution_count": 5,
   "metadata": {},
   "outputs": [
    {
     "name": "stdout",
     "output_type": "stream",
     "text": [
      "2\n",
      "4\n"
     ]
    }
   ],
   "source": [
    "a = [1,2,3,4,5]\n",
    "for i in a:\n",
    "    if i % 2 == 0:\n",
    "        print(i)"
   ]
  },
  {
   "cell_type": "code",
   "execution_count": 6,
   "metadata": {},
   "outputs": [
    {
     "data": {
      "text/plain": [
       "[2, 4]"
      ]
     },
     "execution_count": 6,
     "metadata": {},
     "output_type": "execute_result"
    }
   ],
   "source": [
    "# for loop and if statement ---> [(ouput of if statement) (for loop) (if statement)]\n",
    "\n",
    "[i for i in a if i % 2 == 0]"
   ]
  },
  {
   "cell_type": "code",
   "execution_count": 7,
   "metadata": {},
   "outputs": [
    {
     "name": "stdout",
     "output_type": "stream",
     "text": [
      "odd\n",
      "2 Even\n",
      "odd\n",
      "4 Even\n",
      "odd\n"
     ]
    }
   ],
   "source": [
    "a = [1,2,3,4,5]\n",
    "for i in a:\n",
    "    if i % 2 == 0:\n",
    "        print(i,'Even')\n",
    "    else:\n",
    "        print('odd')"
   ]
  },
  {
   "cell_type": "code",
   "execution_count": 8,
   "metadata": {},
   "outputs": [
    {
     "data": {
      "text/plain": [
       "['Odd', (2, 'Even'), 'Odd', (4, 'Even'), 'Odd']"
      ]
     },
     "execution_count": 8,
     "metadata": {},
     "output_type": "execute_result"
    }
   ],
   "source": [
    "# for loop, if and else ---> [(o/p of if) (if statement) (else) (o/p of else) (for loop)]\n",
    "[(i,'Even') if i % 2 == 0 else 'Odd' for i in a]"
   ]
  },
  {
   "cell_type": "code",
   "execution_count": 9,
   "metadata": {},
   "outputs": [
    {
     "name": "stdout",
     "output_type": "stream",
     "text": [
      "30\n"
     ]
    }
   ],
   "source": [
    "a,b,c, = 10,20,30\n",
    "if a > b and a > c:\n",
    "    print(a)\n",
    "elif b > a and  b > c:\n",
    "    print(b)\n",
    "else:\n",
    "    print(c)"
   ]
  },
  {
   "cell_type": "code",
   "execution_count": 10,
   "metadata": {},
   "outputs": [
    {
     "data": {
      "text/plain": [
       "[30]"
      ]
     },
     "execution_count": 10,
     "metadata": {},
     "output_type": "execute_result"
    }
   ],
   "source": [
    "[a if a > b and a > c else(b if b > a and  b > c else c)]"
   ]
  },
  {
   "cell_type": "code",
   "execution_count": 11,
   "metadata": {},
   "outputs": [
    {
     "name": "stdout",
     "output_type": "stream",
     "text": [
      "1 2 3 4 5 6 "
     ]
    }
   ],
   "source": [
    "a = [[1,2,3],[4,5,6]] # 1 2 3 4 5 6\n",
    "for i in a: # [1,2,3],[4,5,6]\n",
    "    for j in i: # [1,2,3]\n",
    "        print(j, end = ' ')"
   ]
  },
  {
   "cell_type": "code",
   "execution_count": 12,
   "metadata": {},
   "outputs": [
    {
     "data": {
      "text/plain": [
       "[1, 2, 3, 4, 5, 6]"
      ]
     },
     "execution_count": 12,
     "metadata": {},
     "output_type": "execute_result"
    }
   ],
   "source": [
    "[j for i in a for j in i]"
   ]
  },
  {
   "cell_type": "code",
   "execution_count": 13,
   "metadata": {},
   "outputs": [],
   "source": [
    "# 1. Convert Celsius to Fahrenheit using list comprehension\n",
    "# celsius = [0,10,20.1,34.5]\n",
    "# celcius to fahrenheit formula = (9/5) * temp_value + 32\n",
    "\n",
    "# 2. words = ['Liam','Noah','William','James','Logan','Benjamin','Mason','Elijah','Oliver','Jacob','Lucas',\\\n",
    "#          'Michael','Alexander','Ethan','Daniel','Matthew','Aiden','Henry','Joseph','Jackson','Samuel','Sebastian',\\\n",
    "#          'David','Carter','Wyatt','Jayden','John','Owen','Dylan','Luke','Gabriel','Anthony','Isaac','Grayson','Jack',\\\n",
    "#          'Julian','Levi','Christopher','Joshua','Andrew','Lincoln','Mateo','Ryan','Jaxon','Nathan','Aaron','Isaiah','Thomas',\\\n",
    "#          'Charles','Caleb','Josiah','Christian','Hunter','Eli','Jonathan','Connor','Landon','Adrian','Asher','Cameron','Leo',\\\n",
    "#          'Theodore','Jeremiah','Hudson','Robert','Easton','Nolan','Nicholas','Ezra','Colton','Angel','Brayden','Jordan','Dominic',\\\n",
    "#          'Austin','Ian','Adam','Elias','Jaxson','Greyson','Jose','Ezekiel','Carso','Evan','Maverick','Bryson','Jace','Cooper','Xavier'\\\n",
    "#          ,'Parker','Roman','Jason','Santiago','Chase','Sawyer','Gavin','Leonardo','Kayden','Ayden','Jameson']\n",
    "# Get the words that starts with 'A' in the above variable using list comprehension\n",
    "\n",
    "# 3. a = 'ais123'\n",
    "# print only the digits using list comprehension\n",
    "\n",
    "# 4. a = 'ais123'\n",
    "# print only the alphabets using list comprehension\n",
    "\n",
    "# 5. a = [[1,3,2], [4,6,5]]\n",
    "# Required output [1,2,3,4,5,6] - using list comprehension"
   ]
  },
  {
   "cell_type": "markdown",
   "metadata": {},
   "source": [
    "# Function"
   ]
  },
  {
   "cell_type": "code",
   "execution_count": 14,
   "metadata": {},
   "outputs": [
    {
     "name": "stdout",
     "output_type": "stream",
     "text": [
      "Even\n",
      "14 Even\n",
      "52 Even\n",
      "2 Even\n",
      "4 Even\n"
     ]
    }
   ],
   "source": [
    "a = 10\n",
    "if a % 2 == 0:\n",
    "    print('Even')\n",
    "\n",
    "a = [11,21,13,14,52]\n",
    "for i in a :\n",
    "    if i % 2 == 0:\n",
    "        print(i, 'Even')\n",
    "        \n",
    "b = [1,2,3,4,5]\n",
    "for i in b:\n",
    "    if i % 2 == 0:\n",
    "        print(i, 'Even')"
   ]
  },
  {
   "cell_type": "code",
   "execution_count": 15,
   "metadata": {},
   "outputs": [],
   "source": [
    "# def user_defined_name(parameter1, parameter2, ....):\n",
    "#     Docstring - Documentation string\n",
    "#     '''\n",
    "#     What input the function take\n",
    "#     What operation it performs\n",
    "#     what will be the output\n",
    "#     '''\n",
    "#     Body of function\n",
    "\n",
    "def greet():\n",
    "    '''\n",
    "    The function does not take any paramter\n",
    "    when called, it prints Good Morning\n",
    "    '''\n",
    "    print('Good Morning')"
   ]
  },
  {
   "cell_type": "code",
   "execution_count": 16,
   "metadata": {},
   "outputs": [
    {
     "name": "stdout",
     "output_type": "stream",
     "text": [
      "Good Morning\n"
     ]
    }
   ],
   "source": [
    "greet()"
   ]
  },
  {
   "cell_type": "code",
   "execution_count": 17,
   "metadata": {},
   "outputs": [
    {
     "name": "stdout",
     "output_type": "stream",
     "text": [
      "Good Morning\n"
     ]
    }
   ],
   "source": [
    "greet()"
   ]
  },
  {
   "cell_type": "code",
   "execution_count": 18,
   "metadata": {},
   "outputs": [],
   "source": [
    "def greet(name):\n",
    "    '''\n",
    "    The function takes one paramter, which is a string\n",
    "    when called, it return Good Morning + name\n",
    "    '''\n",
    "    print('Good Morning' + ' ' + name)"
   ]
  },
  {
   "cell_type": "code",
   "execution_count": 19,
   "metadata": {},
   "outputs": [
    {
     "name": "stdout",
     "output_type": "stream",
     "text": [
      "Good Morning Sri\n"
     ]
    }
   ],
   "source": [
    "greet('Sri')"
   ]
  },
  {
   "cell_type": "code",
   "execution_count": 20,
   "metadata": {},
   "outputs": [
    {
     "name": "stdout",
     "output_type": "stream",
     "text": [
      "Good Morning Sid\n"
     ]
    }
   ],
   "source": [
    "greet('Sid')"
   ]
  },
  {
   "cell_type": "code",
   "execution_count": 21,
   "metadata": {},
   "outputs": [
    {
     "ename": "TypeError",
     "evalue": "greet() missing 1 required positional argument: 'name'",
     "output_type": "error",
     "traceback": [
      "\u001b[1;31m---------------------------------------------------------------------------\u001b[0m",
      "\u001b[1;31mTypeError\u001b[0m                                 Traceback (most recent call last)",
      "Input \u001b[1;32mIn [21]\u001b[0m, in \u001b[0;36m<cell line: 1>\u001b[1;34m()\u001b[0m\n\u001b[1;32m----> 1\u001b[0m \u001b[43mgreet\u001b[49m\u001b[43m(\u001b[49m\u001b[43m)\u001b[49m\n",
      "\u001b[1;31mTypeError\u001b[0m: greet() missing 1 required positional argument: 'name'"
     ]
    }
   ],
   "source": [
    "greet()"
   ]
  },
  {
   "cell_type": "code",
   "execution_count": 22,
   "metadata": {},
   "outputs": [],
   "source": [
    "def add(a,b):\n",
    "    '''\n",
    "    The funtion takes in two inputs, a - Interger, b - Integer\n",
    "    The function returns an added output of a and b\n",
    "    '''\n",
    "    print(a + b)"
   ]
  },
  {
   "cell_type": "code",
   "execution_count": 23,
   "metadata": {},
   "outputs": [
    {
     "name": "stdout",
     "output_type": "stream",
     "text": [
      "30\n"
     ]
    }
   ],
   "source": [
    "add(10,20)"
   ]
  },
  {
   "cell_type": "code",
   "execution_count": 24,
   "metadata": {},
   "outputs": [
    {
     "name": "stdout",
     "output_type": "stream",
     "text": [
      "44\n"
     ]
    }
   ],
   "source": [
    "add(10,34)"
   ]
  },
  {
   "cell_type": "code",
   "execution_count": 25,
   "metadata": {
    "scrolled": true
   },
   "outputs": [
    {
     "ename": "TypeError",
     "evalue": "add() takes 2 positional arguments but 3 were given",
     "output_type": "error",
     "traceback": [
      "\u001b[1;31m---------------------------------------------------------------------------\u001b[0m",
      "\u001b[1;31mTypeError\u001b[0m                                 Traceback (most recent call last)",
      "Input \u001b[1;32mIn [25]\u001b[0m, in \u001b[0;36m<cell line: 1>\u001b[1;34m()\u001b[0m\n\u001b[1;32m----> 1\u001b[0m \u001b[43madd\u001b[49m\u001b[43m(\u001b[49m\u001b[38;5;241;43m10\u001b[39;49m\u001b[43m,\u001b[49m\u001b[38;5;241;43m20\u001b[39;49m\u001b[43m,\u001b[49m\u001b[38;5;241;43m30\u001b[39;49m\u001b[43m)\u001b[49m\n",
      "\u001b[1;31mTypeError\u001b[0m: add() takes 2 positional arguments but 3 were given"
     ]
    }
   ],
   "source": [
    "add(10,20,30)"
   ]
  },
  {
   "cell_type": "code",
   "execution_count": 26,
   "metadata": {},
   "outputs": [],
   "source": [
    "# Write a Python program to calculate the sum of three given numbers, \n",
    "# if the value are less than 100,print value * 10, else print value * 100 using function\n",
    "\n",
    "# Write a Python program to get a new string from a given string where \"Is\" has been added to the \n",
    "# front. If the given string already begins with \"Is\" then return the string unchanged using function\n",
    "\n",
    "# Write a Python program to find whether a given number is even or odd \n",
    "# using function\n",
    "\n",
    "# Write a python program that return greatest of 3 numbers using function\n",
    "#     Inputs:\n",
    "#         a = 200\n",
    "#         b = 768\n",
    "#         c = 555\n",
    "#     Expected Output:\n",
    "#         B is greater\n",
    "\n",
    "# a = 'string', check the data type of the variable 'a', if it is string print 'string' \n",
    "# else print 'No' using function"
   ]
  },
  {
   "cell_type": "code",
   "execution_count": 27,
   "metadata": {},
   "outputs": [],
   "source": [
    "def add(a,b):\n",
    "    print(a+b)"
   ]
  },
  {
   "cell_type": "code",
   "execution_count": 28,
   "metadata": {},
   "outputs": [],
   "source": [
    "def sub(a,b):\n",
    "#     return(a - b)\n",
    "    return a - b"
   ]
  },
  {
   "cell_type": "code",
   "execution_count": 29,
   "metadata": {},
   "outputs": [
    {
     "name": "stdout",
     "output_type": "stream",
     "text": [
      "30\n"
     ]
    }
   ],
   "source": [
    "add(10,20) #print"
   ]
  },
  {
   "cell_type": "code",
   "execution_count": 30,
   "metadata": {},
   "outputs": [
    {
     "data": {
      "text/plain": [
       "-25"
      ]
     },
     "execution_count": 30,
     "metadata": {},
     "output_type": "execute_result"
    }
   ],
   "source": [
    "sub(30,55)#return"
   ]
  },
  {
   "cell_type": "code",
   "execution_count": 31,
   "metadata": {},
   "outputs": [],
   "source": [
    "a = 10\n",
    "b = 20"
   ]
  },
  {
   "cell_type": "code",
   "execution_count": 32,
   "metadata": {},
   "outputs": [
    {
     "data": {
      "text/plain": [
       "(10, 20)"
      ]
     },
     "execution_count": 32,
     "metadata": {},
     "output_type": "execute_result"
    }
   ],
   "source": [
    "a,b"
   ]
  },
  {
   "cell_type": "code",
   "execution_count": 33,
   "metadata": {},
   "outputs": [
    {
     "name": "stdout",
     "output_type": "stream",
     "text": [
      "30\n"
     ]
    }
   ],
   "source": [
    "a = print(30)\n",
    "b = 40"
   ]
  },
  {
   "cell_type": "code",
   "execution_count": 34,
   "metadata": {},
   "outputs": [
    {
     "data": {
      "text/plain": [
       "(None, 40)"
      ]
     },
     "execution_count": 34,
     "metadata": {},
     "output_type": "execute_result"
    }
   ],
   "source": [
    "a,b"
   ]
  },
  {
   "cell_type": "code",
   "execution_count": 35,
   "metadata": {},
   "outputs": [
    {
     "name": "stdout",
     "output_type": "stream",
     "text": [
      "30\n"
     ]
    }
   ],
   "source": [
    "add(10,20) # print"
   ]
  },
  {
   "cell_type": "code",
   "execution_count": 36,
   "metadata": {},
   "outputs": [
    {
     "name": "stdout",
     "output_type": "stream",
     "text": [
      "30\n"
     ]
    }
   ],
   "source": [
    "a1 = add(10,20) # print\n",
    "b1 = sub(55,95) # return"
   ]
  },
  {
   "cell_type": "code",
   "execution_count": 37,
   "metadata": {},
   "outputs": [
    {
     "data": {
      "text/plain": [
       "(None, -40)"
      ]
     },
     "execution_count": 37,
     "metadata": {},
     "output_type": "execute_result"
    }
   ],
   "source": [
    "a1,b1"
   ]
  },
  {
   "cell_type": "code",
   "execution_count": 38,
   "metadata": {},
   "outputs": [],
   "source": [
    "# Print and return\n",
    "# If the ouput of a function need to be saved in a variable \n",
    "# then we need to use return statment\n",
    "# If print is used we can not save the output of a function in a\n",
    "# variable, because the objective of print statment is to print \n",
    "# the output and not save"
   ]
  },
  {
   "cell_type": "code",
   "execution_count": 39,
   "metadata": {},
   "outputs": [],
   "source": [
    "# 1,2,3,4 ---> 4 parameters\n",
    "# [1,2,3,4] ---> 1 parameter, (1,2,3,4) ---> 1 parameter"
   ]
  },
  {
   "cell_type": "code",
   "execution_count": 40,
   "metadata": {},
   "outputs": [
    {
     "name": "stdout",
     "output_type": "stream",
     "text": [
      "15\n"
     ]
    }
   ],
   "source": [
    "a = [1,2,3,4,5]\n",
    "count = 0\n",
    "for i in a: #[1,2,3,4,5]\n",
    "    count = count + i\n",
    "print(count)"
   ]
  },
  {
   "cell_type": "code",
   "execution_count": 41,
   "metadata": {},
   "outputs": [],
   "source": [
    "def add(a): # List or tuple\n",
    "    count = 0\n",
    "    for i in a: \n",
    "        count = count + i\n",
    "    return(count)"
   ]
  },
  {
   "cell_type": "code",
   "execution_count": 42,
   "metadata": {},
   "outputs": [
    {
     "data": {
      "text/plain": [
       "6"
      ]
     },
     "execution_count": 42,
     "metadata": {},
     "output_type": "execute_result"
    }
   ],
   "source": [
    "add([1,2,3])"
   ]
  },
  {
   "cell_type": "code",
   "execution_count": 43,
   "metadata": {},
   "outputs": [
    {
     "data": {
      "text/plain": [
       "179"
      ]
     },
     "execution_count": 43,
     "metadata": {},
     "output_type": "execute_result"
    }
   ],
   "source": [
    "add([10,35,55,79])"
   ]
  },
  {
   "cell_type": "code",
   "execution_count": 44,
   "metadata": {},
   "outputs": [
    {
     "data": {
      "text/plain": [
       "15"
      ]
     },
     "execution_count": 44,
     "metadata": {},
     "output_type": "execute_result"
    }
   ],
   "source": [
    "sum_ = add([1,2,3,4,5])\n",
    "sum_"
   ]
  },
  {
   "cell_type": "code",
   "execution_count": 45,
   "metadata": {},
   "outputs": [
    {
     "name": "stdout",
     "output_type": "stream",
     "text": [
      "15\n"
     ]
    }
   ],
   "source": [
    "def add(a): # List or tuple\n",
    "    count = 0\n",
    "    for i in a: \n",
    "        count = count + i\n",
    "print(count)"
   ]
  },
  {
   "cell_type": "code",
   "execution_count": 46,
   "metadata": {},
   "outputs": [],
   "source": [
    "z = add([1,2,3,4,5])"
   ]
  },
  {
   "cell_type": "code",
   "execution_count": 47,
   "metadata": {},
   "outputs": [
    {
     "name": "stdout",
     "output_type": "stream",
     "text": [
      "None\n"
     ]
    }
   ],
   "source": [
    "print(z)"
   ]
  },
  {
   "cell_type": "code",
   "execution_count": 72,
   "metadata": {},
   "outputs": [
    {
     "data": {
      "text/plain": [
       "(30, -10, 200)"
      ]
     },
     "execution_count": 72,
     "metadata": {},
     "output_type": "execute_result"
    }
   ],
   "source": [
    "def arithmetic(a,b):\n",
    "    add = a+b\n",
    "    sub = a-b\n",
    "    mul = a * b\n",
    "    return add, sub, mul\n",
    "a= arithmetic(10,20)  #if just one variable, it returns the output as a tuple, is we use same\n",
    "a                     #number of variables as it is defined, then it returns values as comma-\n",
    "                      #separated values\n"
   ]
  },
  {
   "cell_type": "code",
   "execution_count": 70,
   "metadata": {},
   "outputs": [
    {
     "data": {
      "text/plain": [
       "46"
      ]
     },
     "execution_count": 70,
     "metadata": {},
     "output_type": "execute_result"
    }
   ],
   "source": [
    "def add(a,b):\n",
    "    c = a + b\n",
    "    return c #breaks out of the funciton \n",
    "    d = a * b\n",
    "    return(c,d)\n",
    "add(34,12)"
   ]
  },
  {
   "cell_type": "code",
   "execution_count": 62,
   "metadata": {},
   "outputs": [
    {
     "data": {
      "text/plain": [
       "([1, 3], [2, 4])"
      ]
     },
     "execution_count": 62,
     "metadata": {},
     "output_type": "execute_result"
    }
   ],
   "source": [
    "def odd_even(a):\n",
    "    even = []\n",
    "    odd = []\n",
    "    for i in a:\n",
    "        if i % 2 == 0:\n",
    "            even.append(i)\n",
    "        else:\n",
    "            odd.append(i)\n",
    "    return odd, even\n",
    "a = odd_even([1,2,3,4])\n",
    "a"
   ]
  },
  {
   "cell_type": "code",
   "execution_count": 73,
   "metadata": {},
   "outputs": [],
   "source": [
    "def calc(a,b):\n",
    "    return(a,b)"
   ]
  },
  {
   "cell_type": "code",
   "execution_count": 74,
   "metadata": {},
   "outputs": [
    {
     "data": {
      "text/plain": [
       "(10, 20)"
      ]
     },
     "execution_count": 74,
     "metadata": {},
     "output_type": "execute_result"
    }
   ],
   "source": [
    "calc(10,20)"
   ]
  },
  {
   "cell_type": "code",
   "execution_count": 75,
   "metadata": {},
   "outputs": [
    {
     "ename": "TypeError",
     "evalue": "calc() got multiple values for argument 'a'",
     "output_type": "error",
     "traceback": [
      "\u001b[1;31m---------------------------------------------------------------------------\u001b[0m",
      "\u001b[1;31mTypeError\u001b[0m                                 Traceback (most recent call last)",
      "Input \u001b[1;32mIn [75]\u001b[0m, in \u001b[0;36m<cell line: 1>\u001b[1;34m()\u001b[0m\n\u001b[1;32m----> 1\u001b[0m \u001b[43mcalc\u001b[49m\u001b[43m(\u001b[49m\u001b[38;5;241;43m50\u001b[39;49m\u001b[43m,\u001b[49m\u001b[43ma\u001b[49m\u001b[38;5;241;43m=\u001b[39;49m\u001b[38;5;241;43m100\u001b[39;49m\u001b[43m)\u001b[49m\n",
      "\u001b[1;31mTypeError\u001b[0m: calc() got multiple values for argument 'a'"
     ]
    }
   ],
   "source": [
    "calc(50,a=100)"
   ]
  },
  {
   "cell_type": "code",
   "execution_count": 76,
   "metadata": {},
   "outputs": [
    {
     "ename": "SyntaxError",
     "evalue": "positional argument follows keyword argument (1616495691.py, line 1)",
     "output_type": "error",
     "traceback": [
      "\u001b[1;36m  Input \u001b[1;32mIn [76]\u001b[1;36m\u001b[0m\n\u001b[1;33m    calc(a=50, 100)\u001b[0m\n\u001b[1;37m                  ^\u001b[0m\n\u001b[1;31mSyntaxError\u001b[0m\u001b[1;31m:\u001b[0m positional argument follows keyword argument\n"
     ]
    }
   ],
   "source": [
    "calc(a=50, 100)"
   ]
  },
  {
   "cell_type": "code",
   "execution_count": 80,
   "metadata": {},
   "outputs": [],
   "source": [
    "def wish(msg,name='Guest'):\n",
    "    return(name+msg)"
   ]
  },
  {
   "cell_type": "code",
   "execution_count": 84,
   "metadata": {},
   "outputs": [
    {
     "name": "stdout",
     "output_type": "stream",
     "text": [
      "Guest Hello\n"
     ]
    }
   ],
   "source": [
    "wish(' Hello') #by default, it takes the parameter passed while calling as the value of msg \n",
    "               # argument, and name is automatically 'Guest'"
   ]
  },
  {
   "cell_type": "code",
   "execution_count": 87,
   "metadata": {},
   "outputs": [
    {
     "name": "stdout",
     "output_type": "stream",
     "text": [
      "Veer, Hello!\n"
     ]
    }
   ],
   "source": [
    "wish(' Hello!','Veer,') #while calling, if we use a positional argument for the pre-defined \n",
    "                        #name argument, it will get replaced. It is important to \n",
    "                        # type non-default arguments b4 default arguments whule defining"
   ]
  },
  {
   "cell_type": "code",
   "execution_count": null,
   "metadata": {},
   "outputs": [],
   "source": [
    "#It is important to type non-default arguments b4 default arguments while defining"
   ]
  },
  {
   "cell_type": "code",
   "execution_count": 61,
   "metadata": {},
   "outputs": [],
   "source": [
    "# 1 Write a function that takes in alphanumeric values and take out only the digits in it\n",
    "# use return statement to save the digits to a variable\n",
    "\n",
    "# 2 Write a function that takes in a alphanumeric values and \n",
    "# print only the alphabets in it\n",
    "# use return statement to save the alphabets to a variable\n",
    "\n",
    "# 3 a = ['aba', 'bab', 'India', 'America', 'Hi', 'Hello']\n",
    "# Using the above list, check if the length of each word is > 2 and \n",
    "#first charcter and last character are same\n",
    "# If the above two conditions are satisfied, then print that word \n",
    "#else print the first character of the word\n",
    "# use return statement to save the outputs to a variable"
   ]
  },
  {
   "cell_type": "markdown",
   "metadata": {},
   "source": [
    "# Local Variable and Global Variable"
   ]
  },
  {
   "cell_type": "code",
   "execution_count": 2,
   "metadata": {},
   "outputs": [
    {
     "data": {
      "text/plain": [
       "100"
      ]
     },
     "execution_count": 2,
     "metadata": {},
     "output_type": "execute_result"
    }
   ],
   "source": [
    "a = 10\n",
    "def square():\n",
    "    return a * a # 10 * 10 ---> 100\n",
    "square()\n",
    "\n",
    "# Variable(s) created outside the function can be used inside the function"
   ]
  },
  {
   "cell_type": "code",
   "execution_count": 3,
   "metadata": {},
   "outputs": [
    {
     "data": {
      "text/plain": [
       "100"
      ]
     },
     "execution_count": 3,
     "metadata": {},
     "output_type": "execute_result"
    }
   ],
   "source": [
    "squared_val = square()\n",
    "squared_val"
   ]
  },
  {
   "cell_type": "code",
   "execution_count": 4,
   "metadata": {},
   "outputs": [
    {
     "data": {
      "text/plain": [
       "10"
      ]
     },
     "execution_count": 4,
     "metadata": {},
     "output_type": "execute_result"
    }
   ],
   "source": [
    "a # variable is present outside the function"
   ]
  },
  {
   "cell_type": "code",
   "execution_count": 5,
   "metadata": {},
   "outputs": [
    {
     "data": {
      "text/plain": [
       "12000"
      ]
     },
     "execution_count": 5,
     "metadata": {},
     "output_type": "execute_result"
    }
   ],
   "source": [
    "def arithmetic_operation():\n",
    "    a = 20\n",
    "    f = 30\n",
    "    return a * a * f\n",
    "arithmetic_operation()\n",
    "# print(a)\n",
    "# print(f)\n",
    "# Variables created inside the function cannot be accessed outside the function"
   ]
  },
  {
   "cell_type": "code",
   "execution_count": 6,
   "metadata": {},
   "outputs": [
    {
     "data": {
      "text/plain": [
       "10"
      ]
     },
     "execution_count": 6,
     "metadata": {},
     "output_type": "execute_result"
    }
   ],
   "source": [
    "a"
   ]
  },
  {
   "cell_type": "code",
   "execution_count": 65,
   "metadata": {},
   "outputs": [
    {
     "ename": "UnboundLocalError",
     "evalue": "local variable 'a' referenced before assignment",
     "output_type": "error",
     "traceback": [
      "\u001b[1;31m---------------------------------------------------------------------------\u001b[0m",
      "\u001b[1;31mUnboundLocalError\u001b[0m                         Traceback (most recent call last)",
      "Input \u001b[1;32mIn [65]\u001b[0m, in \u001b[0;36m<cell line: 4>\u001b[1;34m()\u001b[0m\n\u001b[0;32m      2\u001b[0m     a \u001b[38;5;241m=\u001b[39m a \u001b[38;5;241m+\u001b[39m \u001b[38;5;241m10\u001b[39m \u001b[38;5;66;03m# Trying to modify the value of a\u001b[39;00m\n\u001b[0;32m      3\u001b[0m     \u001b[38;5;28;01mreturn\u001b[39;00m a \u001b[38;5;241m*\u001b[39m a\n\u001b[1;32m----> 4\u001b[0m val \u001b[38;5;241m=\u001b[39m \u001b[43maddition\u001b[49m\u001b[43m(\u001b[49m\u001b[43m)\u001b[49m\n\u001b[0;32m      5\u001b[0m val\n",
      "Input \u001b[1;32mIn [65]\u001b[0m, in \u001b[0;36maddition\u001b[1;34m()\u001b[0m\n\u001b[0;32m      1\u001b[0m \u001b[38;5;28;01mdef\u001b[39;00m \u001b[38;5;21maddition\u001b[39m():\n\u001b[1;32m----> 2\u001b[0m     a \u001b[38;5;241m=\u001b[39m \u001b[43ma\u001b[49m \u001b[38;5;241m+\u001b[39m \u001b[38;5;241m10\u001b[39m \u001b[38;5;66;03m# Trying to modify the value of a\u001b[39;00m\n\u001b[0;32m      3\u001b[0m     \u001b[38;5;28;01mreturn\u001b[39;00m a \u001b[38;5;241m*\u001b[39m a\n",
      "\u001b[1;31mUnboundLocalError\u001b[0m: local variable 'a' referenced before assignment"
     ]
    }
   ],
   "source": [
    "def addition():\n",
    "    a = a + 10 # Trying to modify the value of a\n",
    "    return a * a\n",
    "val = addition()\n",
    "val\n",
    "\n",
    "# Variable created outside function can be used inside the function but \n",
    "# cannot be modified"
   ]
  },
  {
   "cell_type": "code",
   "execution_count": 7,
   "metadata": {},
   "outputs": [
    {
     "name": "stdout",
     "output_type": "stream",
     "text": [
      "10\n"
     ]
    },
    {
     "data": {
      "text/plain": [
       "400"
      ]
     },
     "execution_count": 7,
     "metadata": {},
     "output_type": "execute_result"
    }
   ],
   "source": [
    "print(a)\n",
    "def square():\n",
    "    global a\n",
    "    a = a + 10 # Permanent change\n",
    "    return(a * a)\n",
    "square()"
   ]
  },
  {
   "cell_type": "code",
   "execution_count": null,
   "metadata": {},
   "outputs": [],
   "source": [
    "a"
   ]
  },
  {
   "cell_type": "code",
   "execution_count": null,
   "metadata": {},
   "outputs": [],
   "source": [
    "var = square()\n",
    "var"
   ]
  },
  {
   "cell_type": "code",
   "execution_count": null,
   "metadata": {},
   "outputs": [],
   "source": [
    "# Local variable: Variable that are created inside the function, \n",
    "# it will not have any effect outside the function. \n",
    "# In this, we can use the variable that is present outside \n",
    "# the function.\n",
    "\n",
    "# Global variable: We can make use of the variables outside the function \n",
    "# and also we can modify them, outside the function, and not inside the function"
   ]
  },
  {
   "cell_type": "markdown",
   "metadata": {},
   "source": [
    "# `*args` and `**kwargs`\n",
    "\n",
    "Work with Python long enough, and eventually you will encounter `*args` and `**kwargs`. These strange terms show up as parameters in function definitions. What do they do? Let's review a simple function:"
   ]
  },
  {
   "cell_type": "code",
   "execution_count": 8,
   "metadata": {},
   "outputs": [],
   "source": [
    "def sum_(a,b):\n",
    "    return sum((a,b))"
   ]
  },
  {
   "cell_type": "code",
   "execution_count": 9,
   "metadata": {},
   "outputs": [
    {
     "data": {
      "text/plain": [
       "100"
      ]
     },
     "execution_count": 9,
     "metadata": {},
     "output_type": "execute_result"
    }
   ],
   "source": [
    "sum_(40,60)"
   ]
  },
  {
   "cell_type": "code",
   "execution_count": 10,
   "metadata": {},
   "outputs": [
    {
     "ename": "TypeError",
     "evalue": "sum_() takes 2 positional arguments but 3 were given",
     "output_type": "error",
     "traceback": [
      "\u001b[1;31m---------------------------------------------------------------------------\u001b[0m",
      "\u001b[1;31mTypeError\u001b[0m                                 Traceback (most recent call last)",
      "Input \u001b[1;32mIn [10]\u001b[0m, in \u001b[0;36m<cell line: 1>\u001b[1;34m()\u001b[0m\n\u001b[1;32m----> 1\u001b[0m \u001b[43msum_\u001b[49m\u001b[43m(\u001b[49m\u001b[38;5;241;43m1\u001b[39;49m\u001b[43m,\u001b[49m\u001b[38;5;241;43m2\u001b[39;49m\u001b[43m,\u001b[49m\u001b[38;5;241;43m3\u001b[39;49m\u001b[43m)\u001b[49m\n",
      "\u001b[1;31mTypeError\u001b[0m: sum_() takes 2 positional arguments but 3 were given"
     ]
    }
   ],
   "source": [
    "sum_(1,2,3)"
   ]
  },
  {
   "cell_type": "markdown",
   "metadata": {},
   "source": [
    "Obviously this is not a very efficient solution, and that's where `*args` comes in.\n",
    "\n",
    "## `*args`\n",
    "\n",
    "When a function parameter starts with an asterisk, it allows for an *arbitrary number* of arguments, and the function takes them in as a tuple of values. Rewriting the above function:"
   ]
  },
  {
   "cell_type": "code",
   "execution_count": 11,
   "metadata": {},
   "outputs": [
    {
     "name": "stdout",
     "output_type": "stream",
     "text": [
      "468\n",
      "60\n",
      "40\n",
      "0\n"
     ]
    }
   ],
   "source": [
    "# *args ---> aruguments - Any number of parameters\n",
    "# **kwargs ---> keyword arguments\n",
    "\n",
    "# *a, **a\n",
    "\n",
    "def myfunc(*args):\n",
    "    return sum((args)) # note the syntax\n",
    "print(myfunc(40,20,30,25,55,55,66,87,90))\n",
    "print(myfunc(40,20))\n",
    "print(myfunc(40))\n",
    "print(myfunc())"
   ]
  },
  {
   "cell_type": "markdown",
   "metadata": {},
   "source": [
    "Notice how passing the keyword \"args\" into the `sum()` function did the same thing as a tuple of arguments.\n",
    "\n",
    "It is worth noting that the word \"args\" is itself arbitrary - any word will do so long as it's preceded by an asterisk.\n",
    "\n",
    "## `**kwargs`\n",
    "\n",
    "Similarly, Python offers a way to handle arbitrary numbers of *keyworded* arguments. Instead of creating a tuple of values, `**kwargs` builds a dictionary of key/value pairs. For example:"
   ]
  },
  {
   "cell_type": "code",
   "execution_count": 13,
   "metadata": {},
   "outputs": [
    {
     "data": {
      "text/plain": [
       "314.0"
      ]
     },
     "execution_count": 13,
     "metadata": {},
     "output_type": "execute_result"
    }
   ],
   "source": [
    "def area_of_circle(rad,pi = 3.14):\n",
    "    return pi*rad**2\n",
    "area_of_circle(10)"
   ]
  },
  {
   "cell_type": "code",
   "execution_count": 14,
   "metadata": {},
   "outputs": [
    {
     "name": "stdout",
     "output_type": "stream",
     "text": [
      "10\n",
      "-98\n",
      "-180\n"
     ]
    }
   ],
   "source": [
    "def sub(a,b = 20):\n",
    "    return (b - a)\n",
    "print(sub(10))\n",
    "print(sub(100,2)) # temporary\n",
    "print(sub(200))"
   ]
  },
  {
   "cell_type": "code",
   "execution_count": 17,
   "metadata": {},
   "outputs": [],
   "source": [
    "def myfunc(**kwargs):\n",
    "    if 'fruits' in kwargs:\n",
    "        print(f\"My favorite fruit is {kwargs['fruits']}\")\n",
    "    else:\n",
    "        print(\"I don't like fruit\")"
   ]
  },
  {
   "cell_type": "code",
   "execution_count": 18,
   "metadata": {},
   "outputs": [
    {
     "name": "stdout",
     "output_type": "stream",
     "text": [
      "My favorite fruit is jack fruit\n"
     ]
    }
   ],
   "source": [
    "myfunc(fruit = 'apple', fruits = 'jack fruit')"
   ]
  },
  {
   "cell_type": "markdown",
   "metadata": {},
   "source": [
    "## `*args` and `**kwargs` combined\n",
    "\n",
    "You can pass `*args` and `**kwargs` into the same function, but `*args` have to appear before `**kwargs`"
   ]
  },
  {
   "cell_type": "code",
   "execution_count": 2,
   "metadata": {},
   "outputs": [],
   "source": [
    "def myfunc(*args, **kwargs):\n",
    "    if 'fruit' and 'juice' in kwargs:\n",
    "        print(f\"I like {' and '.join(args)} and my favorite fruit is {kwargs['fruit']}\")\n",
    "        print(f\"May I have some {kwargs['juice']} juice?\")\n",
    "    else:\n",
    "        pass"
   ]
  },
  {
   "cell_type": "code",
   "execution_count": 3,
   "metadata": {
    "scrolled": true
   },
   "outputs": [
    {
     "name": "stdout",
     "output_type": "stream",
     "text": [
      "I like eggs and spam and my favorite fruit is banana\n",
      "May I have some orange juice?\n"
     ]
    }
   ],
   "source": [
    "myfunc('eggs','spam', fruit = 'banana',juice = 'orange')"
   ]
  },
  {
   "cell_type": "code",
   "execution_count": 21,
   "metadata": {},
   "outputs": [
    {
     "ename": "SyntaxError",
     "evalue": "positional argument follows keyword argument (934058259.py, line 1)",
     "output_type": "error",
     "traceback": [
      "\u001b[1;36m  Input \u001b[1;32mIn [21]\u001b[1;36m\u001b[0m\n\u001b[1;33m    myfunc(fruit = 10,juice = 'orange', 'eggs','spam')\u001b[0m\n\u001b[1;37m                                                     ^\u001b[0m\n\u001b[1;31mSyntaxError\u001b[0m\u001b[1;31m:\u001b[0m positional argument follows keyword argument\n"
     ]
    }
   ],
   "source": [
    "myfunc(fruit = 10,juice = 'orange', 'eggs','spam')"
   ]
  },
  {
   "cell_type": "markdown",
   "metadata": {},
   "source": [
    "Placing keyworded arguments ahead of positional arguments raises an exception:"
   ]
  },
  {
   "cell_type": "code",
   "execution_count": 4,
   "metadata": {},
   "outputs": [],
   "source": [
    "def func(*args,**kwargs):\n",
    "    pass"
   ]
  },
  {
   "cell_type": "code",
   "execution_count": 5,
   "metadata": {},
   "outputs": [
    {
     "ename": "SyntaxError",
     "evalue": "invalid syntax (3265672323.py, line 1)",
     "output_type": "error",
     "traceback": [
      "\u001b[1;36m  Input \u001b[1;32mIn [5]\u001b[1;36m\u001b[0m\n\u001b[1;33m    def func(**kwargs, *args):\u001b[0m\n\u001b[1;37m                       ^\u001b[0m\n\u001b[1;31mSyntaxError\u001b[0m\u001b[1;31m:\u001b[0m invalid syntax\n"
     ]
    }
   ],
   "source": [
    "def func(**kwargs, *args):\n",
    "    pass"
   ]
  },
  {
   "cell_type": "code",
   "execution_count": null,
   "metadata": {},
   "outputs": [],
   "source": [
    "# Common:\n",
    "\n",
    "# https://www.techbeamers.com/python-programming-questions-list-tuple-dictionary/\n",
    "# https://www.datacamp.com/community/tutorials/18-most-common-python-list-questions-learn-python\n",
    "\n",
    "# List:\n",
    "\n",
    "# https://www.w3resource.com/python-exercises/list/\n",
    "# https://www.geeksforgeeks.org/python-list/\n",
    "\n",
    "# create an empty list and append values using iteration\n",
    "# Create a list and access elements in it\n",
    "# Create a list and remove elements from list\n",
    "# Create a list and slice elements in it\n",
    "# Write a Python program to sum all the items in a list using function\n",
    "# Write a Python program to multiply all the items in a list using function\n",
    "# Get the largest number from a list using function\n",
    "# Remove duplicates from a list\n",
    "# Check a list is empty or not\n",
    "# Get the frequency of the elements in a list\n",
    "# a = [1,1,2,2,2,3,3,3,3,4,4,4,4,4]\n",
    "# Expected output: {1:2,2:3,3:4,4:5}\n",
    "# Count the number of elements in a list within a specified range\n",
    "# Difference between the two lists\n",
    "\n",
    "# Dictionary:\n",
    "\n",
    "# https://www.geeksforgeeks.org/python-dictionary/\n",
    "# https://www.w3resource.com/python-exercises/dictionary/\n",
    "\n",
    "# Create a nested dictionary\n",
    "# Create a dict, add elements to it, add set of values to a key,\n",
    "# Update existing Key's Value, Adding Nested Key value to Dictionary\n",
    "# Create a dict with keys and values, access key 1, access using GET function\n",
    "# Create a nested dict with keys and values, delete key 2,\n",
    "# delete a key from nested dict, use POP function, delete entire dict \n",
    "# Check a dictionary is empty or not\n",
    "# Add a key to a dictionary\n",
    "# Check if a given key already exists in a dictionary\n",
    "# Iterate over dictionaries using for loops\n",
    "# Sum all the items in a dictionary\n",
    "# Multiply all the items in a dictionary\n",
    "# Remove a key from a dictionary\n",
    "# Get the maximum and minimum value in a dictionary\n",
    "# Find the highest 3 values in a dictionary\n",
    "# Sort a list alphabetically in a dictionary\n",
    "\n",
    "# Tuple:\n",
    "\n",
    "# https://www.geeksforgeeks.org/tuples-in-python/\n",
    "# https://www.w3resource.com/python-exercises/tuple/"
   ]
  },
  {
   "cell_type": "markdown",
   "metadata": {},
   "source": [
    "# Lambda Expression"
   ]
  },
  {
   "cell_type": "code",
   "execution_count": null,
   "metadata": {},
   "outputs": [],
   "source": [
    "def square(n):\n",
    "    return n * n\n",
    "square(7), square(10)"
   ]
  },
  {
   "cell_type": "code",
   "execution_count": null,
   "metadata": {},
   "outputs": [],
   "source": [
    "# lambda variable_name : expression(operation to be performed)\n",
    "g = lambda val : val * val # val ** 2"
   ]
  },
  {
   "cell_type": "code",
   "execution_count": null,
   "metadata": {},
   "outputs": [],
   "source": [
    "g(7), g(10)"
   ]
  },
  {
   "cell_type": "code",
   "execution_count": null,
   "metadata": {},
   "outputs": [],
   "source": [
    "def add(a,b):\n",
    "    return a+b\n",
    "add(10,20)"
   ]
  },
  {
   "cell_type": "code",
   "execution_count": null,
   "metadata": {},
   "outputs": [],
   "source": [
    "add = lambda a,b : a+b\n",
    "add(10,20)"
   ]
  },
  {
   "cell_type": "code",
   "execution_count": 6,
   "metadata": {},
   "outputs": [
    {
     "name": "stdout",
     "output_type": "stream",
     "text": [
      "5\n"
     ]
    }
   ],
   "source": [
    "#lambda functions are best used within user-defined functions\n",
    "def my_func(x):\n",
    "    return(lambda y:x+y)\n",
    "t=my_func(3) #here, x is assigned the value of 3\n",
    "print(t(2))  #now t(2) says that value of y is 2\n",
    "\n",
    "# after calling the use defined higher order function and passing\n",
    "# the value, first x is assigned a value, then python calls the lambda function\n",
    "# and the expression inside the lambda funciton is performed"
   ]
  },
  {
   "cell_type": "markdown",
   "metadata": {},
   "source": [
    "# map, filter, reduce"
   ]
  },
  {
   "cell_type": "markdown",
   "metadata": {},
   "source": [
    "## Map"
   ]
  },
  {
   "cell_type": "code",
   "execution_count": 24,
   "metadata": {},
   "outputs": [],
   "source": [
    "def square(*a):\n",
    "    for i in a:\n",
    "        b=i*i\n",
    "    return b    "
   ]
  },
  {
   "cell_type": "code",
   "execution_count": 26,
   "metadata": {},
   "outputs": [
    {
     "data": {
      "text/plain": [
       "[1, 4, 9, 16, 25, 36, 49, 64, 81, 100]"
      ]
     },
     "execution_count": 26,
     "metadata": {},
     "output_type": "execute_result"
    }
   ],
   "source": [
    "#    map(function, values)\n",
    "list(map(square  , [1,2,3,4,5,6,7,8,9,10]))"
   ]
  },
  {
   "cell_type": "code",
   "execution_count": 27,
   "metadata": {},
   "outputs": [
    {
     "data": {
      "text/plain": [
       "[1, 4, 9, 16, 25, 36, 49, 64, 81, 100]"
      ]
     },
     "execution_count": 27,
     "metadata": {},
     "output_type": "execute_result"
    }
   ],
   "source": [
    "a = [1,2,3,4,5,6,7,8,9,10]\n",
    "list(map(square, a))"
   ]
  },
  {
   "cell_type": "code",
   "execution_count": null,
   "metadata": {},
   "outputs": [],
   "source": [
    "list(map(lambda x : x * x, [1,2,3,4,5,6,7,8,9,10]))"
   ]
  },
  {
   "cell_type": "code",
   "execution_count": 40,
   "metadata": {},
   "outputs": [
    {
     "data": {
      "text/plain": [
       "[False, False, False, True, False, False]"
      ]
     },
     "execution_count": 40,
     "metadata": {},
     "output_type": "execute_result"
    }
   ],
   "source": [
    "list2=[1,2,3,4,5,6]\n",
    "new_list2=list(map(lambda i:i/2==2,list2))\n",
    "new_list2"
   ]
  },
  {
   "cell_type": "markdown",
   "metadata": {},
   "source": [
    "## Filter"
   ]
  },
  {
   "cell_type": "code",
   "execution_count": 8,
   "metadata": {},
   "outputs": [
    {
     "name": "stdout",
     "output_type": "stream",
     "text": [
      "[2, 4, 6, 8, 10]\n"
     ]
    }
   ],
   "source": [
    "# filter(function, values)\n",
    "def even1(n):\n",
    "    if n % 2 == 0:\n",
    "        return(n)\n",
    "l=list(filter(even1,[1,2,3,4,5,6,7,8,9,10])) #general filter usage filter(function, iterables)\n",
    "print(l)"
   ]
  },
  {
   "cell_type": "code",
   "execution_count": 15,
   "metadata": {},
   "outputs": [
    {
     "data": {
      "text/plain": [
       "[2, 4, 6, 8, 10]"
      ]
     },
     "execution_count": 15,
     "metadata": {},
     "output_type": "execute_result"
    }
   ],
   "source": [
    "def e():\n",
    "    my_list=[1,2,3,4,5,6,7,8,9,10]\n",
    "    new_list=list(filter(lambda i:(i%2==0),my_list))\n",
    "    return new_list      #f u n c t i o n , values\n",
    "e()"
   ]
  },
  {
   "cell_type": "code",
   "execution_count": 14,
   "metadata": {},
   "outputs": [
    {
     "data": {
      "text/plain": [
       "[2, 4, 6, 8, 10]"
      ]
     },
     "execution_count": 14,
     "metadata": {},
     "output_type": "execute_result"
    }
   ],
   "source": [
    "list(filter(lambda x : x % 2 == 0, [1,2,3,4,5,6,7,8,9,10])) #shortest way"
   ]
  },
  {
   "cell_type": "markdown",
   "metadata": {},
   "source": [
    "## Reduce"
   ]
  },
  {
   "cell_type": "code",
   "execution_count": null,
   "metadata": {},
   "outputs": [],
   "source": [
    "a = [1,2,3,4,5]\n",
    "count = 0\n",
    "for i in a:\n",
    "    count = count + i\n",
    "count"
   ]
  },
  {
   "cell_type": "code",
   "execution_count": 42,
   "metadata": {},
   "outputs": [
    {
     "data": {
      "text/plain": [
       "15"
      ]
     },
     "execution_count": 42,
     "metadata": {},
     "output_type": "execute_result"
    }
   ],
   "source": [
    "from functools import reduce # or 'from functools import *' or 'import functools'\n",
    "# from a package called functools we are importing a function called reduce\n",
    "# reduce(f u n c t i o n, values)\n",
    "reduce(lambda x,y: x + y, [1,2,3,4,5])\n",
    "# 1 2 3 4 5\n",
    "# 3 3 4 5\n",
    "# 6 4 5\n",
    "# 10 5\n",
    "# 15"
   ]
  },
  {
   "cell_type": "code",
   "execution_count": 41,
   "metadata": {},
   "outputs": [],
   "source": [
    "# numbers = [1, 2, 3] add 1 to each value using lambda expression and list comprehension\n",
    "# Write a Python code using lambda expression to illustrate cube of a number\n",
    "# Write a Python code using lambda expression to get only the odd number of the below values\n",
    "    # li = [5, 7, 22, 97, 54, 62, 77, 23, 73, 61]\n",
    "# Write a Python code using lambda expression to get the square root of the below values\n",
    "    # li = [5, 7, 22, 97, 54, 62, 77, 23, 73, 61]\n",
    "# Write a Python code using lambda expression to find intersection of two arrays using lambda\n",
    "    # arr1 = [1, 3, 4, 5, 7] \n",
    "    # arr2 = [2, 3, 5, 6]\n",
    "# Function to rearrange positive and negative elements\n",
    "    # arr = [12, 11, -13, -5, 6, -7, 5, -3, -6] \n",
    "    # Expected output [-13, -5, -7, -3, -6, 12, 11, 6, 5]\n",
    "# Write a Python program to count the even in a given array of integers using Lambda\n",
    "# Write a Python program to add two given lists using map and lambda.\n",
    "#     Original list:\n",
    "#     [1, 2, 3]\n",
    "#     [4, 5, 6]\n",
    "#     Result: after adding two list\n",
    "#     [5, 7, 9]\n",
    "# Write a Python program to find numbers divisible by nineteen or thirteen using Lambda\n",
    "#     [19, 65, 57, 39, 152, 639, 121, 44, 90, 190]\n",
    "#     Numbers of the above list divisible by nineteen or thirteen:\n",
    "#     [19, 65, 57, 39, 152, 190]\n",
    "# Write a Python program to find palindromes in a given list of strings using Lambda.\n",
    "#     Orginal list of strings:\n",
    "#     \n",
    "#     List of palindromes:\n",
    "#     ['php', 'aaa']"
   ]
  },
  {
   "cell_type": "markdown",
   "metadata": {},
   "source": [
    "# [Quiz - Basic Data Types in Python](https://realpython.com/quizzes/python-data-types/)\n",
    "\n",
    "# [Quiz - How to run python scripts](https://realpython.com/quizzes/run-python-scripts/)\n",
    "# [Quiz Data Types](https://realpython.com/quizzes/python-data-types/)\n",
    "# [Quiz - String](https://realpython.com/quizzes/python-split-strings/)\n",
    "# [Quiz - Rounding Numbers in Python](https://realpython.com/quizzes/python-rounding/)\n",
    "# [Quiz - Python Lists and Tuples](https://realpython.com/quizzes/python-lists-tuples/)\n",
    "\n",
    "# [Quiz - Dictionary](https://realpython.com/quizzes/python-dicts/)\n",
    "# [Quiz - Set](https://realpython.com/quizzes/python-sets/)\n",
    "# [Quiz - Python Strings and Character Data](https://realpython.com/quizzes/python-strings/)\n",
    "\n",
    "# [Quiz - Variables](https://realpython.com/quizzes/python-variables/)\n",
    "\n",
    "# [Quiz - Looping](https://realpython.com/quizzes/python-while-loop/)\n",
    "\n",
    "# [Quiz - Python Operators and Expressions](https://realpython.com/quizzes/python-operators-expressions/)\n",
    "# [Quiz - Python Program Structure](https://realpython.com/quizzes/python-program-structure/)\n",
    "# [Quiz - Conditional Statements](https://realpython.com/quizzes/python-conditional-statements/)\n",
    "# [Dictionary Iteration](https://realpython.com/quizzes/python-dictionary-iteration/)\n",
    "# [Quiz - Lambda Expressions](https://realpython.com/quizzes/python-lambda/)\n"
   ]
  },
  {
   "cell_type": "markdown",
   "metadata": {},
   "source": [
    "# [Quiz](https://www.tutorialspoint.com/python/python_online_quiz.htm)\n",
    "# [Quiz](https://www.w3schools.com/python/python_quiz.asp)\n",
    "# [Quiz](https://data-flair.training/blogs/python-online-quiz/)"
   ]
  }
 ],
 "metadata": {
  "kernelspec": {
   "display_name": "Python 3 (ipykernel)",
   "language": "python",
   "name": "python3"
  },
  "language_info": {
   "codemirror_mode": {
    "name": "ipython",
    "version": 3
   },
   "file_extension": ".py",
   "mimetype": "text/x-python",
   "name": "python",
   "nbconvert_exporter": "python",
   "pygments_lexer": "ipython3",
   "version": "3.9.12"
  }
 },
 "nbformat": 4,
 "nbformat_minor": 4
}
