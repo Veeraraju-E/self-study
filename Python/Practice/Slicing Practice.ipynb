{
 "cells": [
  {
   "cell_type": "markdown",
   "id": "e7b68843",
   "metadata": {},
   "source": [
    "# Slicing\n",
    "(change code to markdown, then # and then leave a space)"
   ]
  },
  {
   "cell_type": "code",
   "execution_count": 2,
   "id": "9e071402",
   "metadata": {},
   "outputs": [
    {
     "name": "stdout",
     "output_type": "stream",
     "text": [
      "slice(2, 4, None)\n"
     ]
    }
   ],
   "source": [
    "string=\"MyString\"\n",
    "s1=slice(2,4)\n",
    "print(s1)"
   ]
  },
  {
   "cell_type": "code",
   "execution_count": 2,
   "id": "37809f9b",
   "metadata": {},
   "outputs": [
    {
     "name": "stdout",
     "output_type": "stream",
     "text": [
      "St\n"
     ]
    }
   ],
   "source": [
    "print(string[s1])\n",
    "# note the index numbers and the syntax"
   ]
  },
  {
   "cell_type": "code",
   "execution_count": 4,
   "id": "ba6170a7",
   "metadata": {},
   "outputs": [
    {
     "name": "stdout",
     "output_type": "stream",
     "text": [
      "MyS\n"
     ]
    }
   ],
   "source": [
    "s2=slice(3)\n",
    "print(string[s2])\n",
    "#till index-num 3-1"
   ]
  },
  {
   "cell_type": "code",
   "execution_count": 3,
   "id": "9938d905",
   "metadata": {},
   "outputs": [
    {
     "name": "stdout",
     "output_type": "stream",
     "text": [
      "yti\n",
      "yt\n"
     ]
    }
   ],
   "source": [
    "s3=slice(1,6,2)\n",
    "print(string[s3])\n",
    "s4=slice(1,5,2)\n",
    "print(string[s4])"
   ]
  },
  {
   "cell_type": "code",
   "execution_count": 6,
   "id": "2dbb7963",
   "metadata": {},
   "outputs": [
    {
     "name": "stdout",
     "output_type": "stream",
     "text": [
      "yti\n",
      "ytig\n"
     ]
    }
   ],
   "source": [
    "s5=slice(1,7,2)\n",
    "print(string[s5])\n",
    "#o/p--> yti because the last indexnum is stopping at 6th indexnum\n",
    "s6=slice(1,8,2)\n",
    "print(string[s6])\n",
    "#hence, end index is always end index-1, the last index is stoping at 7th indexnum"
   ]
  },
  {
   "cell_type": "code",
   "execution_count": 7,
   "id": "76a70bbb",
   "metadata": {},
   "outputs": [
    {
     "data": {
      "text/plain": [
       "''"
      ]
     },
     "execution_count": 7,
     "metadata": {},
     "output_type": "execute_result"
    }
   ],
   "source": [
    "s7=slice(-1,-7)\n",
    "string[s7]\n",
    "#incorrect logic"
   ]
  },
  {
   "cell_type": "code",
   "execution_count": 8,
   "id": "3a1806fe",
   "metadata": {},
   "outputs": [
    {
     "name": "stdout",
     "output_type": "stream",
     "text": [
      "nirt\n"
     ]
    }
   ],
   "source": [
    "s8=slice(-2,-6,-1)\n",
    "print(string[s8])\n",
    "#note that the order has been reversed"
   ]
  }
 ],
 "metadata": {
  "kernelspec": {
   "display_name": "Python 3 (ipykernel)",
   "language": "python",
   "name": "python3"
  },
  "language_info": {
   "codemirror_mode": {
    "name": "ipython",
    "version": 3
   },
   "file_extension": ".py",
   "mimetype": "text/x-python",
   "name": "python",
   "nbconvert_exporter": "python",
   "pygments_lexer": "ipython3",
   "version": "3.9.12"
  }
 },
 "nbformat": 4,
 "nbformat_minor": 5
}
