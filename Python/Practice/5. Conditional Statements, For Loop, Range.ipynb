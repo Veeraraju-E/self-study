{
 "cells": [
  {
   "cell_type": "code",
   "execution_count": 1,
   "metadata": {},
   "outputs": [
    {
     "name": "stdout",
     "output_type": "stream",
     "text": [
      "A is small\n"
     ]
    }
   ],
   "source": [
    "# if condition:\n",
    "#     Action Statement\n",
    "\n",
    "a, b = 10, 20\n",
    "\n",
    "if a < b: # 10 < 20 - True\n",
    "    print('A is small')"
   ]
  },
  {
   "cell_type": "code",
   "execution_count": 2,
   "metadata": {},
   "outputs": [],
   "source": [
    "a, b = 10, 20\n",
    "\n",
    "if a > b: # 10 > 20 - False\n",
    "    print('a')"
   ]
  },
  {
   "cell_type": "code",
   "execution_count": 3,
   "metadata": {},
   "outputs": [
    {
     "name": "stdout",
     "output_type": "stream",
     "text": [
      "B is greater\n"
     ]
    }
   ],
   "source": [
    "# if condition:\n",
    "#     Action Statement\n",
    "# else:(Optional)\n",
    "#     Action Statement\n",
    "\n",
    "if a > b: # 10 > 20 - False\n",
    "    print(a) # This is not executed\n",
    "else:\n",
    "    print('B is greater')"
   ]
  },
  {
   "cell_type": "code",
   "execution_count": 4,
   "metadata": {},
   "outputs": [],
   "source": [
    "a = 88\n",
    "# if a > 90: \n",
    "#     Excellent\n",
    "# elif a >= 75 and a < 90:\n",
    "#     Very Good\n",
    "# elif a >= 50 and a < 75: \n",
    "#     Good\n",
    "# elif a > 50:\n",
    "#     Need to improve\n",
    "# .\n",
    "# .\n",
    "# .\n",
    "# .\n",
    "# .\n",
    "# else:(Optional)\n",
    "#     Action Statement"
   ]
  },
  {
   "cell_type": "code",
   "execution_count": 5,
   "metadata": {},
   "outputs": [
    {
     "data": {
      "text/plain": [
       "True"
      ]
     },
     "execution_count": 5,
     "metadata": {},
     "output_type": "execute_result"
    }
   ],
   "source": [
    "a = 10\n",
    "a % 2\n",
    "a % 2 == 0 # condition"
   ]
  },
  {
   "cell_type": "code",
   "execution_count": 6,
   "metadata": {},
   "outputs": [
    {
     "name": "stdout",
     "output_type": "stream",
     "text": [
      "Even\n"
     ]
    }
   ],
   "source": [
    "a = 10\n",
    "if a % 2 == 0: # 0 == 0\n",
    "    print('Even')"
   ]
  },
  {
   "cell_type": "code",
   "execution_count": 7,
   "metadata": {},
   "outputs": [
    {
     "data": {
      "text/plain": [
       "False"
      ]
     },
     "execution_count": 7,
     "metadata": {},
     "output_type": "execute_result"
    }
   ],
   "source": [
    "a = 11\n",
    "a % 2 == 0 # 1 == 0"
   ]
  },
  {
   "cell_type": "code",
   "execution_count": 8,
   "metadata": {},
   "outputs": [],
   "source": [
    "a = 11\n",
    "if a % 2 == 0: # False\n",
    "    print('Even') # This will not be executed"
   ]
  },
  {
   "cell_type": "code",
   "execution_count": 9,
   "metadata": {},
   "outputs": [
    {
     "name": "stdout",
     "output_type": "stream",
     "text": [
      "Odd\n"
     ]
    }
   ],
   "source": [
    "a = 11\n",
    "if a % 2 == 0: # False\n",
    "    print('Even') # This will not be executed\n",
    "else:\n",
    "    print('Odd') # This will be executed"
   ]
  },
  {
   "cell_type": "code",
   "execution_count": 10,
   "metadata": {},
   "outputs": [
    {
     "name": "stdout",
     "output_type": "stream",
     "text": [
      "Enter a value123456\n",
      "Even\n"
     ]
    }
   ],
   "source": [
    "a = int(input('Enter a value')) #10\n",
    "if a % 2 == 0:\n",
    "    print('Even')\n",
    "else:\n",
    "    print('Odd')\n",
    "# type(a)"
   ]
  },
  {
   "cell_type": "code",
   "execution_count": 11,
   "metadata": {},
   "outputs": [],
   "source": [
    "a = 'string'\n",
    "if a == 'String':\n",
    "    print('It is a string')\n",
    "elif a == 'int':\n",
    "    print('It is an int')\n",
    "elif a == 'float':\n",
    "    print('It is a float')\n",
    "elif a == 'list':\n",
    "    print('It is a list')"
   ]
  },
  {
   "cell_type": "code",
   "execution_count": 12,
   "metadata": {},
   "outputs": [
    {
     "name": "stdout",
     "output_type": "stream",
     "text": [
      "It is not in a required format\n"
     ]
    }
   ],
   "source": [
    "a = 'string'\n",
    "if a == 'String':\n",
    "    print('It is a string')\n",
    "elif a == 'int':\n",
    "    print('It is an int')\n",
    "elif a == 'float':\n",
    "    print('It is a float')\n",
    "elif a == 'list':\n",
    "    print('It is a list')\n",
    "else:\n",
    "    print('It is not in a required format')"
   ]
  },
  {
   "cell_type": "code",
   "execution_count": 13,
   "metadata": {},
   "outputs": [
    {
     "name": "stdout",
     "output_type": "stream",
     "text": [
      "It is an int\n"
     ]
    }
   ],
   "source": [
    "a = 'int'\n",
    "if a == 'string':\n",
    "    print('It is a string')\n",
    "elif a == 'int':\n",
    "    print('It is an int')\n",
    "elif a == 'float':\n",
    "    print('It is a float')\n",
    "elif a == 'list':\n",
    "    print('It is a list')\n",
    "else:\n",
    "    print('It is not in a required format')"
   ]
  },
  {
   "cell_type": "markdown",
   "metadata": {},
   "source": [
    "# in operator"
   ]
  },
  {
   "cell_type": "code",
   "execution_count": 14,
   "metadata": {
    "scrolled": false
   },
   "outputs": [
    {
     "name": "stdout",
     "output_type": "stream",
     "text": [
      "False\n",
      "True\n",
      "True\n",
      "False\n",
      "True\n"
     ]
    }
   ],
   "source": [
    "a = [1,2,3,4]\n",
    "print(5 in a) # [1,2,3,4]\n",
    "print(3 in a) # [1,2,3,4]\n",
    "print('x' and 4 in ['x','y',1,2,3,4])\n",
    "print('x' and 5 in ['x','y',1,2,3,4])\n",
    "print('i' in 'string')\n",
    "\n",
    "# print('x' or 4 in ['x','y',1,2,3,4])"
   ]
  },
  {
   "cell_type": "markdown",
   "metadata": {},
   "source": [
    "# Question"
   ]
  },
  {
   "cell_type": "code",
   "execution_count": 15,
   "metadata": {},
   "outputs": [],
   "source": [
    "# Write a Python program to calculate the sum of three given numbers, if the values are less than 100,\n",
    "#print value * 10, else print value * 100\n",
    "\n",
    "# Write a Python program to get a new string from a given string where \"Is\" has been added to the \n",
    "#front. If the given string already begins with \"Is\" then return the string unchanged\n",
    "\n",
    "# Write a Python program to find whether a given number (accept from the user) is even or odd\n",
    "\n",
    "# Write a Python program to check whether a specified value is contained in a group of values\n",
    "#     Hint:\n",
    "#         Use 'in'\n",
    "#     Example : 4 in [12,3,4,5] ---> True\n",
    "    \n",
    "#     Test Data :\n",
    "#     3 -> [1, 5, 8, 3] : True\n",
    "#     -1 -> [1, 5, 8, 3] : False\n",
    "\n",
    "# Write a python program that return greatest of 3 numbers\n",
    "#     Inputs:\n",
    "#         a = 200\n",
    "#         b = 768\n",
    "#         c = 555\n",
    "#     Expected Output:\n",
    "#         B is greater\n",
    "\n",
    "# a = 'string', check the data type of the variable 'a', \n",
    "# if it is string print 'string' else print 'No'\n",
    "\n",
    "# Use \"or\" operation along with \"in\" operator"
   ]
  },
  {
   "cell_type": "code",
   "execution_count": null,
   "metadata": {},
   "outputs": [],
   "source": []
  },
  {
   "cell_type": "code",
   "execution_count": 16,
   "metadata": {},
   "outputs": [
    {
     "name": "stdout",
     "output_type": "stream",
     "text": [
      "The value is 700\n",
      "Enter the value:is Hot\n",
      "is Hot\n",
      "12\n",
      "Even\n",
      "Yes the value is present\n",
      "100\n",
      "Yes\n"
     ]
    }
   ],
   "source": [
    "a,b,c = 10,20,40\n",
    "d = a + b + c\n",
    "if d < 100:\n",
    "    print('The value is', d * 10)\n",
    "else:\n",
    "    print(d * 100)\n",
    "\n",
    "a = str(input(\"Enter the value:\"))\n",
    "if a[0] == 'i' and a[1] == 's':\n",
    "    print(a)\n",
    "else:\n",
    "    print('is' + a)\n",
    "\n",
    "a = int(input())\n",
    "if a % 2 == 0:\n",
    "    print('Even')\n",
    "else:\n",
    "    print('Odd')\n",
    "    \n",
    "#3 in [1,2,3,4]\n",
    "if 3 in [1,2,3,4]:\n",
    "    print('Yes the value is present')\n",
    "else:\n",
    "    print('Not present')\n",
    "    \n",
    "a,b,c = 100,20,3\n",
    "if a > b and a > c: # If a is greater than both b and c, a is greater\n",
    "    print(a)\n",
    "elif b > a and b > c:\n",
    "    print(b)\n",
    "else:\n",
    "    print(c)\n",
    "\n",
    "a = 'string'\n",
    "if type(a) == str:\n",
    "    print('Yes')\n",
    "else:\n",
    "    print('No')"
   ]
  },
  {
   "cell_type": "markdown",
   "metadata": {},
   "source": [
    "# Looping"
   ]
  },
  {
   "cell_type": "code",
   "execution_count": 17,
   "metadata": {},
   "outputs": [
    {
     "name": "stdout",
     "output_type": "stream",
     "text": [
      "Even\n"
     ]
    }
   ],
   "source": [
    "a = 10\n",
    "if a % 2 == 0:\n",
    "    print('Even')"
   ]
  },
  {
   "cell_type": "code",
   "execution_count": 18,
   "metadata": {},
   "outputs": [
    {
     "name": "stdout",
     "output_type": "stream",
     "text": [
      "Odd\n"
     ]
    }
   ],
   "source": [
    "b = 11\n",
    "if b % 2 != 0:\n",
    "    print('Odd')"
   ]
  },
  {
   "cell_type": "code",
   "execution_count": 19,
   "metadata": {
    "scrolled": true
   },
   "outputs": [
    {
     "ename": "TypeError",
     "evalue": "unsupported operand type(s) for %: 'list' and 'int'",
     "output_type": "error",
     "traceback": [
      "\u001b[1;31m---------------------------------------------------------------------------\u001b[0m",
      "\u001b[1;31mTypeError\u001b[0m                                 Traceback (most recent call last)",
      "Input \u001b[1;32mIn [19]\u001b[0m, in \u001b[0;36m<cell line: 2>\u001b[1;34m()\u001b[0m\n\u001b[0;32m      1\u001b[0m a \u001b[38;5;241m=\u001b[39m [\u001b[38;5;241m10\u001b[39m,\u001b[38;5;241m11\u001b[39m,\u001b[38;5;241m12\u001b[39m]\n\u001b[1;32m----> 2\u001b[0m \u001b[38;5;28;01mif\u001b[39;00m \u001b[43ma\u001b[49m\u001b[43m \u001b[49m\u001b[38;5;241;43m%\u001b[39;49m\u001b[43m \u001b[49m\u001b[38;5;241;43m2\u001b[39;49m \u001b[38;5;241m==\u001b[39m \u001b[38;5;241m0\u001b[39m:\n\u001b[0;32m      3\u001b[0m     \u001b[38;5;28mprint\u001b[39m(\u001b[38;5;124m'\u001b[39m\u001b[38;5;124mEven\u001b[39m\u001b[38;5;124m'\u001b[39m)\n",
      "\u001b[1;31mTypeError\u001b[0m: unsupported operand type(s) for %: 'list' and 'int'"
     ]
    }
   ],
   "source": [
    "a = [10,11,12]\n",
    "if a % 2 == 0:\n",
    "    print('Even')"
   ]
  },
  {
   "cell_type": "code",
   "execution_count": 20,
   "metadata": {},
   "outputs": [
    {
     "name": "stdout",
     "output_type": "stream",
     "text": [
      "1 Odd Number\n",
      "2 Even Number\n",
      "3 Odd Number\n",
      "4 Even Number\n"
     ]
    }
   ],
   "source": [
    "# for item in object: #[1,2,3]\n",
    "#     body of loop\n",
    "\n",
    "# item ----> user defined temporary variable aka \"iterator\"\n",
    "# object ----> variable name\n",
    "\n",
    "a = [1,2,3,4]\n",
    "\n",
    "for val in a: #[1,2,3,4]\n",
    "    if val % 2 ==0:\n",
    "        print(val, 'Even Number')\n",
    "    else:\n",
    "        print(val, 'Odd Number')"
   ]
  },
  {
   "cell_type": "code",
   "execution_count": 40,
   "metadata": {},
   "outputs": [
    {
     "name": "stdout",
     "output_type": "stream",
     "text": [
      "h e l l o "
     ]
    }
   ],
   "source": [
    "for char in 'hello': #char isn't a reserved word\n",
    "    print(char,end=' ')\n",
    "# h\n",
    "# e\n",
    "# l\n",
    "# l\n",
    "# o"
   ]
  },
  {
   "cell_type": "code",
   "execution_count": 28,
   "metadata": {},
   "outputs": [
    {
     "name": "stdout",
     "output_type": "stream",
     "text": [
      "h\n",
      "e\n",
      "l\n",
      "l\n",
      "o\n",
      " \n",
      "w\n",
      "o\n",
      "r\n",
      "l\n",
      "d\n"
     ]
    }
   ],
   "source": [
    "for i in 'hello world':\n",
    "    print(i)"
   ]
  },
  {
   "cell_type": "code",
   "execution_count": 29,
   "metadata": {},
   "outputs": [
    {
     "name": "stdout",
     "output_type": "stream",
     "text": [
      "10\n",
      "11\n"
     ]
    }
   ],
   "source": [
    "for i in (10,11):\n",
    "    print(i)"
   ]
  },
  {
   "cell_type": "code",
   "execution_count": 30,
   "metadata": {},
   "outputs": [
    {
     "name": "stdout",
     "output_type": "stream",
     "text": [
      "100\n",
      "110\n"
     ]
    }
   ],
   "source": [
    "for i in 10,11:\n",
    "    print(i * 10)\n",
    "    \n",
    "# i = 10\n",
    "# i * 10 ---> 10 * 10 ---> 100\n",
    "# i = 11\n",
    "# i * 10 ---> 11 * 10 ---> 110"
   ]
  },
  {
   "cell_type": "code",
   "execution_count": 34,
   "metadata": {},
   "outputs": [
    {
     "name": "stdout",
     "output_type": "stream",
     "text": [
      "A\n",
      "B\n"
     ]
    }
   ],
   "source": [
    "for i in ['a','b']:\n",
    "#     print(i)\n",
    "#     print(i.upper())\n",
    "    i=i.upper()\n",
    "    print(i)"
   ]
  },
  {
   "cell_type": "code",
   "execution_count": 42,
   "metadata": {},
   "outputs": [
    {
     "name": "stdout",
     "output_type": "stream",
     "text": [
      "a\n",
      "b\n",
      "c\n"
     ]
    }
   ],
   "source": [
    "d = {'a' : 1, 'b' : 2, 'c' : 3}\n",
    "for i in d:\n",
    "    print(i)\n",
    "#keys"
   ]
  },
  {
   "cell_type": "code",
   "execution_count": 43,
   "metadata": {},
   "outputs": [
    {
     "name": "stdout",
     "output_type": "stream",
     "text": [
      "a\n",
      "b\n",
      "c\n"
     ]
    }
   ],
   "source": [
    "for i in d.keys():\n",
    "    print(i)"
   ]
  },
  {
   "cell_type": "code",
   "execution_count": 44,
   "metadata": {},
   "outputs": [
    {
     "name": "stdout",
     "output_type": "stream",
     "text": [
      "1 2 3 "
     ]
    }
   ],
   "source": [
    "#important\n",
    "for i in d.values():\n",
    "    print(i, end = \" \")"
   ]
  },
  {
   "cell_type": "code",
   "execution_count": 45,
   "metadata": {},
   "outputs": [
    {
     "data": {
      "text/plain": [
       "dict_items([('a', 1), ('b', 2), ('c', 3)])"
      ]
     },
     "execution_count": 45,
     "metadata": {},
     "output_type": "execute_result"
    }
   ],
   "source": [
    "d.items()"
   ]
  },
  {
   "cell_type": "code",
   "execution_count": 46,
   "metadata": {},
   "outputs": [
    {
     "name": "stdout",
     "output_type": "stream",
     "text": [
      "('a', 1) ('b', 2) ('c', 3) "
     ]
    }
   ],
   "source": [
    "for i in d.items(): # (a,1) (b,2) (c,3)\n",
    "    print(i,end=\" \")"
   ]
  },
  {
   "cell_type": "code",
   "execution_count": 47,
   "metadata": {
    "scrolled": true
   },
   "outputs": [
    {
     "name": "stdout",
     "output_type": "stream",
     "text": [
      "a 1\n",
      "b 2\n",
      "c 3\n"
     ]
    }
   ],
   "source": [
    "for i,j in d.items(): # note that there is no comma separator or it is not even printed out as\n",
    "    print(i,j)        # a key value pair"
   ]
  },
  {
   "cell_type": "code",
   "execution_count": 48,
   "metadata": {},
   "outputs": [
    {
     "data": {
      "text/plain": [
       "[1, 4, 9, 16, 25, 36, 49]"
      ]
     },
     "execution_count": 48,
     "metadata": {},
     "output_type": "execute_result"
    }
   ],
   "source": [
    "a = []                      #first create a placeholder to put the squared values in\n",
    "for i in (1,2,3,4,5,6,7):   #then use the item/temp variable for looping purposes only\n",
    "    a.append(i * i)\n",
    "a"
   ]
  },
  {
   "cell_type": "code",
   "execution_count": 54,
   "metadata": {},
   "outputs": [
    {
     "data": {
      "text/plain": [
       "28"
      ]
     },
     "execution_count": 54,
     "metadata": {},
     "output_type": "execute_result"
    }
   ],
   "source": [
    "a = [1,2,3,4,5,6,7]               \n",
    "count = 0;\n",
    "for i in a: # [1,2,3,4,5,6,7]\n",
    "    count += i #important to perform re-assignment\n",
    "\n",
    "count"
   ]
  },
  {
   "cell_type": "markdown",
   "metadata": {},
   "source": [
    "# Range"
   ]
  },
  {
   "cell_type": "code",
   "execution_count": null,
   "metadata": {},
   "outputs": [],
   "source": [
    "# range(start number, end number, step)\n",
    "range(10) # 0,1,2,3,4,5,6,7,8,9"
   ]
  },
  {
   "cell_type": "code",
   "execution_count": null,
   "metadata": {},
   "outputs": [],
   "source": [
    "list(range(10)) # end number - 1\n",
    "# By default start number will be 0, and step number is 1"
   ]
  },
  {
   "cell_type": "code",
   "execution_count": 55,
   "metadata": {},
   "outputs": [
    {
     "data": {
      "text/plain": [
       "[3, 4, 5, 6, 7, 8, 9]"
      ]
     },
     "execution_count": 55,
     "metadata": {},
     "output_type": "execute_result"
    }
   ],
   "source": [
    "list(range(3,10))"
   ]
  },
  {
   "cell_type": "code",
   "execution_count": 56,
   "metadata": {},
   "outputs": [
    {
     "data": {
      "text/plain": [
       "[0, 1, 2, 3, 4, 5, 6, 7, 8, 9]"
      ]
     },
     "execution_count": 56,
     "metadata": {},
     "output_type": "execute_result"
    }
   ],
   "source": [
    "list(range(0,10,1))"
   ]
  },
  {
   "cell_type": "code",
   "execution_count": 57,
   "metadata": {},
   "outputs": [
    {
     "data": {
      "text/plain": [
       "[0, 2, 4, 6, 8]"
      ]
     },
     "execution_count": 57,
     "metadata": {},
     "output_type": "execute_result"
    }
   ],
   "source": [
    "list(range(0,10,2))"
   ]
  },
  {
   "cell_type": "code",
   "execution_count": 58,
   "metadata": {},
   "outputs": [
    {
     "data": {
      "text/plain": [
       "[0, 3, 6, 9]"
      ]
     },
     "execution_count": 58,
     "metadata": {},
     "output_type": "execute_result"
    }
   ],
   "source": [
    "list(range(0,10,3))"
   ]
  },
  {
   "cell_type": "code",
   "execution_count": null,
   "metadata": {},
   "outputs": [],
   "source": [
    "1 # Write a python program that takes in range of values from 0 to 10. \n",
    "# print all the values\n",
    "2 # Write a python program that takes in range of values from 0 to 10. \n",
    "#print all even values\n",
    "3 # Write a python program that takes in range of values from 0 to 10. \n",
    "#print all odd values\n",
    "4 # Write a python program that takes in a alphanumeric variable and \n",
    "#print only the digits in it\n",
    "#     Hint:\n",
    "#         Use 'isdigit()' in condition part of IF STATEMENT \n",
    "#     Input:\n",
    "#         a = 'ais1324'\n",
    "#     Expected Output:\n",
    "#         1324\n",
    "5 # Write a python program that takes in a alphanumeric variable and print only the alphabets in it\n",
    "#     Hint:\n",
    "#         Use 'isalpha()' in condition part of IF STATEMENT \n",
    "#     Input:\n",
    "#         a = 'ais1324'\n",
    "#     Expected Output:\n",
    "#         ais\n",
    "6 # a = ['aba', 'bab', 'India', 'America', 'Hi', 'Hello']\n",
    "# Using the above list, check if the length of each word is > 2 and \n",
    "# first charcter and last character are same\n",
    "# If the above two conditions are satisfied, then print that word \n",
    "# else print the first character of the word.\n",
    "7 # Write a python program to calculate lenght of values present in a list\n",
    "8 # Write a python program to get minimum value from a list\n",
    "9 # Write a python program to get maximum value from a list\n",
    "10 # a = [1,2,3,[4,5,6],'hello',{'a':1,'b':2}]. Add all the values"
   ]
  },
  {
   "cell_type": "code",
   "execution_count": 66,
   "metadata": {},
   "outputs": [
    {
     "name": "stdout",
     "output_type": "stream",
     "text": [
      "1\n",
      "2\n",
      "3\n",
      "4\n",
      "5\n",
      "6\n",
      "7\n",
      "8\n",
      "9\n",
      "10\n",
      "odd\n",
      "even\n",
      "odd\n",
      "even\n",
      "odd\n",
      "even\n",
      "odd\n",
      "even\n",
      "odd\n",
      "even\n"
     ]
    }
   ],
   "source": [
    "a=[]\n",
    "for i in range(0,10):\n",
    "    a.append(int(input()))\n",
    "for i in a:\n",
    "    if(i%2!=0): print('odd')\n",
    "    else: print('even')"
   ]
  },
  {
   "cell_type": "code",
   "execution_count": null,
   "metadata": {},
   "outputs": [],
   "source": [
    "x = 10.0\n",
    "y = (x < 100.0) and isinstance(x, float)\n",
    "y"
   ]
  },
  {
   "cell_type": "code",
   "execution_count": 71,
   "metadata": {},
   "outputs": [],
   "source": [
    "a = ['aba', 'bab', 'India', 'America', 'Hi', 'Hello']\n",
    "for i in a:\n",
    "    if(len(i)>4 and i[0]==i[len(i)-1]): print(i)"
   ]
  },
  {
   "cell_type": "markdown",
   "metadata": {},
   "source": [
    "# [Quiz - Conditional Statements](https://realpython.com/quizzes/python-conditional-statements/)\n",
    "# [Quiz - Looping](https://realpython.com/quizzes/python-while-loop/)\n",
    "# [Quiz - Python Operators and Expressions](https://realpython.com/quizzes/python-operators-expressions/)\n",
    "# [Quiz - Dictionary Iteration](https://realpython.com/quizzes/python-dictionary-iteration/)"
   ]
  }
 ],
 "metadata": {
  "kernelspec": {
   "display_name": "Python 3 (ipykernel)",
   "language": "python",
   "name": "python3"
  },
  "language_info": {
   "codemirror_mode": {
    "name": "ipython",
    "version": 3
   },
   "file_extension": ".py",
   "mimetype": "text/x-python",
   "name": "python",
   "nbconvert_exporter": "python",
   "pygments_lexer": "ipython3",
   "version": "3.9.12"
  }
 },
 "nbformat": 4,
 "nbformat_minor": 4
}
