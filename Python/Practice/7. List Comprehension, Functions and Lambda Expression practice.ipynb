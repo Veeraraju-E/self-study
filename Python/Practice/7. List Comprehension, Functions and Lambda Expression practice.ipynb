{
 "cells": [
  {
   "cell_type": "code",
   "execution_count": 1,
   "id": "7d707f66",
   "metadata": {},
   "outputs": [
    {
     "name": "stdout",
     "output_type": "stream",
     "text": [
      "1 2 3 4 5 6 "
     ]
    }
   ],
   "source": [
    "#Assignment.1 Q-5, 1st method\n",
    "a = [[1,2,3],[4,5,6]] # 1 2 3 4 5 6\n",
    "for i in a: # [1,2,3],[4,5,6]\n",
    "    for j in i: # [1,2,3]\n",
    "        print(j, end = ' ')\n",
    "# i --- [1,2,3]\n",
    "#     j --- 1\n",
    "#     print - 1\n",
    "#     j --- 2\n",
    "#     print - 2\n",
    "#     j --- 3\n",
    "#     print - 3\n",
    "# i --- [4,5,6]\n",
    "#     j --- 4\n",
    "#     print - 4\n",
    "#     j --- 5\n",
    "#     print - 5\n",
    "#     j --- 6\n",
    "#     print - 6"
   ]
  },
  {
   "cell_type": "code",
   "execution_count": 2,
   "id": "efac77cc",
   "metadata": {},
   "outputs": [
    {
     "data": {
      "text/plain": [
       "[1, 2, 3, 4, 5, 6]"
      ]
     },
     "execution_count": 2,
     "metadata": {},
     "output_type": "execute_result"
    }
   ],
   "source": [
    "#Assignment.1 Q-5, 2nd method\n",
    "[j for i in a for j in i] #note the difference in output"
   ]
  },
  {
   "cell_type": "code",
   "execution_count": 3,
   "id": "324e7e39",
   "metadata": {},
   "outputs": [
    {
     "data": {
      "text/plain": [
       "[68]"
      ]
     },
     "execution_count": 3,
     "metadata": {},
     "output_type": "execute_result"
    }
   ],
   "source": [
    "a,b,c=11,34,68\n",
    "[a if a>b and a>c else(b if b>c and b>a else c)] #o/p is a list,if we add str b4 the list,it does\n",
    "#concetenate it, and prints out '[greatest number]', the [] doesnt go away"
   ]
  },
  {
   "cell_type": "code",
   "execution_count": 4,
   "id": "e21a5561",
   "metadata": {},
   "outputs": [
    {
     "name": "stdout",
     "output_type": "stream",
     "text": [
      "32.0\n",
      "82.0\n",
      "150.18\n",
      "244.28\n"
     ]
    }
   ],
   "source": [
    "farenheit=0\n",
    "celsius = [0,10,20.1,34.5]\n",
    "for i in celsius:\n",
    "    farenheit=farenheit+((9/5)*i + 32)\n",
    "    print(farenheit)    "
   ]
  },
  {
   "cell_type": "code",
   "execution_count": 5,
   "id": "278f426b",
   "metadata": {},
   "outputs": [
    {
     "data": {
      "text/plain": [
       "[32.0, 50.0, 68.18, 94.1]"
      ]
     },
     "execution_count": 5,
     "metadata": {},
     "output_type": "execute_result"
    }
   ],
   "source": [
    "[i*(9/5)+32 for i in celsius]"
   ]
  },
  {
   "cell_type": "code",
   "execution_count": 6,
   "id": "528b4de2",
   "metadata": {},
   "outputs": [
    {
     "data": {
      "text/plain": [
       "[10, 12]"
      ]
     },
     "execution_count": 6,
     "metadata": {},
     "output_type": "execute_result"
    }
   ],
   "source": [
    "list1=[10,11,12,13]\n",
    "even=[i for i in list1 if i%2==0] #(o/p of the for loop), for loop, then if condition\n",
    "even"
   ]
  },
  {
   "cell_type": "code",
   "execution_count": 7,
   "id": "4e483406",
   "metadata": {},
   "outputs": [],
   "source": [
    "def greetings(name):\n",
    "    '''\n",
    "    Docstring-->\n",
    "    takes one parameter called name\n",
    "    string joining is the operation\n",
    "    o/p is Good Morning with the name attached\n",
    "    \n",
    "    '''\n",
    "    print('Good Morning '+name+'!')"
   ]
  },
  {
   "cell_type": "code",
   "execution_count": 8,
   "id": "10bf8172",
   "metadata": {},
   "outputs": [
    {
     "name": "stdout",
     "output_type": "stream",
     "text": [
      "Good Morning Veer!\n"
     ]
    }
   ],
   "source": [
    "greetings('Veer')"
   ]
  },
  {
   "cell_type": "code",
   "execution_count": 9,
   "id": "dea4bba6",
   "metadata": {},
   "outputs": [
    {
     "name": "stdout",
     "output_type": "stream",
     "text": [
      "Alexander\n",
      "Aiden\n",
      "Anthony\n",
      "Andrew\n",
      "Aaron\n",
      "Adrian\n",
      "Asher\n",
      "Angel\n",
      "Austin\n",
      "Adam\n",
      "Ayden\n"
     ]
    }
   ],
   "source": [
    "#Assignment.1 Q-2, 1st method\n",
    "words = ['Liam','Noah','William','James','Logan','Benjamin','Mason','Elijah','Oliver','Jacob','Lucas',\\\n",
    "'Michael','Alexander','Ethan','Daniel','Matthew','Aiden','Henry','Joseph','Jackson','Samuel','Sebastian',\\\n",
    "'David','Carter','Wyatt','Jayden','John','Owen','Dylan','Luke','Gabriel','Anthony','Isaac','Grayson','Jack',\\\n",
    "'Julian','Levi','Christopher','Joshua','Andrew','Lincoln','Mateo','Ryan','Jaxon','Nathan','Aaron','Isaiah','Thomas',\\\n",
    "'Charles','Caleb','Josiah','Christian','Hunter','Eli','Jonathan','Connor','Landon','Adrian','Asher','Cameron','Leo',\\\n",
    "'Theodore','Jeremiah','Hudson','Robert','Easton','Nolan','Nicholas','Ezra','Colton','Angel','Brayden','Jordan','Dominic',\\\n",
    "'Austin','Ian','Adam','Elias','Jaxson','Greyson','Jose','Ezekiel','Carso','Evan','Maverick','Bryson','Jace','Cooper','Xavier'\\\n",
    ",'Parker','Roman','Jason','Santiago','Chase','Sawyer','Gavin','Leonardo','Kayden','Ayden','Jameson']\n",
    "\n",
    "for i in words:\n",
    "    if i.startswith('A')==True:\n",
    "        print(i)"
   ]
  },
  {
   "cell_type": "code",
   "execution_count": 10,
   "id": "d21f6dd9",
   "metadata": {},
   "outputs": [
    {
     "data": {
      "text/plain": [
       "['Alexander',\n",
       " 'Aiden',\n",
       " 'Anthony',\n",
       " 'Andrew',\n",
       " 'Aaron',\n",
       " 'Adrian',\n",
       " 'Asher',\n",
       " 'Angel',\n",
       " 'Austin',\n",
       " 'Adam',\n",
       " 'Ayden']"
      ]
     },
     "execution_count": 10,
     "metadata": {},
     "output_type": "execute_result"
    }
   ],
   "source": [
    "#Assignment.1 Q-2, 2nd method\n",
    "[i for i in words if i.startswith('A')==True]"
   ]
  },
  {
   "cell_type": "code",
   "execution_count": 11,
   "id": "ef78fd97",
   "metadata": {},
   "outputs": [
    {
     "name": "stdout",
     "output_type": "stream",
     "text": [
      "ais\n"
     ]
    }
   ],
   "source": [
    "#Assignment.1 Q-3, 1st method\n",
    "b='ais123'\n",
    "s=''\n",
    "for i in b:\n",
    "    if i.isalpha()==True:\n",
    "        s=s+i\n",
    "print(s)        "
   ]
  },
  {
   "cell_type": "code",
   "execution_count": 12,
   "id": "fbab48b2",
   "metadata": {},
   "outputs": [
    {
     "data": {
      "text/plain": [
       "['ais', 'ais', 'ais']"
      ]
     },
     "execution_count": 12,
     "metadata": {},
     "output_type": "execute_result"
    }
   ],
   "source": [
    "#Assignment.1 Q-3, 2nd method\n",
    "[s for i in b if i.isalpha()==True ] #doubt in the second method"
   ]
  },
  {
   "cell_type": "code",
   "execution_count": 13,
   "id": "47def63a",
   "metadata": {},
   "outputs": [],
   "source": [
    "#Assignment.2 Q-1\n",
    "def Sum(int1, int2, int3):\n",
    "    var=int1+int2+int3\n",
    "    if var<100:\n",
    "        print(var*10)\n",
    "    else:\n",
    "        print(var*100)"
   ]
  },
  {
   "cell_type": "code",
   "execution_count": 14,
   "id": "44269206",
   "metadata": {},
   "outputs": [
    {
     "name": "stdout",
     "output_type": "stream",
     "text": [
      "11700\n"
     ]
    }
   ],
   "source": [
    "Sum(12,45,60)"
   ]
  },
  {
   "cell_type": "code",
   "execution_count": 15,
   "id": "3929a431",
   "metadata": {},
   "outputs": [
    {
     "name": "stdout",
     "output_type": "stream",
     "text": [
      "60\n"
     ]
    }
   ],
   "source": [
    "Sum(1,2,3)"
   ]
  },
  {
   "cell_type": "code",
   "execution_count": 16,
   "id": "a35ac23c",
   "metadata": {},
   "outputs": [],
   "source": [
    "#Assignment.2 Q-2\n",
    "def string(name):\n",
    "    if name[0:2]=='Is':\n",
    "        print(name)\n",
    "    else:\n",
    "        print('Is'+name)"
   ]
  },
  {
   "cell_type": "code",
   "execution_count": 17,
   "id": "b7f5be54",
   "metadata": {},
   "outputs": [
    {
     "name": "stdout",
     "output_type": "stream",
     "text": [
      "Is your name?\n"
     ]
    }
   ],
   "source": [
    "string(' your name?') #single quotes are important to specify string datatype"
   ]
  },
  {
   "cell_type": "code",
   "execution_count": 18,
   "id": "2c9a8d26",
   "metadata": {},
   "outputs": [],
   "source": [
    "#Assignment.2 Q-4\n",
    "def greatest(a,b,c):\n",
    "    if a>b and a>c:\n",
    "        print(f\"{a}is the greatest number\")\n",
    "    elif b>a and b>c:\n",
    "        print(f\"{b} is the greatest number\")\n",
    "    else:\n",
    "        print(f\"{c} is the greatest number\")"
   ]
  },
  {
   "cell_type": "code",
   "execution_count": 19,
   "id": "5a398cf5",
   "metadata": {},
   "outputs": [
    {
     "name": "stdout",
     "output_type": "stream",
     "text": [
      "21 is the greatest number\n"
     ]
    }
   ],
   "source": [
    "greatest(12,14,21)"
   ]
  },
  {
   "cell_type": "code",
   "execution_count": 20,
   "id": "69c586a3",
   "metadata": {},
   "outputs": [],
   "source": [
    "#Assignment.2 Q-5\n",
    "def isstring(name):\n",
    "    if type(name)==str:\n",
    "        print(f'{name} is a string')\n",
    "    else:\n",
    "        print(\"Nope\")"
   ]
  },
  {
   "cell_type": "code",
   "execution_count": 21,
   "id": "6adcb384",
   "metadata": {},
   "outputs": [
    {
     "name": "stdout",
     "output_type": "stream",
     "text": [
      "Veer is awesome! is a string\n"
     ]
    }
   ],
   "source": [
    "isstring('Veer is awesome!')"
   ]
  },
  {
   "cell_type": "code",
   "execution_count": 22,
   "id": "df9eed0b",
   "metadata": {},
   "outputs": [
    {
     "name": "stdout",
     "output_type": "stream",
     "text": [
      "50\n"
     ]
    }
   ],
   "source": [
    "def add1(a,b):\n",
    "    print(a+b)\n",
    "c=add1(18,32)    "
   ]
  },
  {
   "cell_type": "code",
   "execution_count": 23,
   "id": "0e86b78c",
   "metadata": {},
   "outputs": [
    {
     "name": "stdout",
     "output_type": "stream",
     "text": [
      "None\n"
     ]
    }
   ],
   "source": [
    "print(c)"
   ]
  },
  {
   "cell_type": "code",
   "execution_count": 24,
   "id": "a6cefc8f",
   "metadata": {},
   "outputs": [
    {
     "data": {
      "text/plain": [
       "50"
      ]
     },
     "execution_count": 24,
     "metadata": {},
     "output_type": "execute_result"
    }
   ],
   "source": [
    "def add2(a,b):\n",
    "    return(a+b)\n",
    "c1=add2(18,32)\n",
    "c1 #c1 actually stores the value of a+b, whereas c doesn't"
   ]
  },
  {
   "cell_type": "code",
   "execution_count": 25,
   "id": "1879f5d3",
   "metadata": {},
   "outputs": [],
   "source": [
    "#Assignment.3 Q-1&2 --> similar code\n",
    "def alpha_num(string):\n",
    "    my_string=''\n",
    "    for i in string:\n",
    "        if i.isalpha()==True:\n",
    "            my_string=my_string+i\n",
    "    return(my_string)        "
   ]
  },
  {
   "cell_type": "code",
   "execution_count": 26,
   "id": "da1f09ba",
   "metadata": {},
   "outputs": [
    {
     "data": {
      "text/plain": [
       "'uxmq'"
      ]
     },
     "execution_count": 26,
     "metadata": {},
     "output_type": "execute_result"
    }
   ],
   "source": [
    "alpha_num('uxm89q4')"
   ]
  },
  {
   "cell_type": "markdown",
   "id": "ea94d05b",
   "metadata": {},
   "source": [
    "## -----------------"
   ]
  },
  {
   "cell_type": "code",
   "execution_count": 56,
   "id": "b23bc4ed",
   "metadata": {},
   "outputs": [
    {
     "name": "stdout",
     "output_type": "stream",
     "text": [
      "<class 'dict'>\n"
     ]
    }
   ],
   "source": [
    "def func(**kwargs):\n",
    "    print(type(kwargs))\n",
    "func()"
   ]
  },
  {
   "cell_type": "code",
   "execution_count": 39,
   "id": "4ae15f2f",
   "metadata": {},
   "outputs": [],
   "source": [
    "def Sum(name,*args):\n",
    "    print(name, 'sum is:', sum(args))"
   ]
  },
  {
   "cell_type": "code",
   "execution_count": 40,
   "id": "131b900c",
   "metadata": {},
   "outputs": [
    {
     "name": "stdout",
     "output_type": "stream",
     "text": [
      "Veer sum is: 60\n"
     ]
    }
   ],
   "source": [
    "Sum('Veer',10,20,30) #correct"
   ]
  },
  {
   "cell_type": "code",
   "execution_count": 41,
   "id": "202c1205",
   "metadata": {},
   "outputs": [
    {
     "ename": "TypeError",
     "evalue": "unsupported operand type(s) for +: 'int' and 'str'",
     "output_type": "error",
     "traceback": [
      "\u001b[1;31m---------------------------------------------------------------------------\u001b[0m",
      "\u001b[1;31mTypeError\u001b[0m                                 Traceback (most recent call last)",
      "Input \u001b[1;32mIn [41]\u001b[0m, in \u001b[0;36m<cell line: 1>\u001b[1;34m()\u001b[0m\n\u001b[1;32m----> 1\u001b[0m \u001b[43mSum\u001b[49m\u001b[43m(\u001b[49m\u001b[38;5;241;43m10\u001b[39;49m\u001b[43m,\u001b[49m\u001b[38;5;241;43m20\u001b[39;49m\u001b[43m,\u001b[49m\u001b[38;5;124;43m'\u001b[39;49m\u001b[38;5;124;43mVeer\u001b[39;49m\u001b[38;5;124;43m'\u001b[39;49m\u001b[43m,\u001b[49m\u001b[38;5;241;43m30\u001b[39;49m\u001b[43m)\u001b[49m\n",
      "Input \u001b[1;32mIn [39]\u001b[0m, in \u001b[0;36mSum\u001b[1;34m(name, *args)\u001b[0m\n\u001b[0;32m      1\u001b[0m \u001b[38;5;28;01mdef\u001b[39;00m \u001b[38;5;21mSum\u001b[39m(name,\u001b[38;5;241m*\u001b[39margs):\n\u001b[1;32m----> 2\u001b[0m     \u001b[38;5;28mprint\u001b[39m(name, \u001b[38;5;124m'\u001b[39m\u001b[38;5;124msum is:\u001b[39m\u001b[38;5;124m'\u001b[39m, \u001b[38;5;28;43msum\u001b[39;49m\u001b[43m(\u001b[49m\u001b[43margs\u001b[49m\u001b[43m)\u001b[49m)\n",
      "\u001b[1;31mTypeError\u001b[0m: unsupported operand type(s) for +: 'int' and 'str'"
     ]
    }
   ],
   "source": [
    "Sum(10,20,'Veer',30) #once 10 sits in name, 20,'Veer',30 sit in args, which can't be \"added\""
   ]
  },
  {
   "cell_type": "code",
   "execution_count": 43,
   "id": "bc5b8bd0",
   "metadata": {},
   "outputs": [],
   "source": [
    "def Sum1(*args,name):\n",
    "    print(name, 'sum is:', sum(args))"
   ]
  },
  {
   "cell_type": "code",
   "execution_count": 44,
   "id": "d57359e9",
   "metadata": {},
   "outputs": [
    {
     "name": "stdout",
     "output_type": "stream",
     "text": [
      "Veer sum is: 60\n"
     ]
    }
   ],
   "source": [
    "Sum1(10,20,30,name='Veer') #correct"
   ]
  },
  {
   "cell_type": "code",
   "execution_count": 47,
   "id": "9b0b1bf9",
   "metadata": {},
   "outputs": [
    {
     "ename": "SyntaxError",
     "evalue": "positional argument follows keyword argument (117148752.py, line 1)",
     "output_type": "error",
     "traceback": [
      "\u001b[1;36m  Input \u001b[1;32mIn [47]\u001b[1;36m\u001b[0m\n\u001b[1;33m    Sum1(10,20,name='Veer',30) #wrong because positional argument follows keyword argument\u001b[0m\n\u001b[1;37m                             ^\u001b[0m\n\u001b[1;31mSyntaxError\u001b[0m\u001b[1;31m:\u001b[0m positional argument follows keyword argument\n"
     ]
    }
   ],
   "source": [
    "Sum1(10,20,name='Veer',30) #wrong because positional argument follows keyword argument\n",
    "#if the name= type of calling isn't done, Python throws error as it says name should have keyword \n",
    "#arg while calling"
   ]
  },
  {
   "cell_type": "markdown",
   "id": "8ecc2628",
   "metadata": {},
   "source": [
    "## ------------------------"
   ]
  },
  {
   "cell_type": "code",
   "execution_count": null,
   "id": "fae0cafa",
   "metadata": {},
   "outputs": [],
   "source": [
    "#Assignment.last Q-1, 1st method\n",
    "a=[1,2,3]\n",
    "[i+1 for i in a]"
   ]
  },
  {
   "cell_type": "code",
   "execution_count": null,
   "id": "4177093d",
   "metadata": {},
   "outputs": [],
   "source": [
    "#Assignment.last Q-1, 2nd method\n",
    "b=list(map(lambda i: i+1, [1,2,3]))\n",
    "b"
   ]
  },
  {
   "cell_type": "code",
   "execution_count": null,
   "id": "dfc20195",
   "metadata": {},
   "outputs": [],
   "source": [
    "# Function to rearrange positive and negative elements- important\n",
    "arr = [12, 11, -13, -5, 6, -7, 5, -3, -6] \n",
    "def rearr(a):\n",
    "    return [x for x in arr if x < 0] + [x for x in arr if x >= 0] "
   ]
  },
  {
   "cell_type": "code",
   "execution_count": null,
   "id": "7cc0d8f3",
   "metadata": {},
   "outputs": [],
   "source": [
    "rearr([12, 11, -13, -5, 6, -7, 5, -3, -6])"
   ]
  },
  {
   "cell_type": "code",
   "execution_count": null,
   "id": "70ca7ea7",
   "metadata": {},
   "outputs": [],
   "source": [
    "#sqrt using lambda"
   ]
  },
  {
   "cell_type": "code",
   "execution_count": null,
   "id": "41be7b84",
   "metadata": {},
   "outputs": [],
   "source": [
    "def num_even(*a):\n",
    "    count=0\n",
    "    for i in a:\n",
    "        if i%2==0:\n",
    "            count+=1\n",
    "    return count\n",
    "\n",
    "b=list(map(num_even,[12,13,14,5,16]))\n",
    "b"
   ]
  }
 ],
 "metadata": {
  "kernelspec": {
   "display_name": "Python 3 (ipykernel)",
   "language": "python",
   "name": "python3"
  },
  "language_info": {
   "codemirror_mode": {
    "name": "ipython",
    "version": 3
   },
   "file_extension": ".py",
   "mimetype": "text/x-python",
   "name": "python",
   "nbconvert_exporter": "python",
   "pygments_lexer": "ipython3",
   "version": "3.9.12"
  }
 },
 "nbformat": 4,
 "nbformat_minor": 5
}
