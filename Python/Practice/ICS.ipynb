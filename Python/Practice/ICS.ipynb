{
 "cells": [
  {
   "cell_type": "code",
   "execution_count": 1,
   "id": "a357c4fd",
   "metadata": {},
   "outputs": [
    {
     "name": "stdout",
     "output_type": "stream",
     "text": [
      "my name is Veera\n"
     ]
    }
   ],
   "source": [
    "name='my name is Veera' #case sensitive \n",
    "name\n",
    "print(name)"
   ]
  },
  {
   "cell_type": "code",
   "execution_count": 2,
   "id": "dff66b1a",
   "metadata": {},
   "outputs": [
    {
     "data": {
      "text/plain": [
       "'Veera Veera Veera Veera Veera '"
      ]
     },
     "execution_count": 2,
     "metadata": {},
     "output_type": "execute_result"
    }
   ],
   "source": [
    "(2+3)*5\n",
    "# 2**4\n",
    "5*'Veera '\n",
    "# 'Veera'+' Elluru'"
   ]
  },
  {
   "cell_type": "code",
   "execution_count": 3,
   "id": "ee00007f",
   "metadata": {},
   "outputs": [
    {
     "name": "stdout",
     "output_type": "stream",
     "text": [
      "<class 'float'> <class 'bool'> <class 'str'>\n"
     ]
    }
   ],
   "source": [
    "a=5.455\n",
    "b=True\n",
    "c='a'\n",
    "print(type(a),type(b),type(c))"
   ]
  },
  {
   "cell_type": "code",
   "execution_count": 4,
   "id": "c640e078",
   "metadata": {},
   "outputs": [
    {
     "name": "stdout",
     "output_type": "stream",
     "text": [
      "both are not same because 2992834414480 2992834413968\n"
     ]
    }
   ],
   "source": [
    "# to check address of a variable\n",
    "x=275\n",
    "y=375\n",
    "print(\"both are not same because \"+ str(id(x))+\" \"+str(id(y)))\n",
    "#str is explicit typecasting it to string"
   ]
  },
  {
   "cell_type": "code",
   "execution_count": 5,
   "id": "374c9abe",
   "metadata": {},
   "outputs": [
    {
     "data": {
      "text/plain": [
       "['__abs__',\n",
       " '__add__',\n",
       " '__and__',\n",
       " '__bool__',\n",
       " '__ceil__',\n",
       " '__class__',\n",
       " '__delattr__',\n",
       " '__dir__',\n",
       " '__divmod__',\n",
       " '__doc__',\n",
       " '__eq__',\n",
       " '__float__',\n",
       " '__floor__',\n",
       " '__floordiv__',\n",
       " '__format__',\n",
       " '__ge__',\n",
       " '__getattribute__',\n",
       " '__getnewargs__',\n",
       " '__gt__',\n",
       " '__hash__',\n",
       " '__index__',\n",
       " '__init__',\n",
       " '__init_subclass__',\n",
       " '__int__',\n",
       " '__invert__',\n",
       " '__le__',\n",
       " '__lshift__',\n",
       " '__lt__',\n",
       " '__mod__',\n",
       " '__mul__',\n",
       " '__ne__',\n",
       " '__neg__',\n",
       " '__new__',\n",
       " '__or__',\n",
       " '__pos__',\n",
       " '__pow__',\n",
       " '__radd__',\n",
       " '__rand__',\n",
       " '__rdivmod__',\n",
       " '__reduce__',\n",
       " '__reduce_ex__',\n",
       " '__repr__',\n",
       " '__rfloordiv__',\n",
       " '__rlshift__',\n",
       " '__rmod__',\n",
       " '__rmul__',\n",
       " '__ror__',\n",
       " '__round__',\n",
       " '__rpow__',\n",
       " '__rrshift__',\n",
       " '__rshift__',\n",
       " '__rsub__',\n",
       " '__rtruediv__',\n",
       " '__rxor__',\n",
       " '__setattr__',\n",
       " '__sizeof__',\n",
       " '__str__',\n",
       " '__sub__',\n",
       " '__subclasshook__',\n",
       " '__truediv__',\n",
       " '__trunc__',\n",
       " '__xor__',\n",
       " 'as_integer_ratio',\n",
       " 'bit_length',\n",
       " 'conjugate',\n",
       " 'denominator',\n",
       " 'from_bytes',\n",
       " 'imag',\n",
       " 'numerator',\n",
       " 'real',\n",
       " 'to_bytes']"
      ]
     },
     "execution_count": 5,
     "metadata": {},
     "output_type": "execute_result"
    }
   ],
   "source": [
    "\"\"\"\n",
    "in python, dir() returns all usable attributes for any object\n",
    "\"\"\"\n",
    "t=89\n",
    "dir(t)\n",
    "# help(t)"
   ]
  },
  {
   "cell_type": "code",
   "execution_count": 6,
   "id": "08c80c36",
   "metadata": {},
   "outputs": [
    {
     "name": "stdout",
     "output_type": "stream",
     "text": [
      "This is a number 50\n",
      "This is a string 53\n",
      "103\n",
      "5053\n"
     ]
    }
   ],
   "source": [
    "Num=50\n",
    "Num1='53'\n",
    "print(\"This is a number\",Num)\n",
    "print(\"This is a string\",Num1)\n",
    "print(Num+int(Num1))\n",
    "print(str(Num)+Num1)"
   ]
  },
  {
   "cell_type": "code",
   "execution_count": 7,
   "id": "01fa76eb",
   "metadata": {},
   "outputs": [
    {
     "name": "stdout",
     "output_type": "stream",
     "text": [
      "veera\\notes\n"
     ]
    }
   ],
   "source": [
    "#to print a one raw string, which includes \\n etc\n",
    "print(r\"veera\\notes\")"
   ]
  },
  {
   "cell_type": "code",
   "execution_count": 8,
   "id": "f6179f7f",
   "metadata": {
    "scrolled": true
   },
   "outputs": [
    {
     "name": "stdout",
     "output_type": "stream",
     "text": [
      "7\n"
     ]
    },
    {
     "ename": "NameError",
     "evalue": "name 'w' is not defined",
     "output_type": "error",
     "traceback": [
      "\u001b[1;31m---------------------------------------------------------------------------\u001b[0m",
      "\u001b[1;31mNameError\u001b[0m                                 Traceback (most recent call last)",
      "Input \u001b[1;32mIn [8]\u001b[0m, in \u001b[0;36m<cell line: 5>\u001b[1;34m()\u001b[0m\n\u001b[0;32m      3\u001b[0m \u001b[38;5;28mprint\u001b[39m(w)\n\u001b[0;32m      4\u001b[0m \u001b[38;5;28;01mdel\u001b[39;00m w\n\u001b[1;32m----> 5\u001b[0m w\u001b[38;5;241m+\u001b[39m\u001b[38;5;241m=\u001b[39m\u001b[38;5;241m3\u001b[39m\n\u001b[0;32m      6\u001b[0m \u001b[38;5;28mprint\u001b[39m(w)\n\u001b[0;32m      7\u001b[0m \u001b[38;5;28mprint\u001b[39m(\u001b[38;5;124m'\u001b[39m\u001b[38;5;124mhi\u001b[39m\u001b[38;5;124m'\u001b[39m)\n",
      "\u001b[1;31mNameError\u001b[0m: name 'w' is not defined"
     ]
    }
   ],
   "source": [
    "#deleting a variable\n",
    "w=7\n",
    "print(w)\n",
    "del w\n",
    "w+=3\n",
    "print(w)\n",
    "print('hi')"
   ]
  },
  {
   "cell_type": "markdown",
   "id": "7ca4f7f8",
   "metadata": {},
   "source": [
    "F Strings"
   ]
  },
  {
   "cell_type": "code",
   "execution_count": null,
   "id": "285a1281",
   "metadata": {},
   "outputs": [],
   "source": [
    "name='Veera'\n",
    "Age=18\n",
    "print(f'My name is: {name}, and my age is {Age}') # or use format function:\n",
    "                                                  # print('My name is {}, and my age is {}'.format(name,Age))\n",
    "                                                  #index based format specifying, or reference based format function also exist"
   ]
  },
  {
   "cell_type": "code",
   "execution_count": null,
   "id": "356426a0",
   "metadata": {},
   "outputs": [],
   "source": [
    "ord('A') # to get ASCII value of A"
   ]
  },
  {
   "cell_type": "code",
   "execution_count": null,
   "id": "8befc8b2",
   "metadata": {},
   "outputs": [],
   "source": [
    "a=45\n",
    "b=16\n",
    "a//b #truncation, to take only integer value\n",
    "a/b # gives us a float value"
   ]
  },
  {
   "cell_type": "markdown",
   "id": "fa1c2bed",
   "metadata": {},
   "source": [
    "# List #\n",
    "\n",
    "-heterogeneous set of data\n",
    "-can be mutable\n",
    "-name=[] type of initialisation"
   ]
  },
  {
   "cell_type": "markdown",
   "id": "09777189",
   "metadata": {},
   "source": [
    "# Short hand if #"
   ]
  },
  {
   "cell_type": "code",
   "execution_count": null,
   "id": "d78be898",
   "metadata": {},
   "outputs": [],
   "source": [
    "b=3\n",
    "print('hello') if b==2 else print(\"hi\")\n",
    "#body of if to left, body of else to the right"
   ]
  },
  {
   "cell_type": "code",
   "execution_count": null,
   "id": "e34f8502",
   "metadata": {},
   "outputs": [],
   "source": [
    "b=3\n",
    "a=2\n",
    "print('hello') if(b==2) else print(\"hi\") if(a==b) else print(\"welcome\")\n",
    "                             #body of first else                      #"
   ]
  },
  {
   "cell_type": "markdown",
   "id": "692fdb96",
   "metadata": {},
   "source": [
    "# Loops #"
   ]
  },
  {
   "cell_type": "code",
   "execution_count": null,
   "id": "3b146aa6",
   "metadata": {},
   "outputs": [],
   "source": [
    "#for, while"
   ]
  },
  {
   "cell_type": "code",
   "execution_count": null,
   "id": "594f7758",
   "metadata": {},
   "outputs": [],
   "source": [
    "v_r=range(10)\n",
    "for a in v_r: # in is an *operator*\n",
    "    print(a) # from 0 to 9, returns a range object\n",
    "    print(type(a))\n",
    "print(list(v_r))\n",
    "print(\"Hi\")    "
   ]
  },
  {
   "cell_type": "code",
   "execution_count": null,
   "id": "4481d347",
   "metadata": {},
   "outputs": [],
   "source": [
    "v_r=range(5,11)\n",
    "print(list(v_r))"
   ]
  },
  {
   "cell_type": "code",
   "execution_count": null,
   "id": "0fccd194",
   "metadata": {},
   "outputs": [],
   "source": [
    "name=\"AAA\"\n",
    "for a in name: #for each collection, it is an iterator, similarly strings are iterable objects\n",
    "    print(\"{} Hi\".format(a))\n",
    "# name=123\n",
    "# for a in name: not possible for int because it isnt iterable\n",
    "#     print(\"{} Hi\".format(a))"
   ]
  },
  {
   "cell_type": "code",
   "execution_count": null,
   "id": "f9baa92a",
   "metadata": {},
   "outputs": [],
   "source": [
    "for a in range(5):\n",
    "    print(\"{} \".format(v_r[a]))"
   ]
  },
  {
   "cell_type": "code",
   "execution_count": null,
   "id": "909037a4",
   "metadata": {},
   "outputs": [],
   "source": [
    "#for dictionary, iterate thru dict.keys\n",
    "data={1: 'veera', 2: 'hello',3:'IITJ'}\n",
    "for i in data.values():\n",
    "    print(i)"
   ]
  },
  {
   "cell_type": "markdown",
   "id": "f7e1f09a",
   "metadata": {},
   "source": [
    "# Functions #"
   ]
  },
  {
   "cell_type": "code",
   "execution_count": null,
   "id": "6007041e",
   "metadata": {},
   "outputs": [],
   "source": [
    "def sum_of_two_numbers(a,b):\n",
    "    c=a+b\n",
    "    print(\"the sum is\",c)\n",
    "t=sum_of_two_numbers(int(input('First Number: ')),int(input('Second Number: ')))\n",
    "print(t) #importanttttt"
   ]
  },
  {
   "cell_type": "code",
   "execution_count": null,
   "id": "9c41d52b",
   "metadata": {},
   "outputs": [],
   "source": [
    "def sum_of_two_numbers(a,b):\n",
    "    c=a+b\n",
    "    return c\n",
    "t=sum_of_two_numbers(int(input('First Number: ')),int(input('Second Number: ')))\n",
    "print(t)"
   ]
  },
  {
   "cell_type": "code",
   "execution_count": null,
   "id": "70d37707",
   "metadata": {},
   "outputs": [],
   "source": [
    "# we can define functions inside ither function definitions\n",
    "def out():\n",
    "    print(\"out\")\n",
    "    def inside():\n",
    "        print(\"in\");\n",
    "    inside()\n",
    "out()\n",
    "# inside() #not visible/ directly callable/ out of scope"
   ]
  },
  {
   "cell_type": "markdown",
   "id": "5015550c",
   "metadata": {},
   "source": [
    "# OOPS #"
   ]
  },
  {
   "cell_type": "code",
   "execution_count": null,
   "id": "e9ae4492",
   "metadata": {},
   "outputs": [],
   "source": [
    "\"\"\" \n",
    " Class has properties, behaviour, sets the template for all objects\n",
    " variable/attributes Ex: humans have 2 legs represented by variables\n",
    " behaviour/methods Ex: Teacher teaches is represented by functions\n",
    " \n",
    " A class is basically similar to a structure, we can have methods and variables here in one class, that is it represents \n",
    "the entire object. An object is a live copy of the class, live in the sense that it has memory allocated.\n",
    "\n",
    " First step is to design a class, then look around for properties, and functionings; properties are same, exact value\n",
    "in an object is different\n",
    "\n",
    "\"\"\""
   ]
  },
  {
   "cell_type": "code",
   "execution_count": null,
   "id": "ebb39967",
   "metadata": {},
   "outputs": [],
   "source": [
    "#Example\n",
    "class computer:\n",
    "    def config(self): #\n",
    "        print(\"i5 16GB 1TB\")\n",
    "    \n",
    "c1=computer(); #impp, making an object of computer class, we have used (), eventhough it is a class, semicolon is imp1\n",
    "# This is a \"constructor\", like a function, but actually a class, entire object c1 is made in memory, which has template of\n",
    "# class computer. When we assign the function like this, we are basically creating a object"
   ]
  },
  {
   "cell_type": "code",
   "execution_count": null,
   "id": "2b38a424",
   "metadata": {},
   "outputs": [],
   "source": [
    "\"\"\"\n",
    " Constructors are like special functions, its main role is to create an object and *intialize* the attributes,\n",
    " To call the method inside the class, we need to use the object.\n",
    "\"\"\""
   ]
  },
  {
   "cell_type": "code",
   "execution_count": null,
   "id": "d7f212fc",
   "metadata": {},
   "outputs": [],
   "source": [
    "c1.config()"
   ]
  },
  {
   "cell_type": "code",
   "execution_count": null,
   "id": "ba9e86c8",
   "metadata": {},
   "outputs": [],
   "source": [
    "class student:\n",
    "    def __init__(self,name,roll,marks):\n",
    "        self.name=name\n",
    "        self.roll=roll\n",
    "        self.marks=marks\n",
    "    def print_data(self):\n",
    "        print(\"The student's name is \",self.name)\n",
    "        print(\"The student's roll is \",self.roll)\n",
    "        print(\"The student has obtained \",self.marks)"
   ]
  },
  {
   "cell_type": "code",
   "execution_count": null,
   "id": "04e2dd18",
   "metadata": {},
   "outputs": [],
   "source": [
    "\"\"\"\n",
    "__init__ is a sepcial method,the actual reason why c1=computer() makes sense, initialize the variables/attributes\n",
    "self.something are the attributes, therefore for stud1 memory space, we have 2 parts, one part has name, roll, marks, \n",
    "the other part contains print_data\n",
    "in __init__, we have defined 4 parameters, but when calling the constructor we have 3 arguments\n",
    "without init, we aren't initialising, we are only creating the object, we can't give diff values of attributes\n",
    "\"\"\""
   ]
  },
  {
   "cell_type": "code",
   "execution_count": null,
   "id": "c59ff875",
   "metadata": {},
   "outputs": [],
   "source": [
    "stud1=student(\"veera\",1,95)\n",
    "# when we call the student, we are calling __init__ constructor\n",
    "# at this step, object is made, and at the same time the attributes are initialised\n",
    "stud1.print_data()"
   ]
  },
  {
   "cell_type": "code",
   "execution_count": null,
   "id": "45d8a3dc",
   "metadata": {},
   "outputs": [],
   "source": [
    "\"\"\"\n",
    "self.something is to mention to the interpreter that we are assigning something into object's attributes, and that it is \n",
    "NOT a temporary variable,\n",
    "\"\"\""
   ]
  },
  {
   "cell_type": "code",
   "execution_count": null,
   "id": "d81e296c",
   "metadata": {},
   "outputs": [],
   "source": [
    "print_data()"
   ]
  },
  {
   "cell_type": "code",
   "execution_count": 27,
   "id": "e7e5dbba",
   "metadata": {},
   "outputs": [],
   "source": [
    "class student:\n",
    "    def __init__(self):\n",
    "        self.name='veera'\n",
    "        self.roll=3\n",
    "    def update(self):\n",
    "            self.roll=36\n",
    "    def compare(self,obj1): #we need to define a method separately inside the class to be able to compare anything,\n",
    "                            #as we can't do it directly in the if condition\n",
    "        print(\"True\") if self.roll==obj1.roll else print(\"False\")"
   ]
  },
  {
   "cell_type": "code",
   "execution_count": 28,
   "id": "255ff943",
   "metadata": {},
   "outputs": [
    {
     "name": "stdout",
     "output_type": "stream",
     "text": [
      "False\n",
      "They aren't same\n"
     ]
    }
   ],
   "source": [
    "s1=student()\n",
    "s2=student()\n",
    "\n",
    "s1.update() #for s1, the roll has become 36, not 3\n",
    "if s1.compare(s2):\n",
    "    print(\"They are same\")\n",
    "else:\n",
    "    print(\"They aren't same\")"
   ]
  },
  {
   "cell_type": "code",
   "execution_count": null,
   "id": "dd772f90",
   "metadata": {},
   "outputs": [],
   "source": [
    "\"\"\"\n",
    "types of varibles: 2 types\n",
    "types of methods: 3 types\n",
    "\n",
    "\"\"\"\n",
    "\"\"\"\n",
    "class variable- shared amongst all variables, similar to static varibles in C\n",
    "instance variable- customized for each object\n",
    "\n",
    "\"\"\""
   ]
  },
  {
   "cell_type": "code",
   "execution_count": 33,
   "id": "72222013",
   "metadata": {},
   "outputs": [
    {
     "name": "stdout",
     "output_type": "stream",
     "text": [
      "my cc is  350\n",
      "my topspeed is  120\n",
      "number of wheels is  2\n",
      "my cc is  300\n",
      "my topspeed is  100\n",
      "number of wheels is  2\n",
      "my cc is  350\n",
      "my topspeed is  120\n",
      "number of wheels is  3\n",
      "my cc is  150\n",
      "my topspeed is  100\n",
      "number of wheels is  3\n"
     ]
    }
   ],
   "source": [
    "class bike:\n",
    "    wheels=2\n",
    "    def __init__(self,cc,topspeed):\n",
    "        self.cc=cc\n",
    "        self.topspeed=topspeed\n",
    "    def show_details(self):\n",
    "            print(\"my cc is \",self.cc)\n",
    "            print(\"my topspeed is \",self.topspeed)\n",
    "            print(\"number of wheels is \",self.wheels)\n",
    "\n",
    "b1=bike(350,120)\n",
    "b2=bike(300,100)\n",
    "\n",
    "b1.show_details()\n",
    "b2.show_details()\n",
    "\n",
    "b2.cc=150\n",
    "bike.wheels=3\n",
    "\n",
    "b1.show_details()\n",
    "b2.show_details()"
   ]
  },
  {
   "cell_type": "code",
   "execution_count": 36,
   "id": "5c0fb8fd",
   "metadata": {},
   "outputs": [
    {
     "name": "stdout",
     "output_type": "stream",
     "text": [
      "44.333333333333336\n",
      "26.0\n"
     ]
    }
   ],
   "source": [
    "class Student:\n",
    "    univ='IITJ'\n",
    "    def __init__(self,m1,m2,m3):\n",
    "        self.m1=m1\n",
    "        self.m2=m2\n",
    "        self.m3=m3\n",
    "    def avg(self):\n",
    "        return (self.m1+self.m2+self.m3)/3\n",
    "        \n",
    "s1=Student(34,67,32)\n",
    "print(s1.avg())\n",
    "s2=Student(23,40,15)\n",
    "print(s2.avg())"
   ]
  },
  {
   "cell_type": "code",
   "execution_count": 51,
   "id": "1837db0c",
   "metadata": {},
   "outputs": [
    {
     "name": "stdout",
     "output_type": "stream",
     "text": [
      "Veera 5 8 i5\n",
      "8 i5\n"
     ]
    }
   ],
   "source": [
    "class Student1:\n",
    "    def __init__(self,name,rollno,RAM,cpu):\n",
    "        self.name=name\n",
    "        self.rollno=rollno\n",
    "        self.lap=self.Laptop(RAM,cpu)\n",
    "    def show(self):\n",
    "        print(self.name,self.rollno,self.lap.RAM,self.lap.cpu) #self.lap.cpu is imp, not self.Laptop.cpu\n",
    "        \n",
    "    class Laptop:\n",
    "        def __init__(self,RAM,cpu):\n",
    "            self.RAM=RAM\n",
    "            self.cpu=cpu\n",
    "        def show(self):\n",
    "            print(self.RAM,self.cpu)\n",
    "            \n",
    "s1=Student1('Veera',5,8,'i5')\n",
    "s1.show()\n",
    "lap=Student1.Laptop(8,'i5')\n",
    "lap.show()"
   ]
  },
  {
   "cell_type": "markdown",
   "id": "53990709",
   "metadata": {},
   "source": [
    "# Inheritance #"
   ]
  },
  {
   "cell_type": "code",
   "execution_count": 18,
   "id": "1378aedb",
   "metadata": {
    "collapsed": true
   },
   "outputs": [
    {
     "data": {
      "text/plain": [
       "'\\nSingle level inheritance: parent-child; super-sub\\nMulti level inheritance: grandparent-->parent-->child\\nMultiple inheritance: Multiparent class\\n'"
      ]
     },
     "execution_count": 18,
     "metadata": {},
     "output_type": "execute_result"
    }
   ],
   "source": [
    "\"\"\"\n",
    "Single level inheritance: parent-child; super-sub\n",
    "Multi level inheritance: grandparent-->parent-->child\n",
    "Multiple inheritance: Multiparent class\n",
    "\"\"\""
   ]
  },
  {
   "cell_type": "code",
   "execution_count": 20,
   "id": "751ca5af",
   "metadata": {},
   "outputs": [
    {
     "name": "stdout",
     "output_type": "stream",
     "text": [
      "I am property 3 from class B\n",
      "I am property 4 from class B\n",
      "I am property 1 from class A\n",
      "I am property 2 from class A\n"
     ]
    }
   ],
   "source": [
    "class A:\n",
    "    def property1(self):\n",
    "        print(\"I am property 1 from class A\")\n",
    "    def property2(self):\n",
    "        print(\"I am property 2 from class A\")\n",
    "        \n",
    "class B:\n",
    "    def property3(self):\n",
    "        print(\"I am property 3 from class B\")\n",
    "    def property4(self):\n",
    "        print(\"I am property 4 from class B\")\n",
    "\n",
    "b=B()\n",
    "b.property3()\n",
    "b.property4()\n",
    "a=A()\n",
    "a.property1()\n",
    "a.property2()"
   ]
  },
  {
   "cell_type": "markdown",
   "id": "6dae484a",
   "metadata": {},
   "source": [
    "## Single level Inheritance ##\n",
    "- import all properties from parent to child"
   ]
  },
  {
   "cell_type": "code",
   "execution_count": 61,
   "id": "85bd7d6a",
   "metadata": {},
   "outputs": [
    {
     "name": "stdout",
     "output_type": "stream",
     "text": [
      "In A's constructor\n",
      "In A's constructor\n",
      "I am property 1 from class A\n",
      "In B's constructor\n",
      "I am property 2 from class A\n",
      "I am property 3 from class B\n",
      "I am property 4 from class B\n"
     ]
    }
   ],
   "source": [
    "class A:\n",
    "    def __init__(self):\n",
    "        print(\"In A's constructor\")\n",
    "    def property1(self):\n",
    "        print(\"I am property 1 from class A\")\n",
    "    def property2(self):\n",
    "        print(\"I am property 2 from class A\")\n",
    "        \n",
    "class B(A): #A is the super class\n",
    "    def __init__(self):\n",
    "        super().__init__()                    #super() is imp, it's a library method being used\n",
    "        super().property1()\n",
    "        print(\"In B's constructor\")\n",
    "    def property3(self):\n",
    "        print(\"I am property 3 from class B\")\n",
    "    def property4(self):\n",
    "        print(\"I am property 4 from class B\")\n",
    "\n",
    "a1=A()\n",
    "b1=B()\n",
    "b1.property2()\n",
    "b1.property3()\n",
    "b1.property4()"
   ]
  },
  {
   "cell_type": "code",
   "execution_count": 70,
   "id": "5ccae702",
   "metadata": {},
   "outputs": [
    {
     "name": "stdout",
     "output_type": "stream",
     "text": [
      "Details of trainee:  1234\n",
      "Details of manager: 1 and trainee: 1233\n"
     ]
    }
   ],
   "source": [
    "class trainee:\n",
    "    def __init__(self,trainee_id):\n",
    "        self.trainee_id=trainee_id\n",
    "    def show_T(self):\n",
    "        print(\"Details of trainee: \",self.trainee_id)\n",
    "        \n",
    "class manager(trainee):\n",
    "    def __init__(self,manager_id,t_id):\n",
    "        self.manager_id=manager_id\n",
    "        super().__init__(t_id)\n",
    "    def show_M(self):\n",
    "        print(\"Details of manager: {} and trainee: {}\".format(self.manager_id,self.trainee_id))\n",
    "    \n",
    "t1=trainee(1234)\n",
    "m1=manager(1,1233)\n",
    "\n",
    "t1.show_T()\n",
    "m1.show_M()"
   ]
  },
  {
   "cell_type": "markdown",
   "id": "ca62e2d3",
   "metadata": {},
   "source": [
    "## MultiLevel Inheritance ##\n",
    "- all properties of grandparents and parents"
   ]
  },
  {
   "cell_type": "code",
   "execution_count": 87,
   "id": "4900c11a",
   "metadata": {},
   "outputs": [
    {
     "name": "stdout",
     "output_type": "stream",
     "text": [
      "Details of dircetor: 1 manager: 12 and trainee: 123\n"
     ]
    }
   ],
   "source": [
    "class trainee:\n",
    "    def __init__(self,trainee_id):\n",
    "        self.trainee_id=trainee_id\n",
    "    def show_T(self):\n",
    "        print(\"Details of trainee: \",self.trainee_id)\n",
    "        \n",
    "class manager(trainee):\n",
    "    def __init__(self,manager_id,t_id):\n",
    "        self.manager_id=manager_id\n",
    "        super().__init__(t_id)\n",
    "    def show_M(self):\n",
    "        print(\"Details of manager: {} and trainee: {}\".format(self.manager_id,self.trainee_id))\n",
    "        \n",
    "class director(manager):\n",
    "    def __init__(self,director_id,m_id,t_id1):\n",
    "        self.director_id=director_id\n",
    "        super().__init__(m_id,t_id1)\n",
    "    def show_D(self):\n",
    "        print(\"Details of dircetor: {} manager: {} and trainee: {}\".format(self.director_id,self.manager_id,self.trainee_id))\n",
    "\n",
    "t1=trainee(123)\n",
    "m1=manager(12,123)\n",
    "d1=director(1,12,123)\n",
    "d1.show_D()"
   ]
  },
  {
   "cell_type": "code",
   "execution_count": 110,
   "id": "bf1132e5",
   "metadata": {},
   "outputs": [
    {
     "ename": "AttributeError",
     "evalue": "'director' object has no attribute 'trainee_id'",
     "output_type": "error",
     "traceback": [
      "\u001b[1;31m---------------------------------------------------------------------------\u001b[0m",
      "\u001b[1;31mAttributeError\u001b[0m                            Traceback (most recent call last)",
      "Input \u001b[1;32mIn [110]\u001b[0m, in \u001b[0;36m<cell line: 23>\u001b[1;34m()\u001b[0m\n\u001b[0;32m     21\u001b[0m m1\u001b[38;5;241m=\u001b[39mmanager(\u001b[38;5;241m12\u001b[39m)\n\u001b[0;32m     22\u001b[0m d1\u001b[38;5;241m=\u001b[39mdirector(\u001b[38;5;241m1\u001b[39m,\u001b[38;5;241m12\u001b[39m,\u001b[38;5;241m1234\u001b[39m)\n\u001b[1;32m---> 23\u001b[0m \u001b[43md1\u001b[49m\u001b[38;5;241;43m.\u001b[39;49m\u001b[43mshow_M\u001b[49m\u001b[43m(\u001b[49m\u001b[43m)\u001b[49m\n",
      "Input \u001b[1;32mIn [110]\u001b[0m, in \u001b[0;36mmanager.show_M\u001b[1;34m(self)\u001b[0m\n\u001b[0;32m     10\u001b[0m \u001b[38;5;28;01mdef\u001b[39;00m \u001b[38;5;21mshow_M\u001b[39m(\u001b[38;5;28mself\u001b[39m):\n\u001b[1;32m---> 11\u001b[0m     \u001b[38;5;28mprint\u001b[39m(\u001b[38;5;124m\"\u001b[39m\u001b[38;5;124mDetails of manager: \u001b[39m\u001b[38;5;132;01m{}\u001b[39;00m\u001b[38;5;124m and trainee: \u001b[39m\u001b[38;5;132;01m{}\u001b[39;00m\u001b[38;5;124m\"\u001b[39m\u001b[38;5;241m.\u001b[39mformat(\u001b[38;5;28mself\u001b[39m\u001b[38;5;241m.\u001b[39mmanager_id,\u001b[38;5;28;43mself\u001b[39;49m\u001b[38;5;241;43m.\u001b[39;49m\u001b[43mtrainee_id\u001b[49m))\n",
      "\u001b[1;31mAttributeError\u001b[0m: 'director' object has no attribute 'trainee_id'"
     ]
    }
   ],
   "source": [
    "class trainee:\n",
    "    def __init__(self,trainee_id):\n",
    "        self.trainee_id=trainee_id\n",
    "    def show_T(self):\n",
    "        print(\"Details of trainee: \",self.trainee_id)\n",
    "        \n",
    "class manager:\n",
    "    def __init__(self,manager_id):\n",
    "        self.manager_id=manager_id\n",
    "    def show_M(self):\n",
    "        print(\"Details of manager: {} and trainee: {}\".format(self.manager_id,self.trainee_id))\n",
    "        \n",
    "class director(manager,trainee):\n",
    "    def __init__(self,director_id,m_id,t_id1):\n",
    "        self.director_id=director_id\n",
    "        super().__init__(t_id1)\n",
    "    def show_D(self):\n",
    "        print(\"Details of dircetor: {} manager: {} and trainee: {}\".format(self.director_id,self.manager_id,self.trainee_id))\n",
    "\n",
    "t1=trainee(123)\n",
    "m1=manager(12)\n",
    "d1=director(1,12,1234)\n",
    "d1.show_M()"
   ]
  },
  {
   "cell_type": "code",
   "execution_count": null,
   "id": "52a1195b",
   "metadata": {},
   "outputs": [],
   "source": []
  }
 ],
 "metadata": {
  "kernelspec": {
   "display_name": "Python 3 (ipykernel)",
   "language": "python",
   "name": "python3"
  },
  "language_info": {
   "codemirror_mode": {
    "name": "ipython",
    "version": 3
   },
   "file_extension": ".py",
   "mimetype": "text/x-python",
   "name": "python",
   "nbconvert_exporter": "python",
   "pygments_lexer": "ipython3",
   "version": "3.9.12"
  }
 },
 "nbformat": 4,
 "nbformat_minor": 5
}
