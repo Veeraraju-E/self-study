{
 "cells": [
  {
   "cell_type": "code",
   "execution_count": 1,
   "id": "369c8bfb",
   "metadata": {},
   "outputs": [
    {
     "name": "stdout",
     "output_type": "stream",
     "text": [
      "my name is palash\n",
      "my name is xxx\n"
     ]
    }
   ],
   "source": [
    "#### Python is a case senstive language####\n",
    "name = 'my name is palash'\n",
    "Name = \"my name is xxx\"\n",
    "NAME = \"mm\"\n",
    "print(name)\n",
    "print(Name)\n"
   ]
  },
  {
   "cell_type": "code",
   "execution_count": 3,
   "id": "7248a4d6",
   "metadata": {},
   "outputs": [
    {
     "data": {
      "text/plain": [
       "int"
      ]
     },
     "execution_count": 3,
     "metadata": {},
     "output_type": "execute_result"
    }
   ],
   "source": [
    "###dynamic data type #####\n",
    "a = True\n",
    "type(a) # type function helps us to check the datatype of a variable"
   ]
  },
  {
   "cell_type": "code",
   "execution_count": 7,
   "id": "b66b7707",
   "metadata": {},
   "outputs": [
    {
     "name": "stdout",
     "output_type": "stream",
     "text": [
      "both are same 3110859895984 3110859896176\n"
     ]
    }
   ],
   "source": [
    "\"\"\"\n",
    "The id() function returns a unique id for the specified object.\n",
    "\n",
    "All objects in Python has its own unique id.\n",
    "\n",
    "The id is assigned to the object when it is created.\n",
    "\n",
    "The id is the object's memory address, and will be different for each time you run the program.\n",
    "\"\"\"\n",
    "###memory management####\n",
    "x = 275\n",
    "y = 275\n",
    "print (\"both are same \"+ str(id(x))+ ' '+ str(id(y)))\n",
    "# y = 6\n",
    "# print (\"both are not same \"+ str(id(x))+ \" \" + str(id(y)))\n"
   ]
  },
  {
   "cell_type": "code",
   "execution_count": null,
   "id": "68a2fedf",
   "metadata": {},
   "outputs": [],
   "source": [
    "t=89\n",
    "#help(t)\n",
    "#dir(t)"
   ]
  },
  {
   "cell_type": "code",
   "execution_count": 8,
   "id": "a9813f6b",
   "metadata": {},
   "outputs": [
    {
     "name": "stdout",
     "output_type": "stream",
     "text": [
      "This is a number 50\n",
      "This is a number 53\n",
      "103\n",
      "5053\n"
     ]
    }
   ],
   "source": [
    "### Printing a value with our own message###\n",
    "\n",
    "Num = 50 #int\n",
    "print(\"This is a number\", Num)\n",
    "Num1 = '53'\n",
    "print('This is a number', Num1)\n",
    "print(Num+int(Num1)) #type casting can help in changing the datatypes, Here + is used as addion operator\n",
    "print(str(Num)+Num1) #type casting. Here + operator is used as concatenation"
   ]
  },
  {
   "cell_type": "code",
   "execution_count": 10,
   "id": "16347fec",
   "metadata": {},
   "outputs": [
    {
     "name": "stdout",
     "output_type": "stream",
     "text": [
      "palash\n",
      "otes\n",
      "palash\\notes\n"
     ]
    }
   ],
   "source": [
    "print('palash\\notes') # \\n means a new line\n",
    "print(r\"palash\\notes\")"
   ]
  },
  {
   "cell_type": "code",
   "execution_count": 10,
   "id": "b222c93d",
   "metadata": {},
   "outputs": [
    {
     "name": "stdout",
     "output_type": "stream",
     "text": [
      "class doesn't have offline students\n",
      "class doesn't have offline students\n",
      "\"class doesn't have offline students\"\n"
     ]
    }
   ],
   "source": [
    "print(\"class doesn't have offline students\")\n",
    "print('class doesn\\'t have offline students')\n",
    "print('\"class doesn\\'t have offline students\"')"
   ]
  },
  {
   "cell_type": "code",
   "execution_count": null,
   "id": "e4d1d4eb",
   "metadata": {},
   "outputs": [],
   "source": [
    "## deleting a variable###\n",
    "w=7\n",
    "print(w)\n",
    "del w\n",
    "#print(w)\n",
    "#w = w+3\n",
    "print('hi')"
   ]
  },
  {
   "cell_type": "code",
   "execution_count": null,
   "id": "91b102f9",
   "metadata": {},
   "outputs": [],
   "source": [
    "####printing values in between a string####\n",
    "Name = \"Sachin\"\n",
    "Age = 35\n",
    "print(f'My name is: {Name}, and my age is {Age}') # printing using f-string\n",
    "y = f'My name is: {Name}, and my age is {Age}'\n",
    "print(y)\n",
    "\n"
   ]
  },
  {
   "cell_type": "code",
   "execution_count": null,
   "id": "ba81def4",
   "metadata": {},
   "outputs": [],
   "source": [
    "####printing values in between a string####\n",
    "Name1 = \"palash\"\n",
    "Age1 = 35\n",
    "print('My name is: {}, and my age is {}'.format(Name1, Age1)) # string.format(arguments)\n",
    "print('My name is: {0}, and my age is {1}'.format(Name1, Age1))#index-based format function\n",
    "print('My name is: {b}, and my age is {a}'.format(a=Name1, b=Age1))# reference-based format function"
   ]
  },
  {
   "cell_type": "code",
   "execution_count": 11,
   "id": "799505e2",
   "metadata": {},
   "outputs": [
    {
     "name": "stdout",
     "output_type": "stream",
     "text": [
      "One is integer: I and other float 33.980000, and another charecter is H\n",
      "65\n"
     ]
    }
   ],
   "source": [
    "### Field conversion####\n",
    "x = 73 ## integer use %d\n",
    "variable_a = 'H' ## use %c to print charecter\n",
    "y = 33.98 ## for float Use %f\n",
    "print(\"One is integer: %c and other float %f, and another charecter is %c\"%(x,y,variable_a))\n",
    "\n",
    "ascii_code = 'A'\n",
    "v = ord(ascii_code) ## pass the paramenter and get its corresponding ascii value\n",
    "print(ord(ascii_code))  # ord () can be used to get the corresponding ASCII value\n"
   ]
  },
  {
   "cell_type": "code",
   "execution_count": null,
   "id": "de62ae37",
   "metadata": {},
   "outputs": [],
   "source": [
    "name = \"Palash\"\n",
    "name[5]\n",
    "\n",
    "print(len(name)) # len() is system function  that return the number of charecter of a string\n",
    "x = 10 * name\n",
    "print(x)"
   ]
  },
  {
   "cell_type": "code",
   "execution_count": null,
   "id": "62fe2f96",
   "metadata": {},
   "outputs": [],
   "source": [
    "\"\"\"\"Write a python program to print your name sum of ascii char/length times. Make sure to print your name \n",
    "in a new line each time. \n",
    "\n",
    "Creat two files: assign1.txt {your program}\n",
    "                 readme1.txt (explanation of your code)\n",
    "                 keep this two files in a folder. name the folder with your name_roll. make a zip. \n",
    "                 and upload.\"\"\""
   ]
  },
  {
   "cell_type": "code",
   "execution_count": null,
   "id": "8f884171",
   "metadata": {},
   "outputs": [],
   "source": [
    "name = \"Palash\"\n",
    "length = len(name)\n",
    "sum = ord(name[0]) + ord(name[1])+ ord(name[2]) + ord(name[3])+ ord(name[4]) + ord(name[5])\n",
    "print(\"The sum of ascii\", sum)\n",
    "d = (sum//length)\n",
    "print(\"D:\", d)\n",
    "name  = name + '\\n' # concatenation operator\n",
    "y = d * name\n",
    "print(y)\n",
    "1st time: Palash + '\\n'\n",
    "2nd time: Palash + '\\n'"
   ]
  },
  {
   "cell_type": "code",
   "execution_count": 18,
   "id": "2e67fbf0",
   "metadata": {},
   "outputs": [
    {
     "name": "stdout",
     "output_type": "stream",
     "text": [
      "12\n",
      "[200, 36, 95, 14, 25]\n"
     ]
    }
   ],
   "source": [
    "#### List ########\n",
    "#1. list are used to store multiple values in a single variable.\n",
    "#2. List is a kind of data type, collection.\n",
    "#3. List items are ordered (maintain sequence, indexing is available).\n",
    "#4. List is mutable (changeable).\n",
    "#5. It also allows duplicates.\n",
    "#6. For creating a list, we will use square braces.\n",
    "\n",
    "nums = [] # empty list\n",
    "num1 = [25,12,36,95,14, 25, 25] # created a list of homogeneous values (int)\n",
    "print(num1[-6])\n",
    "#print(num1[1:5]) # accessing a portion of a list either by postive or by negative indexing\n",
    "#print(num1[-5:]) \n",
    "\n",
    "name = [\"Palash\", \"IITJ\", \"Sachin\"] # list of strings\n",
    "#print(name[1])\n",
    "\n",
    "values = [\"Palash\", \"35\", \"100000.667\"] # we want to create a list of heteregenous data\n",
    "values [0] = \"John\" # a list is mutable or changable.\n",
    "\n",
    "mis = [nums, num1, name] # list of list or nested list\n",
    "mis[2][2] # indexing is also possible in nested lists.\n",
    "#########some function on a list ##################\n",
    "num1.append(100) # append function is used to insert at the last of the list\n",
    "num1.insert(1, 200) # using insert you can insert an element to desired location.\n",
    "num1.remove(25) # remove fuction removes an element by its value and removes the first occurance.\n",
    "num1.remove(25)\n",
    "num1.pop(1) # pop is used to remove an element by the index value\n",
    "num1.pop() # Pop with no index deletes form the last.\n",
    "print(num1)\n",
    "#del num1 [2:] # delete is used to delete a portion of a list [exact position: delete postion+1]\n",
    "#print(num1) \n",
    "min(num1) # return the minimum\n",
    "max(num1)\n",
    "sum(num1)\n",
    "num1.sort()\n"
   ]
  },
  {
   "cell_type": "code",
   "execution_count": 20,
   "id": "a42398d1",
   "metadata": {},
   "outputs": [
    {
     "name": "stdout",
     "output_type": "stream",
     "text": [
      "6\n",
      "2\n",
      "2\n",
      "35\n",
      "[23, 20, 6, 5, 20]\n"
     ]
    }
   ],
   "source": [
    "##### Tuple ###############\n",
    "#1. single variable can store multiple data.\n",
    "#2. It is also ordered.\n",
    "#3. It is not mutable.\n",
    "t = (23, 20, 6, 5,20) # tuple is created using the round braces (during creation, we should be careful about the braces).\n",
    "print(t[2]) # Indexing is supported so it is ordered. For accessing, always use square braces.\n",
    "type(t) # type is a library function so round braces.\n",
    "#t[2] = 10   # tuples are not mutable or changable.\n",
    "t1 = (\"Palash\", \"35\")\n",
    "print(t.count(20)) # count is used to count the number occurances of a value.\n",
    "print(t.index(6)) # index returns the first occurance of a value\n",
    "t3 = (t, t1) # tuple of touples is also possible\n",
    "print(t3[1][1])\n",
    "ls=list(t)\n",
    "print(ls)"
   ]
  },
  {
   "cell_type": "code",
   "execution_count": 26,
   "id": "92b2e6dd",
   "metadata": {},
   "outputs": [
    {
     "name": "stdout",
     "output_type": "stream",
     "text": [
      "{2, 5}\n",
      "{2, 3, 4, 5, 'palash'}\n",
      "[2, 3, 4, 5, 'palash']\n"
     ]
    }
   ],
   "source": [
    "#### Set #########\n",
    "#1. A set is collection of unique elemnts.\n",
    "#2. for creating a set we will use a curley braces.\n",
    "#3. Set is not ordered.\n",
    "s = {2,3,1,8,5,96} #  duplicates are not allowed in a set\n",
    "s1 = {2,4,5,\"palash\"}\n",
    "type(s)\n",
    "print(s1.intersection(s))\n",
    "s1.add(3)\n",
    "s1.add(3)\n",
    "print(s1) #Indexing is not allowed because it does not have any order.\n",
    "print(list(s1))"
   ]
  },
  {
   "cell_type": "code",
   "execution_count": 29,
   "id": "1cdd69ee",
   "metadata": {},
   "outputs": [
    {
     "name": "stdout",
     "output_type": "stream",
     "text": [
      "{1: 'ABC', 2: 'john', 3: 'hemangee'}\n",
      "{'Palash': 'CS', 'John': 'Networks', 'Hemangee': 'Maths'}\n",
      "{'Palash': 'CS1', 'John': 'Networks1', 'Hemangee': 'Maths1'}\n",
      "BBQ\n"
     ]
    }
   ],
   "source": [
    "########### Dictionary ##############\n",
    "#1. creating dict we will use curley braces.\n",
    "#2. Dict stores the key-value pairs.\n",
    "#3. the keys are immutable and unique.\n",
    "\n",
    "data = {1: \"palash\", 2: \"john\", 3: \"hemangee\"}\n",
    "#print(data[3]) # accessing data is done based on the key value\n",
    "#print(data.get(3, \"Data not present\"))\n",
    "data [1] = \"ABC\"\n",
    "print(data)\n",
    "##### creating a dict from two lists #####\n",
    "keys = [\"Palash\", \"John\", \"Hemangee\"]\n",
    "values = [\"CS\", \"Networks\", \"Maths\"]\n",
    "data1 = dict(zip(keys, values))# zip function and typecasting is used\n",
    "print(data1)\n",
    "##### creating a dict from two tuples #####\n",
    "keys = (\"Palash\", \"John\", \"Hemangee\")\n",
    "values = [\"CS1\", \"Networks1\", \"Maths1\"]\n",
    "data2 = dict(zip(keys, values))# zip function and typecasting is used\n",
    "print(data2)\n",
    "##### creating a dict from two sets #####\n",
    "keys = {\"Palash1\", \"John1\", \"Hemangee1\"}\n",
    "values = {\"CS1\", \"Networks1\", \"Maths1\"}\n",
    "data3 = dict(zip(keys, values)) # zip function and typecasting is used\n",
    "#print(data3)\n",
    "##### Complex and nested dictionary ######\n",
    "city = {\"High Court\": 93256613621, \"shopping mall\": ['PVR', \"City Center\"], \"restaurants\":{\"chinese\": \"yochina\", \"Indian\":[\"BBQ\",\"Kasturi\"]}}\n",
    "print (city[\"restaurants\"]['Indian'][0])"
   ]
  },
  {
   "cell_type": "code",
   "execution_count": null,
   "id": "c9f97aec",
   "metadata": {},
   "outputs": [],
   "source": [
    "##### Conditional execution using If-else #######\n",
    "a = 5\n",
    "b = 41\n",
    "if a<b:  # Boolean values can be used as conditiona as well# in case of python : is mandatory. If you keep any non-zero value that is evaluated as true.\n",
    "    print(\"We are in if block\") # intendentaion are used to create block or suite\n",
    "    print(\"b is greater than a\")\n",
    "else :\n",
    "    print(\"We are in else block\")\n",
    "    print(\"a is greater than b\")\n",
    "print(\"Out\")\n"
   ]
  },
  {
   "cell_type": "code",
   "execution_count": null,
   "id": "2bdf1441",
   "metadata": {},
   "outputs": [],
   "source": [
    "x = 88\n",
    "y = 8\n",
    "if x < y:\n",
    "    print(\"x is lesser than y\")\n",
    "if x!=y:\n",
    "    print(\"x and y is not equal\")\n",
    "if x>y:\n",
    "    print(\"x is greater than y\")\n",
    "else:\n",
    "    print (\"x and y is equal\")\n",
    "print(\"done!!!\")"
   ]
  },
  {
   "cell_type": "code",
   "execution_count": null,
   "id": "629dd830",
   "metadata": {},
   "outputs": [],
   "source": [
    "x = 88\n",
    "y = 8\n",
    "if x < y:\n",
    "    print(\"x is lesser than y\")\n",
    "elif x!=y:\n",
    "    print(\"x and y is not equal\")\n",
    "elif x>y:\n",
    "    print(\"x is greater than y\")\n",
    "else:\n",
    "    print (\"x and y is equal\")\n",
    "print(\"done!!!\")"
   ]
  },
  {
   "cell_type": "code",
   "execution_count": null,
   "id": "347b30c5",
   "metadata": {},
   "outputs": [],
   "source": [
    "####### nested if-else###########\n",
    "name = \"IITJ\"\n",
    "name1 = \"AIIMs\"\n",
    "deptcode = 5 # assignment, meaning that we are storing the value in the variable\n",
    "if name ==\"IITJ\":\n",
    "    if(deptcode == 1): # == is a conditional operator, we check whether the value of deptcode is 1\n",
    "        print(\"CSE\")\n",
    "    elif(deptcode == 2):\n",
    "        print(\"AID\")\n",
    "    else:\n",
    "        print(\"NON Computer\")\n",
    "if name1 == \"AIIMs\":\n",
    "    if(deptcode == 1):\n",
    "        print(\"radiology\")\n",
    "    elif(deptcode == 2):\n",
    "        print(\"cardilogy\")\n",
    "    else:\n",
    "        print(\"General\") \n",
    "print(\"thanks!!!\")\n"
   ]
  },
  {
   "cell_type": "code",
   "execution_count": null,
   "id": "fdc0ceb3",
   "metadata": {},
   "outputs": [],
   "source": [
    "###### short hand if ############\n",
    "# when you have only one statement you can use short hand if\n",
    "# a = 50\n",
    "# if a>10: \n",
    "#     print(\"Hey\")\n",
    "    \n",
    "# b = 3\n",
    "# print(\"hello\") if b==2 else print (\"hi\") ## body of if is in the left and the the right.\n",
    "a=4\n",
    "b=3\n",
    "if b==2: \n",
    "    print (\"hello\")\n",
    "else:\n",
    "    if (a==b):\n",
    "        print (\"hi\")\n",
    "    else: \n",
    "        print (\"welcome\")\n",
    "        \n",
    "print(\"hello\") if b==2 else print (\"hi\") if (a==b) else print (\"welcome\")"
   ]
  },
  {
   "cell_type": "code",
   "execution_count": null,
   "id": "64c08b7a",
   "metadata": {},
   "outputs": [],
   "source": [
    "########### Loops #################\n",
    "\"\"\"\n",
    "A loop is a sequence of instructions that is continuously repeated untill a certail condition is reached.\n",
    "Primaliry two loops:\n",
    "1. for loop\n",
    "2. while loop\n",
    "\"\"\"\n",
    "v_r = range(10) #The range is a built-in function that return a range object that consists of series of integers.\n",
    "# print(type(v_r)) # range type object\n",
    "# print (v_r)\n",
    "# print (list(v_r)) # trying to convert a range object to list (type casting). for type casting we have used list() function.\n",
    "################# for loop ##############\n",
    "\n",
    "for a in v_r: # for is a reserved keyword. in is a operator\n",
    "    print(a)\n",
    "print (\"Hi\")"
   ]
  },
  {
   "cell_type": "code",
   "execution_count": 5,
   "id": "af08700a",
   "metadata": {},
   "outputs": [
    {
     "name": "stdout",
     "output_type": "stream",
     "text": [
      "1\n",
      "palash\n",
      "2\n",
      "john\n",
      "3\n",
      "hemangee\n"
     ]
    }
   ],
   "source": [
    "v_r1 = range(5,11)\n",
    "# for a in v_r1: # for is a reserved keyword. in is a operator\n",
    "#     print(a)\n",
    "#     print (\"Hi\") # for each element of the sequence the loop will iterate, loop will iterate means whatever you will write inside a loop that will execute.\n",
    "# v_r2 = range(11)\n",
    "# for a in v_r2:\n",
    "#     print(a)\n",
    "\n",
    "Name = 1234 # for loop also iterate over string object\n",
    "for a in Name:\n",
    "    print(\"Hi\")\n",
    "# num = \"456\" # for loop also iterate over string object\n",
    "# for a in num: # for loop does not iterate over numbers\n",
    "#     print(a)\n",
    "#     print(\"Hi\")\n",
    "# l1 = [2,5,1,7,89] # iterable objects: range object, string, collections\n",
    "# for a in range(5): # iteraing on range object\n",
    "#     print(l1[a])\n",
    "# for a in l1: # iterating on directly on the list object\n",
    "#     print(a)\n",
    "data = {1: \"palash\", 2: \"john\", 3: \"hemangee\"}\n",
    "\n",
    "for v in data.keys(): # we can iterate on keys, values or by default is keys\n",
    "    print(v)\n",
    "    print(data[v])"
   ]
  },
  {
   "cell_type": "code",
   "execution_count": 30,
   "id": "a782b5e1",
   "metadata": {},
   "outputs": [
    {
     "name": "stdout",
     "output_type": "stream",
     "text": [
      "2\n",
      "10\n",
      "11\n"
     ]
    }
   ],
   "source": [
    "######## break, continue ##########\n",
    "# fruits = [\"apple\", \"orange\", \"banana\", \"cherry\", \"mango\"]\n",
    "\n",
    "# for  x in fruits: # iterable object is list, so for every element of the list loop iterates\n",
    "#     if (x == \"banana\"): # == is a conditional operator, it does not store a value\n",
    "#         #break # break is used to stop/terminate the immediate loop\n",
    "#         continue # continue will skip the present iteration\n",
    "#     print(\"I love \"+x)\n",
    "  \n",
    "    \n",
    "# print (\"Done \"+ x)\n",
    "\n",
    "l2 = [2,5,6,10,11]\n",
    "for i in l2:\n",
    "    if i in [5,6]:\n",
    "        continue\n",
    "    print(i)"
   ]
  },
  {
   "cell_type": "code",
   "execution_count": null,
   "id": "8ecd867e",
   "metadata": {},
   "outputs": [],
   "source": [
    "############ Using a temporary variable #############################\n",
    "# values = [\"palash\", 35, 56.8]\n",
    "# temp = values[2] ### 56.8\n",
    "# values[2] = values[0] ## palash\n",
    "# values[0] = temp  ### 56.8\n",
    "# print(values)\n",
    "##################### without using a temporary variable ############\n",
    "# values = [\"palash\", 35, 56.8]\n",
    "# print(values)\n",
    "# values.append(values[2]) #[\"palash\", 35, 56.8, 56.8]\n",
    "# values[2] =values[0]     #[\"palash\", 35, \"palash\", 56.8]\n",
    "# values[0] =values[3]     #[56.8, 35, \"palash\", 56.8]\n",
    "# values.pop()             #[56.8, 35, \"palash\"]\n",
    "# print(values)"
   ]
  },
  {
   "cell_type": "code",
   "execution_count": 33,
   "id": "d6bc2822",
   "metadata": {},
   "outputs": [
    {
     "name": "stdout",
     "output_type": "stream",
     "text": [
      "{100, 21, 22, 7, 25, 300, 14}\n",
      "{14, 21, 22, 7}\n",
      "4\n",
      "Even\n"
     ]
    }
   ],
   "source": [
    "s={22,25,14,21,7,100,300}\n",
    "print(s) # Doest follow sequence.\n",
    "s1 = {22,2,14,21,7,258}\n",
    "print(s1.intersection(s))\n",
    "c = len(s1.intersection(s))\n",
    "print(c)\n",
    "if (c%2==0):\n",
    "    print(\"Even\")\n",
    "else :\n",
    "    print(\"Odd\")"
   ]
  },
  {
   "cell_type": "code",
   "execution_count": null,
   "id": "4f7f065a",
   "metadata": {},
   "outputs": [],
   "source": [
    "########## While loop ############\n",
    "\"\"\"\n",
    "With while loop we can execute a set of statements as long as a condition is true.\n",
    "\n",
    "General Syntax\n",
    "\n",
    "while condition: (the loop ends on the terminating condition)\n",
    "    statement 1 \n",
    "    statement 2\n",
    "\"\"\"\n",
    "\n",
    "# i = 0 # intialization\n",
    "# while i<10: # it will execute for i=0--->1........9, after that i --->10 (terminating condition)\n",
    "#     print(\"i =\", i)\n",
    "#     i+=1 # increament or a decreament i = i+1\n",
    "# print(\"done\")\n",
    "\n",
    "\n",
    "# i = 10 # intialization\n",
    "# while i>0: # it will execute for i=10,9,8,7.....1, after that i --->0 (terminating condition)\n",
    "#     print(\"i =\", i)\n",
    "#     i-=1 # increament or a decreament i = i-1\n",
    "# print(\"done\")\n",
    "\n",
    "\n",
    "# import time # we have imported this module to get access of the sleep()\n",
    "# i = 0 # intialization\n",
    "# while i<10: #  so the condition will always be true ---> infinite loop\n",
    "#     print(\". \", end = \" \") # if you want your next print to be printed in same line write end = \"\"\n",
    "#     time.sleep(1) # sleep function ---> sending this process to running state to waiting\n",
    "#     #i = i+1\n",
    "    \n",
    "# print(\"done\")\n",
    "\n",
    "# i = 0\n",
    "# while i<10:\n",
    "#     i+=1\n",
    "#     if i==5:\n",
    "#         break\n",
    "#     print(i)\n",
    "\n",
    "# i = 0\n",
    "# while i<10:\n",
    "#     i+=1\n",
    "#     if i in [2,4]:\n",
    "#         continue\n",
    "#     print(i)\n",
    "############ in while loop we can use else statement ######\n",
    "\n",
    "# i = 11\n",
    "# while i<10:\n",
    "#     print(i)\n",
    "#     i+=1\n",
    "# else:\n",
    "#     print(\"Unlike other launguages, while can have else\")"
   ]
  },
  {
   "cell_type": "code",
   "execution_count": null,
   "id": "163a945d",
   "metadata": {},
   "outputs": [],
   "source": [
    "########## nested loops ###############\n",
    "\n",
    "i = 0\n",
    "j = 0\n",
    "while i<5:         # i =0--->1--->2--->3---->4      j=0--->1--->2---->3--->4|||| j=0\n",
    "    print(\"IITJ\")\n",
    "    while j<5:\n",
    "        print (\"rocks\")\n",
    "        j+=1\n",
    "    i+=1\n",
    "    j=0 #### resetting the condition\n",
    "print(\"Exit!!!!\")\n"
   ]
  },
  {
   "cell_type": "code",
   "execution_count": null,
   "id": "ba597f35",
   "metadata": {},
   "outputs": [],
   "source": [
    "for i in range(5):   # i= 0,1,.....,4\n",
    "    print(\"IITJ\")\n",
    "    for j in range (5): # for each value of i, this loop will execute 5 times\n",
    "        print(\"rocks\")"
   ]
  },
  {
   "cell_type": "code",
   "execution_count": null,
   "id": "5380c3dc",
   "metadata": {},
   "outputs": [],
   "source": [
    "x = [1, 2]\n",
    "y = [4, 5]\n",
    "\n",
    "for i in x: # for each value of i both the values of j will be taken\n",
    "    for j in y:\n",
    "        print(i,j)"
   ]
  },
  {
   "cell_type": "code",
   "execution_count": 7,
   "id": "65d99cc8",
   "metadata": {},
   "outputs": [
    {
     "name": "stdout",
     "output_type": "stream",
     "text": [
      "the sum is  8\n",
      "the sum is  8\n",
      "the sum is  8\n",
      "the sum is  5\n",
      "the sum is  7\n",
      "the sum is  9\n",
      "the mul is  156\n",
      "the mul is  182\n"
     ]
    }
   ],
   "source": [
    "############## Function #################\n",
    "\"\"\"\n",
    "1. In Python, a function is a group of statements that performs some task. It returns some value at\n",
    "end.\n",
    "2. Procedure are similar to functions but it should not returen a value. It only performs the\n",
    "tasks.\n",
    "3. In both, we can have parameters.\n",
    "4. A paremeter is the variables listed inside the parenthesis in the function definition.\n",
    "5. An argument is the value that is sent to the function when it is called.\n",
    "6. Function increses the code reusability and reduce the LOC.\n",
    "\"\"\"\n",
    "def sum_of_two_numbers():#we are creating a new function.def is used to create functin definition\n",
    "    a = 3\n",
    "    b = 5\n",
    "    c = a+b\n",
    "    print (\"the sum is \", c)\n",
    "    \n",
    "def sum_of_two_numbers1(a, b):  # parameters are catching the valures based on the positions\n",
    "    print (\"the sum is \", a+b) # inside the function, we are printing the values\n",
    "    \n",
    "def sum_of_two_numbers2(a, b): # we are throwing the result\n",
    "    return a*b\n",
    "\n",
    "sum_of_two_numbers() # we are calling the function\n",
    "sum_of_two_numbers()\n",
    "sum_of_two_numbers()\n",
    "\n",
    "sum_of_two_numbers1(2,3) # while calling the function, we pass arguments\n",
    "sum_of_two_numbers1(3,4) # throwing the value\n",
    "sum_of_two_numbers1(4,5)\n",
    "\n",
    "print(\"the mul is \",sum_of_two_numbers2(12,13))\n",
    "result = sum_of_two_numbers2(13,14) # results = 27\n",
    "print (\"the mul is \", result)\n",
    "#sum_of_two_numbers2(14,15)    "
   ]
  },
  {
   "cell_type": "code",
   "execution_count": 38,
   "id": "85bb1c98",
   "metadata": {},
   "outputs": [
    {
     "name": "stdout",
     "output_type": "stream",
     "text": [
      "My name is:  palash\n",
      "My age is:  35\n",
      "My location is:  Delhi\n"
     ]
    }
   ],
   "source": [
    "def my_details (name, age, loc = \"Delhi\"): #user-defined function. You can also create default value\n",
    "    print(\"My name is: \", name)\n",
    "    print(\"My age is: \",age)\n",
    "    print(\"My location is: \", loc)\n",
    "\n",
    "my_details (age = 35, name = \"palash\")  # here the arguments are keyword-based"
   ]
  },
  {
   "cell_type": "code",
   "execution_count": null,
   "id": "114990c4",
   "metadata": {},
   "outputs": [],
   "source": [
    "####### Another Example (passing list parameter) ##########\n",
    "\n",
    "def check_even (full_list): # function definition\n",
    "    even_found = [] # empty list\n",
    "    for nums in full_list: # every elemnts will checked\n",
    "        if nums % 2 == 0:  # checking whether it is divisible by 2 \n",
    "            even_found.append(nums) # if divisible add it to the empty list\n",
    "        else:\n",
    "            pass # do nothing\n",
    "    return even_found\n",
    "\n",
    "limit = int (input(\"Please enter the upper limit for natural numbers: \")) #typecasting\n",
    "# input function is used to take user input and it return string object.\n",
    "\n",
    "natural_number = list(range(1,limit+1)) # typecasting range object----> list object\n",
    "print(natural_number)\n",
    "print(check_even(natural_number))\n",
    "print(check_even([20,30,100,3,5,8]))"
   ]
  },
  {
   "cell_type": "code",
   "execution_count": null,
   "id": "4738c66b",
   "metadata": {},
   "outputs": [],
   "source": [
    "######## variable number of arguments (dynamically) #########\n",
    "\n",
    "# def my_mul_add(*args): # function defination of a user defined function\n",
    "#     i = 0\n",
    "#     mul = 1\n",
    "#     while (i<len(args)): ####### i=0, len(args)---->4\n",
    "#         mul = mul * args[i] ### i=0--> mul = 1 * 10,i=1--> mul = 10 * 12,i=2--> mul = 120 * 3\n",
    "#                             ### i=3--> mul = 360 * 4\n",
    "#         i+=1\n",
    "#     print (\"The mul result is: \", mul)\n",
    "#     return sum(args) # I have used a library func (sum)\n",
    "\n",
    "# print(\"The sum is: \",my_mul_add(10,12,3,4)) # I have called the function\n",
    "\n",
    "# def my_key_value(**kvp):\n",
    "#     #print(\"The collection is: \", kvp)\n",
    "#     for a in kvp:\n",
    "#         print(kvp[a], end=\" \")\n",
    "\n",
    "# my_key_value(name = \"Palash\", age=35, loc = \"Kolkata\") \n",
    "# you can pass any number of key-value pairs.\n",
    "\n"
   ]
  },
  {
   "cell_type": "code",
   "execution_count": 8,
   "id": "560d11a1",
   "metadata": {},
   "outputs": [
    {
     "name": "stdout",
     "output_type": "stream",
     "text": [
      "I am the outsider function\n",
      "I am the inner function\n",
      "I am the inner function\n"
     ]
    },
    {
     "ename": "NameError",
     "evalue": "name 'i_am_insider' is not defined",
     "output_type": "error",
     "traceback": [
      "\u001b[1;31m---------------------------------------------------------------------------\u001b[0m",
      "\u001b[1;31mNameError\u001b[0m                                 Traceback (most recent call last)",
      "Cell \u001b[1;32mIn [8], line 14\u001b[0m\n\u001b[0;32m      9\u001b[0m     i_am_insider()\n\u001b[0;32m     13\u001b[0m i_am_outsider()\n\u001b[1;32m---> 14\u001b[0m \u001b[43mi_am_insider\u001b[49m()\n",
      "\u001b[1;31mNameError\u001b[0m: name 'i_am_insider' is not defined"
     ]
    }
   ],
   "source": [
    "####################### Nested Functions ##########################\n",
    "\n",
    "def i_am_outsider():\n",
    "    print (\"I am the outsider function\")\n",
    "    def i_am_insider(): # insider function\n",
    "        print(\"I am the inner function\")\n",
    "\n",
    "    i_am_insider() # call is ok. Why? Because we are calling from inside the function\n",
    "    i_am_insider()\n",
    "    \n",
    "    \n",
    "    \n",
    "i_am_outsider()\n",
    "i_am_insider() # out of scope can not be called\n",
    "\n"
   ]
  },
  {
   "cell_type": "code",
   "execution_count": null,
   "id": "d101537f",
   "metadata": {},
   "outputs": [],
   "source": [
    "########### Lambda Function ############\n",
    "\"\"\"\n",
    "1. Python Lambda functions are anonymous functions which means that the functions are without name\n",
    "2. Lambda keyword is used to create such function.\n",
    "Syntax:\n",
    "lambda arguments: expression \n",
    "5. Multiple arguments can be there.\n",
    "6. Single line.\n",
    "\"\"\"\n",
    "# a = 10\n",
    "# # l_func = lambda a: a+10\n",
    "# # l_func1 = lambda b: b*9\n",
    "# # print (type(l_func))\n",
    "# # print(type(a))\n",
    "# # l_func(100)\n",
    "# # l_func1(100)\n",
    "# aa1 = lambda a,b: (a+b, a*b)\n",
    "\n",
    "# print(\"the answer is:\", aa1(10,30)[1])"
   ]
  },
  {
   "cell_type": "code",
   "execution_count": null,
   "id": "c4964b5d",
   "metadata": {},
   "outputs": [],
   "source": [
    "# def is_even(n):\n",
    "#     if (n%2==0):\n",
    "#         a = n\n",
    "#     else:\n",
    "#         a = False\n",
    "#     return a\n",
    "\n",
    "# nums = [2,3,4,5,6,7,8]\n",
    "# evens = list (filter(is_even, nums)) # filter-->library function\n",
    "\n",
    "# print(evens)\n",
    "\n",
    "nums = [2,3,4,5,6,7,8]\n",
    "evens = list (filter(lambda n: n%2==0, nums)) # filter-->library function\n",
    "\n",
    "print(evens)"
   ]
  },
  {
   "cell_type": "code",
   "execution_count": 13,
   "id": "3b73dcbe",
   "metadata": {},
   "outputs": [
    {
     "name": "stdout",
     "output_type": "stream",
     "text": [
      "i5 16GB 1 TB\n",
      "i5 16GB 1 TB\n",
      "<class '__main__.computer'>\n",
      "<class 'str'>\n"
     ]
    }
   ],
   "source": [
    "####### Object oriented Programming (OOPs) ###########\n",
    "\"\"\"\n",
    "1. Class has properties + behaviour.\n",
    "Properties-----> variables or attributes.\n",
    "Behaviour ------> Methods/functions.\n",
    "\n",
    "What is a class?\n",
    "A class can be considered as a template definition of the methods and variables in a particular kind of object. \n",
    "It is a blueprint for an object.\n",
    "\n",
    "What is object?\n",
    "Objects are the instances of a particular class.\n",
    "\n",
    "The roles of a costructor (it is a special function) is\n",
    "\n",
    "    1. creating a object.\n",
    "    2. intializing the attributes.\n",
    "Constructors are called by the class name.\n",
    "\"\"\"\n",
    "# class computer:\n",
    "#     def config(self):\n",
    "#         print(\"i5 16GB 1 TB\");\n",
    "\n",
    "# c1 = computer();\n",
    "# # config() # you can not directly call this. Why?\n",
    "# c1.config(); # behind the scene-----> computer.config(c1)\n",
    "# computer.config(c1);\n",
    "# print(type(c1));\n",
    "# name = \"Palash\"\n",
    "# print(type(name));\n",
    "\n",
    "\n",
    "class student: # keyword class. Class always has a special function----> Constructor\n",
    "    \n",
    "    def __init__(self, name, roll, marks): # Attributes are the properties. inint is a special method.\n",
    "        self.name = name\n",
    "        self.roll = roll\n",
    "        self.marks = marks\n",
    "    \n",
    "    def print_data(self):\n",
    "        print(\"The student's name is :\", self.name)\n",
    "        print(\"The student's roll is :\", self.roll)\n",
    "        print(\"The student has obtained:\", self.marks)\n",
    "        print(\"--------------------\")\n",
    "        \n",
    "stud1 = student (\"palash\", 1, 85) # Calling Constructor by the class name\n",
    "stud2 = student (\"John\", 2, 95)   # object creation\n",
    "#stud3 = student (\"aa\", 3, 75) \n",
    "stud1.print_data()\n",
    "stud2.print_data()\n",
    "print_data()"
   ]
  },
  {
   "cell_type": "code",
   "execution_count": 14,
   "id": "03a84f35",
   "metadata": {},
   "outputs": [
    {
     "name": "stdout",
     "output_type": "stream",
     "text": [
      "The name is:  palash\n",
      "the Roll is: 1\n",
      "10\n",
      "20\n"
     ]
    }
   ],
   "source": [
    "class student:\n",
    "    \n",
    "    def __init__(self):\n",
    "        self.name =\"palash\"\n",
    "        self.roll = 1\n",
    "    def show(self1):\n",
    "        a=10\n",
    "        print(\"The name is: \", self1.name)\n",
    "        print(\"the Roll is:\", self1.roll)\n",
    "        print(a)\n",
    "a=20    \n",
    "s1 = student() # we are making the object and default constructor is getting called\n",
    "s2 = student()\n",
    "# print(id(s1))\n",
    "# print(id(s2))\n",
    "s1.show()\n",
    "print(a)\n",
    "# s2.name = \"John\"\n",
    "# s2.show()\n",
    "# student.show(s1)"
   ]
  },
  {
   "cell_type": "code",
   "execution_count": 1,
   "id": "63fb357d",
   "metadata": {},
   "outputs": [
    {
     "name": "stdout",
     "output_type": "stream",
     "text": [
      "they are not same\n"
     ]
    }
   ],
   "source": [
    "###### Comparing two objects ######\n",
    "class student:\n",
    "    \n",
    "    def __init__(self):\n",
    "        self.name = \"palash\"\n",
    "        self.roll = 3\n",
    "        \n",
    "    def update(self):\n",
    "        self.roll =36\n",
    "        \n",
    "    def compare(self,obj1):\n",
    "        if self.roll== obj1.roll:\n",
    "            return True\n",
    "        else:\n",
    "            return False\n",
    "        \n",
    "s1 = student()\n",
    "s2 = student()\n",
    "\n",
    "s1.update()\n",
    "\n",
    "if s1.compare(s2):\n",
    "    print(\"They are same\")\n",
    "else:\n",
    "    print(\"they are not same\")"
   ]
  },
  {
   "cell_type": "code",
   "execution_count": 2,
   "id": "76c7127e",
   "metadata": {},
   "outputs": [
    {
     "name": "stdout",
     "output_type": "stream",
     "text": [
      "My cc is : 350\n",
      "My topspeed is : 120\n",
      "The number of wheels:  2\n",
      "------------------\n",
      "My cc is : 350\n",
      "My topspeed is : 120\n",
      "The number of wheels:  2\n",
      "------------------\n",
      "My cc is : 350\n",
      "My topspeed is : 120\n",
      "The number of wheels:  3\n",
      "------------------\n",
      "My cc is : 150\n",
      "My topspeed is : 120\n",
      "The number of wheels:  3\n",
      "------------------\n"
     ]
    }
   ],
   "source": [
    "####################### Types of variables ##########\n",
    "\"\"\"\n",
    "1. class variable: They are shared across all objects.\n",
    "2. Instance variable: These are the variables unique to each instance/object.\n",
    "\n",
    "\"\"\"\n",
    "\n",
    "class bike:\n",
    "    wheels = 2 #class variable\n",
    "    \n",
    "    def __init__(self):\n",
    "        self.cc = 350\n",
    "        self.topspeed = 120\n",
    "        \n",
    "    def show_details(self):\n",
    "        print(\"My cc is :\", self.cc)\n",
    "        print(\"My topspeed is :\", self.topspeed)\n",
    "        print(\"The number of wheels: \", self.wheels)\n",
    "        print(\"------------------\")\n",
    "b1 = bike()\n",
    "b2 = bike()\n",
    "b1.show_details()\n",
    "b2.show_details()\n",
    "b2.cc = 150\n",
    "\n",
    "bike.wheels = 3\n",
    "\n",
    "b1.show_details()\n",
    "b2.show_details()"
   ]
  },
  {
   "cell_type": "code",
   "execution_count": 6,
   "id": "705e4cbf",
   "metadata": {},
   "outputs": [
    {
     "name": "stdout",
     "output_type": "stream",
     "text": [
      "24.0\n",
      "36.0\n",
      "24.0\n",
      "This is a student class.......\n",
      "This is a student class.......\n"
     ]
    }
   ],
   "source": [
    "############################ Type of methods ##############################\n",
    "\"\"\"\n",
    "1. Instance methods: Deals with the instance variables of the objects.\n",
    "2. Class methods: Deals with the class variables and can be called on class itself\n",
    "3. Static methods: Normally do not deals with the class variables/instance variable. Generic/isolated\n",
    "   operations can be implemented.\n",
    "\"\"\"\n",
    "\n",
    "class Student:\n",
    "    \n",
    "    college = 'IITJ'\n",
    "    \n",
    "    def __init__(self, m1,m2,m3):\n",
    "        self.m1 = m1\n",
    "        self.m2 = m2\n",
    "        self.m3 = m3\n",
    "    def avg(self):          # instance method as we are passing self--> means it belongs to some object\n",
    "        return (self.m1+self.m2+self.m3)/3\n",
    "    @classmethod #2 imp words in one!\n",
    "    def get_college_name(cls): # Class methods --> deals with the class variables, no self (as we are not dealing with obj)\n",
    "        print(\"The college is :\", cls.college)   # cls refers to class here\n",
    "    @staticmethod\n",
    "    def info():             # no self, no cls--> make it blank for the static methods, i.e, no parameters\n",
    "        print(\"This is a student class.......\")\n",
    "        \n",
    "s1 = Student(23,24,25) # constructor\n",
    "s2 = Student(35,36,37)\n",
    "\n",
    "print(s1.avg())\n",
    "print(s2.avg())\n",
    "\n",
    "print(Student.avg(s1)) # you can pass object as paramenter.\n",
    "\n",
    "\n",
    "Student.info()\n",
    "s1.info()"
   ]
  },
  {
   "cell_type": "code",
   "execution_count": 7,
   "id": "2007edca",
   "metadata": {},
   "outputs": [
    {
     "name": "stdout",
     "output_type": "stream",
     "text": [
      "30\n",
      "20\n"
     ]
    }
   ],
   "source": [
    "class dog:\n",
    "    \n",
    "    def __init__(self):\n",
    "        self.a = 20\n",
    "        \n",
    "    def show_data(self):\n",
    "        print(self.a)\n",
    "        \n",
    "class cat:\n",
    "    \n",
    "    def __init__(self):\n",
    "        self.b = 30\n",
    "        \n",
    "    def show_data1(self):\n",
    "        print(self.b)\n",
    "        d1 = dog()\n",
    "        print(d1.a)\n",
    "        \n",
    "# d1 = dog()\n",
    "c1 = cat()\n",
    "\n",
    "# d1.show_data()\n",
    "c1.show_data1()"
   ]
  },
  {
   "cell_type": "code",
   "execution_count": 8,
   "id": "1675f29a",
   "metadata": {},
   "outputs": [
    {
     "name": "stdout",
     "output_type": "stream",
     "text": [
      "Palash 1 Dell i5 8\n",
      "John 2 Dell i5 8\n",
      "8\n",
      "16\n"
     ]
    }
   ],
   "source": [
    "########################### inner class ####################\n",
    "\n",
    "class Student1:\n",
    "    \n",
    "    def __init__(self, name1, roll1):\n",
    "        self.name = name1\n",
    "        self.roll = roll1\n",
    "        self.lap = self.Laptop()\n",
    "        \n",
    "    def show(self):\n",
    "        print(self.name, self.roll, self.lap.brand, self.lap.cpu, self.lap.RAM)\n",
    "        \n",
    "    class Laptop:\n",
    "        \n",
    "        def __init__(self):\n",
    "            self.brand = 'Dell'\n",
    "            self.cpu =\"i5\"\n",
    "            self.RAM = 8\n",
    "            \n",
    "s1 = Student1(\"Palash\", 1)\n",
    "s2 = Student1(\"John\", 2)\n",
    "s1.show()\n",
    "s2.show()\n",
    "\n",
    "lap1 = Student1.Laptop()#u can also create an object of inner class outside the outer class but u need outer class name to call\n",
    "print(lap1.RAM)\n",
    "lap1.RAM = 16\n",
    "print(lap1.RAM)"
   ]
  },
  {
   "cell_type": "code",
   "execution_count": 12,
   "id": "198238cb",
   "metadata": {},
   "outputs": [
    {
     "name": "stdout",
     "output_type": "stream",
     "text": [
      "I am property 1 from class A\n",
      "I am property 2 from class A\n",
      "I am property 3 from class B\n",
      "I am property 4 from class B\n",
      "-------------------------------\n",
      "I am property 1 from class A\n",
      "I am property 2 from class A\n"
     ]
    },
    {
     "ename": "AttributeError",
     "evalue": "'A' object has no attribute 'property3'",
     "output_type": "error",
     "traceback": [
      "\u001b[1;31m---------------------------------------------------------------------------\u001b[0m",
      "\u001b[1;31mAttributeError\u001b[0m                            Traceback (most recent call last)",
      "Input \u001b[1;32mIn [12]\u001b[0m, in \u001b[0;36m<cell line: 35>\u001b[1;34m()\u001b[0m\n\u001b[0;32m     33\u001b[0m a\u001b[38;5;241m.\u001b[39mproperty1()\n\u001b[0;32m     34\u001b[0m a\u001b[38;5;241m.\u001b[39mproperty2()\n\u001b[1;32m---> 35\u001b[0m \u001b[43ma\u001b[49m\u001b[38;5;241;43m.\u001b[39;49m\u001b[43mproperty3\u001b[49m()     \u001b[38;5;66;03m# error child's property is not there in parent.\u001b[39;00m\n\u001b[0;32m     36\u001b[0m a\u001b[38;5;241m.\u001b[39mproperty4()\n",
      "\u001b[1;31mAttributeError\u001b[0m: 'A' object has no attribute 'property3'"
     ]
    }
   ],
   "source": [
    "################## Inheritance #####################\n",
    "\"\"\"\n",
    "1. Single-level inheritance. (Parent--->child, Super---> sub)\n",
    "2. Multi-level inheritance.  (Grand Parent---> Parent----> child)\n",
    "3. Multiple inheritance.     (Multiple parent class)\n",
    "\n",
    "\"\"\"\n",
    "################ Single level inheritance ########################\n",
    "\n",
    "class A:\n",
    "    \n",
    "    def property1(self):\n",
    "        print (\"I am property 1 from class A\")\n",
    "\n",
    "    def property2(self):\n",
    "        print (\"I am property 2 from class A\")\n",
    "\n",
    "class B (A): #B inherits A\n",
    "    \n",
    "    def property3(self):\n",
    "        print (\"I am property 3 from class B\")\n",
    "\n",
    "    def property4(self):\n",
    "        print (\"I am property 4 from class B\")\n",
    "        \n",
    "b = B()\n",
    "b.property1()\n",
    "b.property2()\n",
    "b.property3()\n",
    "b.property4()\n",
    "print(\"-------------------------------\")\n",
    "a = A()\n",
    "a.property1()\n",
    "a.property2()\n",
    "a.property3()     # error child's property is not there in parent.\n",
    "a.property4()     # error child's property is not there in parent."
   ]
  },
  {
   "cell_type": "code",
   "execution_count": 13,
   "id": "72c4d96c",
   "metadata": {},
   "outputs": [
    {
     "name": "stdout",
     "output_type": "stream",
     "text": [
      "In A's Constructor\n",
      "In B's Constructor\n",
      "I am property 1 from class A\n"
     ]
    }
   ],
   "source": [
    "#################### Constructors in inheritance #####################\n",
    "class A:\n",
    "    \n",
    "    def __init__(self):\n",
    "        print(\"In A's Constructor\")\n",
    "    \n",
    "    def property1(self):\n",
    "        print (\"I am property 1 from class A\")\n",
    "\n",
    "    def property2(self):\n",
    "        print (\"I am property 2 from class A\")\n",
    "\n",
    "class B (A):\n",
    "    \n",
    "#     def __init__(self):      # If b's constructor is not present and A's is present then A's constructor will be called.\n",
    "#         print(\"In B's Constructor\")\n",
    "\n",
    "    def __init__(self):\n",
    "        super().__init__()    # Using super(), you can call super class methods + constructor.\n",
    "        print(\"In B's Constructor\")\n",
    "        \n",
    "    def property3(self):\n",
    "        print (\"I am property 3 from class B\")\n",
    "\n",
    "    def property4(self):\n",
    "        print (\"I am property 4 from class B\")\n",
    "\n",
    "#a1 = A()\n",
    "b1 = B()\n",
    "b1.property1()"
   ]
  },
  {
   "cell_type": "code",
   "execution_count": 16,
   "id": "6d1db097",
   "metadata": {},
   "outputs": [
    {
     "name": "stdout",
     "output_type": "stream",
     "text": [
      "Trainee's id is : 1\n",
      "Manager's id is : 20\n",
      "Trainee's id is : 1\n",
      "Trainee's id is : 23\n"
     ]
    }
   ],
   "source": [
    "####### Anonther example of single-level inheritance ##############\n",
    "class trainee:\n",
    "    \n",
    "    def __init__(self, tid): \n",
    "        self.trainee_id = tid\n",
    "        \n",
    "    def show_details_t(self):\n",
    "        print(\"Trainee's id is :\", self.trainee_id)\n",
    "            \n",
    "class manager(trainee): \n",
    "    def __init__(self, mgr_id, tid):\n",
    "        super().__init__(tid)\n",
    "        self.mgr_id=mgr_id\n",
    "        \n",
    "    def show_details_M(self):\n",
    "        print(\"Trainee's id is :\", self.trainee_id)\n",
    "        print(\"Manager's id is :\", self.mgr_id)\n",
    "         \n",
    "    \n",
    "t = trainee (23)  \n",
    "m = manager(20, 1)        # Object construction brings some properties from parent class\n",
    "\n",
    "m.show_details_M()\n",
    "m.show_details_t()\n",
    "t.show_details_t()\n",
    "# t.show_details_M()       # error child's property is not there in parent."
   ]
  },
  {
   "cell_type": "code",
   "execution_count": null,
   "id": "d7d7afac",
   "metadata": {},
   "outputs": [],
   "source": [
    "################ Multi-level inheritance ########################\n",
    "\n",
    "class trainee:\n",
    "    \n",
    "    def __init__(self, tid): \n",
    "        self.trainee_id = tid\n",
    "        \n",
    "    def show_details_t(self):\n",
    "        print(\"Trainee's id is :\", self.trainee_id)\n",
    "\n",
    "class project_lead(trainee):\n",
    "    \n",
    "    def __init__(self, pid, tid):\n",
    "        super().__init__(tid)\n",
    "        self.p_id = pid\n",
    "        \n",
    "    def show_details_p(self):\n",
    "        print(\"Trainee's id is :\", self.trainee_id)\n",
    "        print(\"Project_lead's id is :\", self.p_id)\n",
    "\n",
    "class manager(project_lead):\n",
    "    \n",
    "    def __init__(self, mgr_id, pid, tid):\n",
    "        super().__init__(pid, tid)\n",
    "        self.mgr_id = mgr_id\n",
    "        \n",
    "    def show_details_M(self):\n",
    "        print(\"Trainee's id is :\", self.trainee_id)\n",
    "        print(\"Project_lead's id is :\", self.p_id)\n",
    "        print(\"Manager's id is :\", self.mgr_id)\n",
    "         \n",
    "    \n",
    "#t = trainee (23)  \n",
    "m = manager(20, 1, 2)        # Object construction brings some properties from parent class\n",
    "p = project_lead(4,5)\n",
    "m.show_details_M()\n",
    "print(\"----------\")\n",
    "m.show_details_p()\n",
    "print(\"----------\")\n",
    "m.show_details_t()\n",
    "p.show_details_M()         # error child's property is not there in parent.\n",
    "# t.show_details_M()       # error child's property is not there in parent."
   ]
  },
  {
   "cell_type": "code",
   "execution_count": 17,
   "id": "4ee13219",
   "metadata": {},
   "outputs": [
    {
     "name": "stdout",
     "output_type": "stream",
     "text": [
      "Test from trainee 2\n",
      "Test from project_lead 1\n",
      "Trainee's id is : 2\n",
      "Project_lead's id is : 1\n",
      "Manager's id is : 20\n",
      "------------\n",
      "Project_lead's id is : 1\n",
      "------------\n",
      "Project_lead's id is : 55\n",
      "------------\n"
     ]
    }
   ],
   "source": [
    "################ Multiple inheritance ########################\n",
    "\n",
    "class trainee:\n",
    "    \n",
    "    def __init__(self, tid): \n",
    "        self.trainee_id = tid\n",
    "        \n",
    "    def show_details_t(self):\n",
    "        print(\"Trainee's id is :\", self.trainee_id)\n",
    "\n",
    "    def test(self):\n",
    "        print(\"Test from trainee\", self.trainee_id)\n",
    "        \n",
    "class project_lead:\n",
    "    \n",
    "    def __init__(self, pid):\n",
    "        self.p_id = pid\n",
    "        \n",
    "    def show_details_p(self):\n",
    "        print(\"Project_lead's id is :\", self.p_id)\n",
    "    \n",
    "    def test(self):\n",
    "        print(\"Test from project_lead\", self.p_id)\n",
    "\n",
    "class manager(trainee, project_lead):\n",
    "    \n",
    "    def __init__(self, mgr_id, pid, tid):\n",
    "          super().__init__(tid)\n",
    "          project_lead.__init__(self, pid)\n",
    "          #self.p_id = pid\n",
    "          self.mgr_id = mgr_id\n",
    "          super().test() # Method resolution order\n",
    "          project_lead.test(self)\n",
    "        \n",
    "    def show_details_M(self):\n",
    "        print(\"Trainee's id is :\", self.trainee_id)\n",
    "        print(\"Project_lead's id is :\", self.p_id)\n",
    "        print(\"Manager's id is :\", self.mgr_id)\n",
    "         \n",
    "    \n",
    "#t = trainee (23)  \n",
    "m = manager(20, 1, 2)        # Object construction brings some properties from parent class\n",
    "p = project_lead(55)\n",
    "m.show_details_M()\n",
    "print(\"------------\")\n",
    "m.show_details_p()\n",
    "print(\"------------\")\n",
    "p.show_details_p()\n",
    "print(\"------------\")\n",
    "#p.show_details_M()        # error child's property is not there in parent."
   ]
  },
  {
   "cell_type": "code",
   "execution_count": null,
   "id": "c118e02e",
   "metadata": {},
   "outputs": [],
   "source": [
    "################ Polymorphism ###################################\n",
    "\"\"\"\n",
    "1. Polymorphism: Poly ----> many, morph ----> forms.\n",
    "2. Four ways to implement polymorphism are:\n",
    "\n",
    "        a. Duck Typing.\n",
    "        b. Operator Overloading.\n",
    "        c. Method Overloading.\n",
    "        d. Method Overriding.\n",
    "\"\"\""
   ]
  },
  {
   "cell_type": "code",
   "execution_count": null,
   "id": "e71153ce",
   "metadata": {},
   "outputs": [],
   "source": [
    "################ Duck Typing ####################################\n",
    "\"\"\"\n",
    "1. Duck typing is a concept related to dynamic typing, where the type or the class of an object is less important than \n",
    "the methods it defines.\n",
    "\n",
    "2. When you use duck typing, you do not check types at all. Instead, you check for the presence of a given method or attribute.\n",
    "\n",
    "Analogy: If a bird walks like a duck, quacks like a duck, swims like a duck, we call that bird a duck.\n",
    "\"\"\"\n",
    "class Sublime:\n",
    "    \n",
    "    def execute(self):\n",
    "        print(\"Highlight text using color code\")\n",
    "        print(\"Compile\")\n",
    "        print(\"Run\")\n",
    "     \n",
    "class Jupyter:\n",
    "    \n",
    "    def execute(self):\n",
    "        print(\"Highlight text using color code\")\n",
    "        print(\"Spell check\")\n",
    "        print(\"Provide Cells\")\n",
    "        print(\"Compile\")\n",
    "        print(\"Run\")\n",
    "        \n",
    "class Computer:\n",
    "    \n",
    "    def program (self, IDE): # Dynamic typing of object, you can replace object type provided \n",
    "         IDE.execute()       # execute method should be there. We only see the behaviour\n",
    "                             #(execute()) and we think its an IDE. May be a dog class  \n",
    "                             #can have execute but thats not and IDE. But we don't care.\n",
    "                 \n",
    "i1 = Sublime() # Object of sublime class\n",
    "i2 = Jupyter() # Object of Jupyter class\n",
    "\n",
    "\n",
    "sys1 = Computer()\n",
    "sys1.program(i3)"
   ]
  },
  {
   "cell_type": "code",
   "execution_count": null,
   "id": "db9b4875",
   "metadata": {},
   "outputs": [],
   "source": [
    "######################## Operator Overloading #############################\n",
    "\"\"\"\n",
    "1. Operator Overloading means giving extended meaning beyond their predefined operational meaning.\n",
    "2. You might have noticed that the same built-in operator or function shows different behavior for\n",
    "objects of different classes, this is called Operator Overloading. \n",
    "3. The method name is the same, but the type of arguments and number of arguments change. \n",
    "\"\"\"\n",
    "class student:\n",
    "    \n",
    "    def __init__ (self, m1, m2):\n",
    "        self.m1 = m1\n",
    "        self.m2 = m2\n",
    "        \n",
    "    def __add__(self, obj):\n",
    "        m1 = self.m1 + obj.m1\n",
    "        m2 = self.m2 + obj.m2\n",
    "        s3 = student(m1, m2)\n",
    "        return s3\n",
    "\n",
    "#     def __sub__(self, obj):\n",
    "#         m1 = self.m1 - obj.m1\n",
    "#         m2 = self.m2 - obj.m2\n",
    "#         s3 = student(m1, m2)\n",
    "#         return s3\n",
    "    \n",
    "#     def __mul__(self, obj):\n",
    "#         m1 = self.m1 * obj.m1\n",
    "#         m2 = self.m2 * obj.m2\n",
    "#         s3 = student(m1, m2)\n",
    "#         return s3\n",
    "    \n",
    "    def show(self):\n",
    "        print (self.m1, self.m2)\n",
    "        \n",
    "s1  = student (22, 44)\n",
    "s2  = student (4, 5)\n",
    "\n",
    "s3 = s1 + s2\n",
    "\n",
    "# s4 = s1 - s2\n",
    "# s5 = s1 * s2\n",
    "\n",
    "s3.show()\n",
    "# s4.show()\n",
    "# s5.show()"
   ]
  },
  {
   "cell_type": "code",
   "execution_count": null,
   "id": "a5ce41fe",
   "metadata": {},
   "outputs": [],
   "source": [
    "######################## Method Overloading #############################\n",
    "class Student:\n",
    "    \n",
    "    def __init__(self, m1, m2):\n",
    "        self.m1 = m1\n",
    "        self.m2 = m2\n",
    "        \n",
    "#     def sum (self, a, b):\n",
    "#         return a+b\n",
    "\n",
    "    def sum (self, a, b, c):\n",
    "        return a+b+c\n",
    "             \n",
    "#     def sum (self, a = None, b = None, c = None):\n",
    "#         s = 0\n",
    "        \n",
    "#         if a!=None and b!=None and c!=None:\n",
    "#             s = a+b+c\n",
    "#         elif a!=None and b!=None:\n",
    "#             s = a+b\n",
    "#         else:\n",
    "#             s = a\n",
    "        \n",
    "#         return s\n",
    "\n",
    "s1 = Student (5, 6)\n",
    "print(s1.sum(2,3,7))"
   ]
  },
  {
   "cell_type": "code",
   "execution_count": null,
   "id": "9eb61891",
   "metadata": {},
   "outputs": [],
   "source": [
    "######################## Method Overriding #############################\n",
    "\n",
    "class A:\n",
    "    \n",
    "    def show (self):\n",
    "        print(\"I am show from class A\")\n",
    "        \n",
    "class B(A):\n",
    "      #pass\n",
    "    def show (self):\n",
    "        print(\"I am show from class B\")\n",
    "        \n",
    "o = B()\n",
    "o.show()"
   ]
  },
  {
   "cell_type": "code",
   "execution_count": null,
   "id": "239290ff",
   "metadata": {},
   "outputs": [],
   "source": [
    "######### Array in python #########\n",
    "\"\"\"\n",
    "1. Arrays are collection of homogeneous datatypes.\n",
    "2. Types: i-->signed int, I --> unsigned int, f---> float, d--->double, L ---> unsigned Long, l ---> signed long, \n",
    "u--->char.\n",
    "\"\"\"\n",
    "from array import *               # By default arrays are not supported, you need to import the array module.\n",
    "\n",
    "vals = array('i', [1,2,3,4,5])\n",
    "vals1 = array('i', [1,2,3,4,6]) # Heterogenous data not supported\n",
    "#vals = array('I', [1,2,3,-4,5])  # Signed int, both positive and negative values are supported\n",
    "# vals1 = array('i', [1,2,3,-4,5])\n",
    "val3 = vals+vals1                # not getting elementwise sums. One is appended with other. Elementwise sum in numpy.         \n",
    "print(val3)\n",
    "# #vals = array('I', [1,2,3,-4,5]) # Unsigned int, negative value not supported\n",
    "c = array('u', ['A','B', 'C'])   # u (unicode) --> charecters\n",
    "# print(vals)\n",
    "print(vals.buffer_info()) # Returns a tuple with initial address of the array with the number of elements.\n",
    "print(vals.typecode)      # Returns the typecode of the array i.e. i, I, B , etc.\n",
    "vals.reverse()             # Reverse does not return any value. This only reverses the whole array.\n",
    "print(vals)\n",
    "print(c[0])"
   ]
  },
  {
   "cell_type": "code",
   "execution_count": null,
   "id": "9b221d98",
   "metadata": {},
   "outputs": [],
   "source": [
    "#################### How to print array elements one by one #############\n",
    "from array import *  \n",
    "vals = array('i', [11,21,31,-4,5])\n",
    "\n",
    "# for i in range(len(vals)):         # this works   \n",
    "#     print(vals[i])\n",
    "\n",
    "# for i in vals:             # this works \n",
    "#     print(i)\n",
    "\n",
    "# i = 0                      # this also works\n",
    "# while i<len(vals):\n",
    "#     print(vals[i])\n",
    "#     i+=1"
   ]
  },
  {
   "cell_type": "code",
   "execution_count": null,
   "id": "f2e5821c",
   "metadata": {},
   "outputs": [],
   "source": [
    "############Coping one array to other #####################\n",
    "from array import * \n",
    "vals = array('i', [1,2,3,-4,5])\n",
    "\n",
    "newarr = array(vals.typecode, (a*2 for a in vals)) # copied double of each number\n",
    "print(newarr)"
   ]
  },
  {
   "cell_type": "code",
   "execution_count": null,
   "id": "a7bae340",
   "metadata": {},
   "outputs": [],
   "source": [
    "############### User input to an array #####################\n",
    "\n",
    "from array import *\n",
    "\n",
    "arr = array('i', [])\n",
    "n = int(input(\"Enter the length of an array \"))\n",
    "\n",
    "for i in range(n):\n",
    "    x = int(input(\"Enter a value \"))\n",
    "    arr.append(x)\n",
    "    \n",
    "print(arr)"
   ]
  },
  {
   "cell_type": "code",
   "execution_count": null,
   "id": "9f25cb81",
   "metadata": {},
   "outputs": [],
   "source": [
    "############# Searching an element in the array ########################\n",
    "from array import *\n",
    "\n",
    "arr = array('i', [])\n",
    "n = int(input(\"Enter the length of an array \"))\n",
    "\n",
    "for i in range(n):\n",
    "    x = int(input(\"Enter a value \"))\n",
    "    arr.append(x)\n",
    "    \n",
    "Key = int(input(\"Enter the value to be searched \"))\n",
    "k = 0\n",
    "for item in arr:\n",
    "    if item==Key:\n",
    "        print(\"Item found on \", k)\n",
    "        break\n",
    "    k+=1\n",
    "    \n",
    "print(\"Item found on \", arr.index(Key))"
   ]
  },
  {
   "cell_type": "code",
   "execution_count": null,
   "id": "7ffdeace",
   "metadata": {},
   "outputs": [],
   "source": [
    "! pip3 install numpy\n"
   ]
  },
  {
   "cell_type": "code",
   "execution_count": null,
   "id": "7da8293f",
   "metadata": {},
   "outputs": [],
   "source": [
    "####################### numpy ############################\n",
    "\"\"\"\n",
    "1. Helps in dealing with multi-dimensional array.\n",
    "2. This does not come with the default packages of python. We need to install it separately.\n",
    "3. Use \"! pip3 install numpy\" to install numpy.\n",
    "\"\"\"\n",
    "from numpy import *\n",
    "\n",
    "vals = array([1,2,3,-4,5.6]) # typecode is not mandatory.\n",
    "vals1 = array([1,2,3,-4,5.6], float) # Explicit Conversion  \n",
    "print(vals)\n",
    "print(vals1)"
   ]
  },
  {
   "cell_type": "code",
   "execution_count": null,
   "id": "061bb440",
   "metadata": {},
   "outputs": [],
   "source": [
    "############ More on arrays #################\n",
    "\"\"\"\n",
    "--> Arrays can be made by array(), linspace(), logspace(), arange(), zeros(), ones().....\n",
    "--> NumPy arrays have a fixed size at creation, unlike Python lists (which can grow dynamically).\n",
    "\"\"\"\n",
    "\n",
    "from numpy import *\n",
    "arr = array ([1,2,3,4,5])\n",
    "# print(arr)\n",
    "print(arr.dtype) # datatype of the values\n",
    "# arr1 = array ([1,2,3,4.8,5]) # implicit conversion\n",
    "# print(arr1) # Every value here will be converted into float\n",
    "# print(arr1.dtype)\n",
    "# arr2 = array ([1,2,3,4,5], float) # Explicit conversion\n",
    "# print(arr2)\n",
    "# arr3 = array ([1.2,2.3,3.1,4.2,8.3], int) # Explicit conversion\n",
    "# print(arr3)\n",
    "\n",
    "\n",
    "# arr = linspace(0,15,25) # Parameters are start, stop, parts. Default step is 50. As it is step values are by default float here.\n",
    "# #arr[1] = 3\n",
    "# print(arr)\n",
    "\n",
    "arr1 = arange(0,15,2) # Parameters are start, stop, steps. Here, it is step not a part.\n",
    "#arr1[1] = 3\n",
    "print(arr1)\n",
    "\n",
    "# arr1 = zeros(15, int) # Array of size 15. All are initialized to 0s. By default, the  values are float.\n",
    "# #arr1[1] = 3\n",
    "# print(arr1)\n",
    "\n",
    "# arr1 = ones(15, int) # Array of size 15. All are initialized to 1s. By default, the  values are float.\n",
    "# #arr1[1] = 3\n",
    "# print(arr1)\n",
    "\n",
    "\n",
    "# arr = logspace(1,40,5)#Array will be devided into 5 parts. Start: 10^1 end: 10^40. The start to end will be divided into 5 parts.  \n",
    "# #arr[1] = 3\n",
    "# print(arr)\n",
    "# print('%.2f' %arr[1])"
   ]
  },
  {
   "cell_type": "code",
   "execution_count": null,
   "id": "64086b36",
   "metadata": {},
   "outputs": [],
   "source": [
    "################## More Operations on array #######################\n",
    "from numpy import *\n",
    "arr = array([1,2,3,4,5])\n",
    "arr1 = array([1,2,3,4,5])\n",
    "arr2 = zeros(5, int)\n",
    "# Want to add a number with each element of the array #######\n",
    "\n",
    "# ##### 1st approach #######\n",
    "\n",
    "# for i in range(len(arr)):\n",
    "#     arr[i] = arr[i] + 5\n",
    "    \n",
    "# print(arr)\n",
    "\n",
    "# ##### 2nd approach ######\n",
    "# arr = arr + 10\n",
    "# print(arr)\n",
    "\n",
    "\n",
    "# Want to add 2 arrays #######\n",
    "\n",
    "##### 1st approach #######\n",
    "\n",
    "for i in range(len(arr)):\n",
    "    arr2[i] = arr[i] + arr1[i]\n",
    "    \n",
    "print(arr2)\n",
    "\n",
    "# ##### 2nd approach ######\n",
    "arr3 = arr + arr1 ### Vectorized Operation (Was getting appended without numpy right?)\n",
    "print(arr3)"
   ]
  },
  {
   "cell_type": "code",
   "execution_count": null,
   "id": "d501803c",
   "metadata": {},
   "outputs": [],
   "source": [
    "############# Mathemetical operations ################\n",
    "from numpy import *\n",
    "arr = array([1,2,3,4,5])\n",
    "arr1 = array([6,7,8,9,10])\n",
    "print(sin(arr)) ###### Sin values of each element ###########\n",
    "print(cos(arr)) ###### Cos values of each element ###########\n",
    "print(log(arr)) ###### log values of each element ###########\n",
    "print(sqrt(arr)) ####### sqrt values of each element #########\n",
    "print(sum(arr))  ########## sum of each element #############\n",
    "print(min(arr))  ########## min of each element #############\n",
    "print(max(arr))  ########## max of each element #############\n",
    "arr3 = concatenate([arr, arr1])\n",
    "print(concatenate([arr, arr1])) ########## Concatenating two arrays #############\n",
    "print(arr3) ########## Concatenating two arrays #############"
   ]
  },
  {
   "cell_type": "code",
   "execution_count": 1,
   "id": "90dcf708",
   "metadata": {},
   "outputs": [
    {
     "name": "stdout",
     "output_type": "stream",
     "text": [
      "[ 1 90  3  4  5]\n",
      "[1 2 3 4 5]\n",
      "1468521791376 1468522185232\n"
     ]
    }
   ],
   "source": [
    "################## Coping one array to other ####################\n",
    "\"\"\"\n",
    "Three types of copies-\n",
    "                    1. Aliasing.\n",
    "                    2. Shallow Copy.\n",
    "                    3. Deep Copy.\n",
    "\"\"\"\n",
    "from numpy import *\n",
    "arr = array([1,2,3,4,5])\n",
    "# arr2 = arr             # Only Aliasing \n",
    "# print(arr2)\n",
    "# print(id(arr), id(arr2)) #In memory, we have only one instance of each element. Only duplicate reference variables are created.\n",
    "\n",
    "# arr3 = arr.view() # shallow copy ---> changing in one affects the other. \n",
    "# arr[1] = 90\n",
    "# print(arr)\n",
    "# print(arr3)\n",
    "# print(id(arr), id(arr3)) # Addresses are different i.e. two copies of each elements are now created.\n",
    "\n",
    "\n",
    "arr3 = arr.copy() # deep copy ---> changing in one does not affect the other. \n",
    "arr[1] = 90\n",
    "print(arr)\n",
    "print(arr3)\n",
    "print(id(arr), id(arr3))"
   ]
  },
  {
   "cell_type": "code",
   "execution_count": 6,
   "id": "d4720866",
   "metadata": {},
   "outputs": [
    {
     "name": "stdout",
     "output_type": "stream",
     "text": [
      "[[ 1  2  3  7  8  9]\n",
      " [ 4  5  6 99 88 77]]\n",
      "int32\n",
      "2\n",
      "(2, 6)\n",
      "12\n",
      "[ 1  2  3  7  8  9  4  5  6 99 88 77]\n",
      "[[ 1  2  3  7]\n",
      " [ 8  9  4  5]\n",
      " [ 6 99 88 77]]\n",
      "----------------\n",
      "[[[ 1  2]\n",
      "  [ 3  7]]\n",
      "\n",
      " [[ 8  9]\n",
      "  [ 4  5]]\n",
      "\n",
      " [[ 6 99]\n",
      "  [88 77]]]\n"
     ]
    }
   ],
   "source": [
    "################### Working with matrix in python ##############################\n",
    "from numpy import *\n",
    "\n",
    "arr1 = array([\n",
    "            [1,2,3,7,8,9],\n",
    "            [4,5,6,99,88,77]\n",
    "            ])\n",
    "\n",
    "print (arr1)\n",
    "print (arr1.dtype) # Data type\n",
    "print (arr1.ndim)  # Number of dimension \n",
    "print (arr1.shape) # (rows, cols)\n",
    "print (arr1.size)  # total number of elements\n",
    "\n",
    "arr = arr1.flatten() # Convert the 2D array into 1D array\n",
    "print(arr)\n",
    "\n",
    "arr3  = arr.reshape(3,4) # 3 rows 4 cols -----> Converting 1D array to 2D array\n",
    "print (arr3)\n",
    "print (\"----------------\")\n",
    "arr4  = arr.reshape(3,2,2) # 3 dim 2 rows 2 cols -----> Converting 1D array to 2D array\n",
    "print (arr4) "
   ]
  },
  {
   "cell_type": "code",
   "execution_count": 8,
   "id": "48dd851a",
   "metadata": {},
   "outputs": [
    {
     "name": "stdout",
     "output_type": "stream",
     "text": [
      "[[1 2 3 7]\n",
      " [4 5 6 9]]\n",
      "[[1 2 3]\n",
      " [4 5 6]\n",
      " [7 8 9]]\n",
      "[1 5 9]\n",
      "1\n",
      "9\n"
     ]
    }
   ],
   "source": [
    "############## Working with matrices #####################\n",
    "\n",
    "from numpy import *\n",
    "\n",
    "arr1 = array([\n",
    "            [1,2,3,7],\n",
    "            [4,5,6,9]\n",
    "            ])\n",
    "\n",
    "m = matrix(arr1)  # Converting a 2D array into a matrix format\n",
    "m1 = matrix ('1 2 3;4 5 6;7 8 9') # Converting a string into a matrix format (even this works)\n",
    "print(m) # Output is same but with this conversion, you can do planty of additional oprations.\n",
    "print(m1)\n",
    "print(diagonal(m1)) # print the diagonal elements of the matrix\n",
    "print(m1.min()) # Finding Minimum of a matrix\n",
    "print(m1.max()) # Finding Maximum of a matrix"
   ]
  },
  {
   "cell_type": "code",
   "execution_count": 9,
   "id": "b7d3d880",
   "metadata": {},
   "outputs": [
    {
     "name": "stdout",
     "output_type": "stream",
     "text": [
      "The result matrix is \n",
      " [[ 2  4  6]\n",
      " [ 8 10 12]\n",
      " [14 16 18]]\n",
      "The result matrix is \n",
      " [[ 30  36  42]\n",
      " [ 66  81  96]\n",
      " [102 126 150]]\n"
     ]
    }
   ],
   "source": [
    "############## Working with matrices #####################\n",
    "from numpy import *\n",
    "m = matrix ('1 2 3;4 5 6;7 8 9')\n",
    "m1 = matrix ('1 2 3;4 5 6;7 8 9')\n",
    "\n",
    "m3 = m+m1\n",
    "m4 = m*m1\n",
    "\n",
    "print(\"The result matrix is \\n\", m3)\n",
    "print(\"The result matrix is \\n\", m4)"
   ]
  },
  {
   "cell_type": "code",
   "execution_count": null,
   "id": "aef6a9ae",
   "metadata": {},
   "outputs": [],
   "source": [
    "from numpy import *\n",
    "R = int(input(\"Enter the number of rows:\"))\n",
    "C = int(input(\"Enter the number of columns:\"))\n",
    "\n",
    "mat = []\n",
    "mat1 = []\n",
    "print(\"Enter the entries rowwise:\")\n",
    "\n",
    "for i in range(R):\n",
    "    a = []\n",
    "    for j in range(C):\n",
    "        a.append(int(input()))\n",
    "    mat.append(a)\n",
    "m = matrix(mat)\n",
    "\n",
    "for i in range(R):\n",
    "    a = []\n",
    "    for j in range(C):\n",
    "        a.append(int(input()))\n",
    "    mat1.append(a)\n",
    "m2 = matrix(mat1)\n",
    "\n",
    "for i in range(R):\n",
    "    for j in range(C):\n",
    "        mat[i][j] = mat[i][j] + mat1[i][j]\n",
    "m = m + m2\n",
    "print(\"The sum is = \\n\")\n",
    "for i in range(R):\n",
    "    for j in range(C):\n",
    "        print(mat[i][j], end = \" \")\n",
    "    print()\n",
    "    \n",
    "print(\"---------------\")\n",
    "print(\"The sum is = \\n\")\n",
    "print(m)"
   ]
  },
  {
   "cell_type": "code",
   "execution_count": null,
   "id": "f7ca9735",
   "metadata": {},
   "outputs": [],
   "source": [
    "######### Iterator #####################\n",
    "\"\"\"\n",
    "1. Iterator is an object that contains the countable number of values. Iterator in Python is simply an object that can be \n",
    "iterated upon. An object which will return data, one element at a time.\n",
    "\"\"\"\n",
    "##### We have seen this #####\n",
    "nums = [1,8,9,0]\n",
    "\n",
    "# for i in nums:\n",
    "#     print(i)      # This iterates over the list and prints the values....\n",
    "    \n",
    "####### Alternatively we can also use an iterator object ##########\n",
    "\n",
    "itt = iter (nums)\n",
    "print(itt) #### It prints the object itself\n",
    "\n",
    "####### want get the values ######\n",
    "print(itt.__next__()) #### here we do not have to use the index values\n",
    "print(itt.__next__()) ### next will always give you the next value. It always knows the last value and return the next. \n",
    "print(next(itt)) ### this also works..\n"
   ]
  },
  {
   "cell_type": "code",
   "execution_count": null,
   "id": "5b95b231",
   "metadata": {},
   "outputs": [],
   "source": [
    "######## Can we have our own iterator object ###########\n",
    "\"\"\"\n",
    "1. Previous iterator object is made and returned by the in-built function i.e. iter().\n",
    "2. Can we make our own iterator object? Yes for that, we need to design our own class.\n",
    "3. A python iterator object must implement two special methods,  __iter__() and __next__().\n",
    "\n",
    "\"\"\"\n",
    "\n",
    "class Topfive:\n",
    "    \n",
    "    def __init__(self): # Helps in setting the initial value\n",
    "        self.num = 1\n",
    "        \n",
    "    def __iter__(self): # return the iterator object. Helps to make the object of the class, behave like an iterator\n",
    "        return self\n",
    "    \n",
    "    def __next__(self): # Next method returns the next item in the sequence. On reaching end, it must raise StopIteration \n",
    "        if self.num <= 5:\n",
    "            val = self.num\n",
    "            self.num += 1\n",
    "            return val\n",
    "        else:\n",
    "            raise StopIteration ###### raise exeception to stop the for loop\n",
    "    \n",
    "values = Topfive() #### Once the object of topfive is created, it behaves like an iterator.\n",
    "\n",
    "\n",
    "print(values.__next__()) #### without index, you can get the next values in sequence.\n",
    "\n",
    "# for i in values:\n",
    "#     print(i)\n"
   ]
  },
  {
   "cell_type": "code",
   "execution_count": null,
   "id": "4767a44d",
   "metadata": {},
   "outputs": [],
   "source": [
    "###################### Generator in python #########################\n",
    "\"\"\"\n",
    "1. So in iterators, we need to define two functions __iter__() and __next__(). If you want Python to do all for us,\n",
    "you can use generators.\n",
    "2. The generators will give you the iterators.\n",
    "3. How can we use generators?\n",
    "\"\"\"\n",
    "\n",
    "# def topfive():#Converting this function into a generator by a special keyword called yield, normally we have return in func.\n",
    "#     yield 5   # Generators primarily have yield instead of return\n",
    "    \n",
    "# val = topfive() # So topfive is a generator function which is returning the iterator object\n",
    "\n",
    "# print(val.__next__()) ## So on iterator __next__() will work.\n",
    "# print(val.__next__()) # one value is there in the generator----> so throwing an exception.   \n",
    "\n",
    "# def topfive():#Converting this function into a generator by a special keyword called yield, normally we have return in func.\n",
    "#     yield 5\n",
    "#     yield 6\n",
    "    \n",
    "# val = topfive()\n",
    "\n",
    "# print(val.__next__())\n",
    "# print(val.__next__()) # no error now. For loop can also be used to fetch the values from iterator.\n",
    "\n",
    "\n",
    "##### How to create generator that returns multiple values ##########################\n",
    "def topfive(): # Generator function having a yield\n",
    "    \n",
    "    n = 1\n",
    "    \n",
    "    while n <= 5:\n",
    "        yield n    # Yield does not terminates a function like return does. It will continuously send values. \n",
    "        n+=1\n",
    "        \n",
    "values = topfive()\n",
    "\n",
    "for i in values:\n",
    "    print(i)"
   ]
  },
  {
   "cell_type": "code",
   "execution_count": null,
   "id": "5fb2679f",
   "metadata": {},
   "outputs": [],
   "source": [
    "####### Imperative vs Declarative programming ############\n",
    "\"\"\"\n",
    "1. Imperative Programming as the name suggests is a type of programming paradigm that describes how the program executes. \n",
    "Developers are more concerned with how to get an answer step by step. This includes procedural programming (Procedural: Tasks are treated as step-by-step \n",
    "iterations where common tasks are placed in functions that are called as needed. ), object-oriented programming,\n",
    "parallel processing approach.  \n",
    "\n",
    "2. Declarative Programming as the name suggests is a type of programming paradigm that describes what programs to be \n",
    "executed. Developers are more concerned with the answer that is received. This includes logic programming and functional\n",
    "programming.  \n",
    "\"\"\"\n",
    "\n",
    "####### Example of Imperative and Declarative programming ############### \n",
    "\n",
    "# Imperative approach to find the sum of a list\n",
    "\n",
    "# l1 = [1,33,4,5]\n",
    "# total = 0\n",
    "# for item in l1:\n",
    "#     total += item\n",
    "# print(total)\n",
    "\n",
    "# Declarative approach to find the sum of a list\n",
    "\n",
    "l1 = [1,33,4,5]\n",
    "print(sum(item for item in l1))\n",
    "#print(sum(l1))"
   ]
  }
 ],
 "metadata": {
  "kernelspec": {
   "display_name": "Python 3 (ipykernel)",
   "language": "python",
   "name": "python3"
  },
  "language_info": {
   "codemirror_mode": {
    "name": "ipython",
    "version": 3
   },
   "file_extension": ".py",
   "mimetype": "text/x-python",
   "name": "python",
   "nbconvert_exporter": "python",
   "pygments_lexer": "ipython3",
   "version": "3.9.12"
  }
 },
 "nbformat": 4,
 "nbformat_minor": 5
}
