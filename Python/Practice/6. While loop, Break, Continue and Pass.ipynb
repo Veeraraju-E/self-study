{
 "cells": [
  {
   "cell_type": "markdown",
   "metadata": {},
   "source": [
    "# While"
   ]
  },
  {
   "cell_type": "code",
   "execution_count": 1,
   "metadata": {},
   "outputs": [
    {
     "name": "stdout",
     "output_type": "stream",
     "text": [
      "0\n",
      "1\n"
     ]
    }
   ],
   "source": [
    "# while condition:\n",
    "#     Body of loop\n",
    "\n",
    "# As long as the condition remains True, the loop will be executed\n",
    "# Once the condition becomes False, it will exit the loop\n",
    "\n",
    "a = 0\n",
    "while a < 2:\n",
    "    print(a)\n",
    "    a = a + 1\n",
    "\n",
    "# a = 0\n",
    "# a < 2 ---> 0 < 2 ---> True\n",
    "# 0 ---> printed\n",
    "# a = a + 1 ---> 0 + 1 = 1\n",
    "# a = 1\n",
    "# a < 2 ---> 1 < 2 ---> True\n",
    "# 1 ---> printed\n",
    "# a = a + 1 ---> 1 + 1 = 2\n",
    "# a = 2\n",
    "# a < 2 ---> 2 < 2 ---> False\n",
    "# Exit the loop"
   ]
  },
  {
   "cell_type": "code",
   "execution_count": 2,
   "metadata": {},
   "outputs": [
    {
     "name": "stdout",
     "output_type": "stream",
     "text": [
      "0\n",
      "1\n",
      "While-loop execution is stopped as the condition became false\n"
     ]
    }
   ],
   "source": [
    "a = 0\n",
    "while a < 2:\n",
    "    print(a)\n",
    "    a = a + 1\n",
    "else: # Optional\n",
    "    print('While-loop execution is stopped as the condition became false')"
   ]
  },
  {
   "cell_type": "code",
   "execution_count": 3,
   "metadata": {},
   "outputs": [
    {
     "name": "stdout",
     "output_type": "stream",
     "text": [
      "1\n",
      "2\n",
      "4\n",
      "8\n",
      "16\n",
      "While loop execution is stopped as the condition became false\n"
     ]
    }
   ],
   "source": [
    "a = 1\n",
    "while a < 20:\n",
    "    print(a)\n",
    "    a = a * 2\n",
    "else: # Optional\n",
    "    print('While loop execution is stopped as the condition became false')"
   ]
  },
  {
   "cell_type": "markdown",
   "metadata": {},
   "source": [
    "# break, continue, pass"
   ]
  },
  {
   "cell_type": "code",
   "execution_count": 4,
   "metadata": {},
   "outputs": [
    {
     "name": "stdout",
     "output_type": "stream",
     "text": [
      "0\n",
      "Continuing...\n",
      "1\n",
      "a is 2\n"
     ]
    }
   ],
   "source": [
    "a = 0\n",
    "while a < 2:\n",
    "    print(a)\n",
    "    a += 1\n",
    "    if a == 2:\n",
    "        print('a is 2')\n",
    "        break # Once it encounter the break statement it will exit the loop\n",
    "              # Execution will be terminated\n",
    "    else:\n",
    "        print('Continuing...')\n",
    "        \n",
    "# a = 0\n",
    "# a < 2 --> 0 < 2 - T\n",
    "# 0 ---> print\n",
    "# a = a + 1 --> a = 0 + 1 = 1\n",
    "# a == 2 --> 1 == 2 - F - So it will not go inside if statement\n",
    "# Continuing... ---> print\n",
    "\n",
    "# a = 1\n",
    "# a < 2 ---> 1 < 2 - T\n",
    "# 1 ---> print\n",
    "# a = a + 1 ---> a = 1 + 1 = 2\n",
    "# a == 2 ---> 2 == 2 - T - So it will go inside if statement\n",
    "# A is 2  ---> print\n",
    "# break ---> exit"
   ]
  },
  {
   "cell_type": "code",
   "execution_count": 5,
   "metadata": {
    "scrolled": true
   },
   "outputs": [
    {
     "name": "stdout",
     "output_type": "stream",
     "text": [
      "0\n"
     ]
    }
   ],
   "source": [
    "for i in range(10): # [0,1,2,3,4,5,6,7,8,9]\n",
    "    print(i * i) # 0 * 0\n",
    "    break # Exit the loop"
   ]
  },
  {
   "cell_type": "code",
   "execution_count": 6,
   "metadata": {},
   "outputs": [],
   "source": [
    "for i in range(10): # [0,1,2,3,4,5,6,7,8,9]\n",
    "    break\n",
    "    print(i * i)"
   ]
  },
  {
   "cell_type": "code",
   "execution_count": 2,
   "metadata": {},
   "outputs": [
    {
     "name": "stdout",
     "output_type": "stream",
     "text": [
      "0\n",
      "1\n",
      "4\n",
      "9\n",
      "16\n",
      "25\n",
      "I is 5\n"
     ]
    }
   ],
   "source": [
    "for i in range(10): # [0,1,2,3,4,5,6,7,8,9]\n",
    "    print(i **2)\n",
    "    if i == 5:\n",
    "        print('I is 5')\n",
    "        break"
   ]
  },
  {
   "cell_type": "code",
   "execution_count": 8,
   "metadata": {},
   "outputs": [
    {
     "name": "stdout",
     "output_type": "stream",
     "text": [
      "h\n",
      "current char e\n",
      "current char l\n",
      "current char l\n",
      "current char o\n"
     ]
    }
   ],
   "source": [
    "for i in 'hello':\n",
    "    if i == 'h': # h == h\n",
    "        print(i)\n",
    "        continue # Skips the current iteration and moves to the next iteration\n",
    "    print('current char', i)"
   ]
  },
  {
   "cell_type": "code",
   "execution_count": 9,
   "metadata": {},
   "outputs": [],
   "source": [
    "a = 10\n",
    "if a % 2 == 0:\n",
    "    pass\n",
    "#    works without any statement like--> print('Even')"
   ]
  },
  {
   "cell_type": "code",
   "execution_count": 10,
   "metadata": {},
   "outputs": [
    {
     "data": {
      "text/plain": [
       "42"
      ]
     },
     "execution_count": 10,
     "metadata": {},
     "output_type": "execute_result"
    }
   ],
   "source": [
    "count = 0\n",
    "for i in range(10):# [0,1,2,3,4,5,6,7,8,9]\n",
    "    if i < 3:\n",
    "        pass # Skipping statement, it does nothing at all\n",
    "    else:\n",
    "        count += i\n",
    "count"
   ]
  },
  {
   "cell_type": "code",
   "execution_count": 11,
   "metadata": {
    "scrolled": true
   },
   "outputs": [],
   "source": [
    "# This goes into an infinite loop\n",
    "\n",
    "# while True:\n",
    "  #  print('Yes')\n",
    "\n",
    "# a = 1\n",
    "# while a > 0:\n",
    "#     print(a)\n",
    "#     a = a + 1"
   ]
  },
  {
   "cell_type": "markdown",
   "metadata": {},
   "source": [
    "continue forces the loop to start at the next iteration while pass means \"there is no code to execute here\" and will continue through the remainder or the loop body. continue will jump back to the top of the loop. pass will continue processing"
   ]
  },
  {
   "cell_type": "markdown",
   "metadata": {},
   "source": [
    "# [Quiz](https://www.sanfoundry.com/python-questions-answers-while-and-for-loops-1/)"
   ]
  }
 ],
 "metadata": {
  "kernelspec": {
   "display_name": "Python 3 (ipykernel)",
   "language": "python",
   "name": "python3"
  },
  "language_info": {
   "codemirror_mode": {
    "name": "ipython",
    "version": 3
   },
   "file_extension": ".py",
   "mimetype": "text/x-python",
   "name": "python",
   "nbconvert_exporter": "python",
   "pygments_lexer": "ipython3",
   "version": "3.9.12"
  }
 },
 "nbformat": 4,
 "nbformat_minor": 4
}
