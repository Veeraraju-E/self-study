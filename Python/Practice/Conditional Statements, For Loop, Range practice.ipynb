{
 "cells": [
  {
   "cell_type": "code",
   "execution_count": 1,
   "id": "0ca1b394",
   "metadata": {},
   "outputs": [
    {
     "name": "stdout",
     "output_type": "stream",
     "text": [
      "43\n",
      "entered number is odd\n"
     ]
    }
   ],
   "source": [
    "#if condition, odd/even\n",
    "a=int(input())\n",
    "\n",
    "if a%2==0: #a%2==0 is our condition\n",
    "    print('entered number is even')\n",
    "else:\n",
    "    print('entered number is odd')"
   ]
  },
  {
   "cell_type": "code",
   "execution_count": 2,
   "id": "363931eb",
   "metadata": {},
   "outputs": [],
   "source": [
    "a = 'string'\n",
    "if a == 'String':           #case-sensitivity, hence no o/p\n",
    "    print('It is a string')\n",
    "elif a == 'int':\n",
    "    print('It is an int')\n",
    "elif a == 'float':\n",
    "    print('It is a float')\n",
    "elif a == 'list':\n",
    "    print('It is a list')"
   ]
  },
  {
   "cell_type": "code",
   "execution_count": 3,
   "id": "2470091c",
   "metadata": {},
   "outputs": [
    {
     "data": {
      "text/plain": [
       "True"
      ]
     },
     "execution_count": 3,
     "metadata": {},
     "output_type": "execute_result"
    }
   ],
   "source": [
    "a={'a1':1,'a2':2,'a3':3}\n",
    "'a3' in a #here, only keys are considered to be in a, not the value,if we say 3 in a, o/p-->False"
   ]
  },
  {
   "cell_type": "code",
   "execution_count": 4,
   "id": "cb9c4316",
   "metadata": {},
   "outputs": [
    {
     "ename": "SyntaxError",
     "evalue": "cannot assign to literal (1072050422.py, line 2)",
     "output_type": "error",
     "traceback": [
      "\u001b[1;36m  Input \u001b[1;32mIn [4]\u001b[1;36m\u001b[0m\n\u001b[1;33m    for 21 in l1:\u001b[0m\n\u001b[1;37m        ^\u001b[0m\n\u001b[1;31mSyntaxError\u001b[0m\u001b[1;31m:\u001b[0m cannot assign to literal\n"
     ]
    }
   ],
   "source": [
    "l1={21,34,25}\n",
    "for 21 in l1:\n",
    "    print('21 is there')\n",
    "else:\n",
    "    print('21 is not there')"
   ]
  },
  {
   "cell_type": "code",
   "execution_count": 5,
   "id": "58850561",
   "metadata": {},
   "outputs": [
    {
     "name": "stdout",
     "output_type": "stream",
     "text": [
      "Enter your statement: Is it hot?\n",
      "Is it hot?\n"
     ]
    }
   ],
   "source": [
    "#Assignment Q-2\n",
    "s1=input(\"Enter your statement: \")\n",
    "if s1[0:2]=='Is':\n",
    "    print(s1)\n",
    "else:\n",
    "    print('Is '+s1)"
   ]
  },
  {
   "cell_type": "code",
   "execution_count": 6,
   "id": "e3e80b80",
   "metadata": {},
   "outputs": [
    {
     "name": "stdout",
     "output_type": "stream",
     "text": [
      "Enter the first num: \n"
     ]
    },
    {
     "ename": "ValueError",
     "evalue": "invalid literal for int() with base 10: ''",
     "output_type": "error",
     "traceback": [
      "\u001b[1;31m---------------------------------------------------------------------------\u001b[0m",
      "\u001b[1;31mValueError\u001b[0m                                Traceback (most recent call last)",
      "Input \u001b[1;32mIn [6]\u001b[0m, in \u001b[0;36m<cell line: 2>\u001b[1;34m()\u001b[0m\n\u001b[0;32m      1\u001b[0m \u001b[38;5;66;03m#Assignment Q-5\u001b[39;00m\n\u001b[1;32m----> 2\u001b[0m a\u001b[38;5;241m=\u001b[39m\u001b[38;5;28;43mint\u001b[39;49m\u001b[43m(\u001b[49m\u001b[38;5;28;43minput\u001b[39;49m\u001b[43m(\u001b[49m\u001b[38;5;124;43m\"\u001b[39;49m\u001b[38;5;124;43mEnter the first num: \u001b[39;49m\u001b[38;5;124;43m\"\u001b[39;49m\u001b[43m)\u001b[49m\u001b[43m)\u001b[49m\n\u001b[0;32m      3\u001b[0m b\u001b[38;5;241m=\u001b[39m\u001b[38;5;28mint\u001b[39m(\u001b[38;5;28minput\u001b[39m(\u001b[38;5;124m\"\u001b[39m\u001b[38;5;124mEnter the second num: \u001b[39m\u001b[38;5;124m\"\u001b[39m))\n\u001b[0;32m      4\u001b[0m c\u001b[38;5;241m=\u001b[39m\u001b[38;5;28mint\u001b[39m(\u001b[38;5;28minput\u001b[39m(\u001b[38;5;124m\"\u001b[39m\u001b[38;5;124mEnter the last num: \u001b[39m\u001b[38;5;124m\"\u001b[39m))\n",
      "\u001b[1;31mValueError\u001b[0m: invalid literal for int() with base 10: ''"
     ]
    }
   ],
   "source": [
    "#Assignment Q-5\n",
    "a=int(input(\"Enter the first num: \"))\n",
    "b=int(input(\"Enter the second num: \"))\n",
    "c=int(input(\"Enter the last num: \"))\n",
    "if a>b and a>c:\n",
    "    print(f\"{a}is the greatest number\")\n",
    "elif b>a and b>c:\n",
    "    print(f\"{b} is the greatest number\")\n",
    "else:\n",
    "    print(f\"{c} is the greatest number\")\n"
   ]
  },
  {
   "cell_type": "code",
   "execution_count": 7,
   "id": "561d7b48",
   "metadata": {},
   "outputs": [
    {
     "data": {
      "text/plain": [
       "(5, 5)"
      ]
     },
     "execution_count": 7,
     "metadata": {},
     "output_type": "execute_result"
    }
   ],
   "source": [
    "x = 5\n",
    "y = 5\n",
    "x,y"
   ]
  },
  {
   "cell_type": "code",
   "execution_count": 8,
   "id": "1fe00a31",
   "metadata": {},
   "outputs": [
    {
     "name": "stdout",
     "output_type": "stream",
     "text": [
      "sum is: 15\n"
     ]
    }
   ],
   "source": [
    "a={1,2,3,4,5}\n",
    "sumis=0\n",
    "for i in a:\n",
    "    sumis=sumis+i\n",
    "print(f\"sum is: {sumis}\")    "
   ]
  },
  {
   "cell_type": "code",
   "execution_count": 9,
   "id": "934f3d89",
   "metadata": {},
   "outputs": [
    {
     "name": "stdout",
     "output_type": "stream",
     "text": [
      "Enter an alphanumeric string: 423\n"
     ]
    },
    {
     "data": {
      "text/plain": [
       "'423'"
      ]
     },
     "execution_count": 9,
     "metadata": {},
     "output_type": "execute_result"
    }
   ],
   "source": [
    "#Assignment Q-4\n",
    "digits='' #this initial assigning becomes compulsory in python because of the lack of init process\n",
    "s1=input(\"Enter an alphanumeric string: \")\n",
    "for i in s1:\n",
    "    if i.isdigit()== True:  #isdigit becomes very important\n",
    "        digits=digits+i\n",
    "digits        "
   ]
  },
  {
   "cell_type": "code",
   "execution_count": 10,
   "id": "fba5a5a4",
   "metadata": {},
   "outputs": [
    {
     "name": "stdout",
     "output_type": "stream",
     "text": [
      "Enter an alphaneumeric string: gd birla\n"
     ]
    },
    {
     "data": {
      "text/plain": [
       "'gdbirla'"
      ]
     },
     "execution_count": 10,
     "metadata": {},
     "output_type": "execute_result"
    }
   ],
   "source": [
    "#Assignment Q-5\n",
    "digits=''\n",
    "s1=input(\"Enter an alphaneumeric string: \")\n",
    "for i in s1:\n",
    "    if i.isalpha()== True:  #isalpha becomes very important\n",
    "        digits=digits+i\n",
    "digits"
   ]
  },
  {
   "cell_type": "code",
   "execution_count": 11,
   "id": "912dcdcd",
   "metadata": {},
   "outputs": [
    {
     "data": {
      "text/plain": [
       "55"
      ]
     },
     "execution_count": 11,
     "metadata": {},
     "output_type": "execute_result"
    }
   ],
   "source": [
    "#sum of first 10 natural numbers\n",
    "sum1=0\n",
    "for i in range(11): #range(start,stop,step) by default start is 0, step is 1\n",
    "    sum1=sum1+i\n",
    "sum1    "
   ]
  },
  {
   "cell_type": "code",
   "execution_count": 12,
   "id": "1b102ea8",
   "metadata": {},
   "outputs": [
    {
     "name": "stdout",
     "output_type": "stream",
     "text": [
      "aba\n",
      "bab\n",
      "I\n",
      "A\n",
      "H\n",
      "H\n"
     ]
    }
   ],
   "source": [
    "# Assignment Q-6\n",
    "a = ['aba', 'bab', 'India', 'America', 'Hi', 'Hello']\n",
    "for i in a:\n",
    "    if len(i)>2 and i[0]==i[-1]:\n",
    "        print(i)\n",
    "    else:\n",
    "        print(i[0])"
   ]
  },
  {
   "cell_type": "code",
   "execution_count": 13,
   "id": "07c1345d",
   "metadata": {},
   "outputs": [
    {
     "name": "stdout",
     "output_type": "stream",
     "text": [
      "-45\n"
     ]
    }
   ],
   "source": [
    "#Assignment Q-8&9, idea derived from IIT-M CT course\n",
    "min_val=100000000000000000000000000000000000000000000000000000000000000000000000000000000000\n",
    "l=[10,24,24,43,546576,474,6634,534,6,5325,-45]\n",
    "\n",
    "for i in l:\n",
    "    if i<min_val:\n",
    "        min_val=i\n",
    "print(min_val)       "
   ]
  },
  {
   "cell_type": "code",
   "execution_count": 14,
   "id": "6e714df9",
   "metadata": {},
   "outputs": [
    {
     "name": "stdout",
     "output_type": "stream",
     "text": [
      "546576\n"
     ]
    }
   ],
   "source": [
    "max_val=-10000000000000000000000000000000000000000000000000000000000000000000000000000000000\n",
    "for j in l:\n",
    "    if j>max_val:\n",
    "        max_val=j\n",
    "print(max_val)"
   ]
  },
  {
   "cell_type": "code",
   "execution_count": 15,
   "id": "8521a593",
   "metadata": {},
   "outputs": [
    {
     "data": {
      "text/plain": [
       "24"
      ]
     },
     "execution_count": 15,
     "metadata": {},
     "output_type": "execute_result"
    }
   ],
   "source": [
    "#Assignment Q-10\n",
    "Sum=0\n",
    "l1=[1,2,3,[4,5,6],'hello',{'a':1,'b':2}]\n",
    "for i in l1:\n",
    "    if type(i)==int:\n",
    "        Sum+=i    \n",
    "for i in l1:\n",
    "    if type(i)==list:\n",
    "        Sum+=int(sum(i))\n",
    "for i in l1:\n",
    "    if type(i)==dict:\n",
    "        Sum+=i['a']+i['b'] #only way to access the actual value in the dictionary\n",
    "Sum        \n",
    "#in the last line of code,we can't ask it to add i.values() because of type incompatability\n",
    "#a dict_values type can't be type-casted into a int, it is possible only to typecast to a string\n",
    "#but if we convert it to a string, then string concatenation isnt the actual addition operation\n",
    "#so that path is ruled out. Hence, it is best to access the actual values itself in the dictionary\n",
    "#by using index numbers.\n",
    "#Also note that since the iterator is a temp var,same iterator can be used in different for loops.\n",
    "#We can't use for type(i) in l1:\n",
    "#                   do something\n",
    "#Since we need to access and sum up all the int values hidden in different datatypes,\n",
    "#the if conditions are necessary. The combination of for-if loop&conditioning is needed to \n",
    "#check the type of iterator viz i and then only proceed."
   ]
  },
  {
   "cell_type": "code",
   "execution_count": null,
   "id": "87f33de0",
   "metadata": {},
   "outputs": [],
   "source": [
    "# WAP to print first 20 even nat numbers in reverse order\n",
    "for i in range(20,0,-2): #note the we mention start, end, step\n",
    "    print(i)"
   ]
  },
  {
   "cell_type": "code",
   "execution_count": null,
   "id": "c93cc48b",
   "metadata": {},
   "outputs": [],
   "source": [
    "# WAP to print out the tables of a given number\n",
    "a=int(input(\"Enter the required number: \"))\n",
    "for i in range(0,11):\n",
    "    print(f\"{a}*{i} =\",a*i)"
   ]
  },
  {
   "cell_type": "code",
   "execution_count": null,
   "id": "faa627ae",
   "metadata": {},
   "outputs": [],
   "source": [
    "#WAP to print out the product of digits accepted from the user\n",
    "product=1\n"
   ]
  },
  {
   "cell_type": "code",
   "execution_count": null,
   "id": "7206bd4c",
   "metadata": {},
   "outputs": [],
   "source": [
    "l1=list(range(10)) #just range(10) doesnt work\n",
    "l1"
   ]
  },
  {
   "cell_type": "code",
   "execution_count": null,
   "id": "ddc0664b",
   "metadata": {},
   "outputs": [],
   "source": []
  }
 ],
 "metadata": {
  "kernelspec": {
   "display_name": "Python 3 (ipykernel)",
   "language": "python",
   "name": "python3"
  },
  "language_info": {
   "codemirror_mode": {
    "name": "ipython",
    "version": 3
   },
   "file_extension": ".py",
   "mimetype": "text/x-python",
   "name": "python",
   "nbconvert_exporter": "python",
   "pygments_lexer": "ipython3",
   "version": "3.9.12"
  }
 },
 "nbformat": 4,
 "nbformat_minor": 5
}
