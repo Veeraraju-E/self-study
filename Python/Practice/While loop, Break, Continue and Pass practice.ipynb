{
 "cells": [
  {
   "cell_type": "code",
   "execution_count": 1,
   "id": "ffa0bdca",
   "metadata": {},
   "outputs": [
    {
     "name": "stdout",
     "output_type": "stream",
     "text": [
      "0\n"
     ]
    }
   ],
   "source": [
    "for i in range(10):\n",
    "    print(i)\n",
    "    break"
   ]
  },
  {
   "cell_type": "code",
   "execution_count": 1,
   "id": "1395603a",
   "metadata": {},
   "outputs": [
    {
     "name": "stdout",
     "output_type": "stream",
     "text": [
      "Enter the required number: 10\n",
      "Factorial is 3628800\n"
     ]
    }
   ],
   "source": [
    "#WAP to write factorial of a given number\n",
    "fact=1\n",
    "a=int(input(\"Enter the required number: \"))\n",
    "for i in range(1,a+1):\n",
    "    fact=fact*i\n",
    "print(f\"Factorial is {fact}\")"
   ]
  },
  {
   "cell_type": "code",
   "execution_count": 3,
   "id": "03c7ff08",
   "metadata": {},
   "outputs": [
    {
     "name": "stdout",
     "output_type": "stream",
     "text": [
      "2\n",
      "4\n",
      "8\n",
      "16\n",
      "32\n",
      "done\n"
     ]
    }
   ],
   "source": [
    "a=1\n",
    "while a<20:\n",
    "    a*=2\n",
    "    print(a) #just a doesnt work\n",
    "else:\n",
    "    print(\"done\")"
   ]
  },
  {
   "cell_type": "code",
   "execution_count": 4,
   "id": "a6382464",
   "metadata": {},
   "outputs": [
    {
     "name": "stdout",
     "output_type": "stream",
     "text": [
      "current character is h\n",
      "current character is e\n",
      "l\n",
      "l\n",
      "current character is o\n"
     ]
    }
   ],
   "source": [
    "for i in 'hello':\n",
    "    if i=='l':\n",
    "        print(i)\n",
    "        continue    #if we don't use continue, we can use else condition too in this case\n",
    "    else:\n",
    "        print(f\"current character is {i}\")"
   ]
  },
  {
   "cell_type": "code",
   "execution_count": 6,
   "id": "632fccc4",
   "metadata": {},
   "outputs": [
    {
     "name": "stdout",
     "output_type": "stream",
     "text": [
      "21\n"
     ]
    }
   ],
   "source": [
    "#Assignment Q-7: WAP to calc len of items in a list without len() method,DOUBT\n",
    "b=['super','awesome', 'excellent']\n",
    "count=0\n",
    "for i in b:\n",
    "    for j in i:\n",
    "        if j !=\"\":\n",
    "            count+=1\n",
    "    continue\n",
    "print(count)    "
   ]
  },
  {
   "cell_type": "code",
   "execution_count": 7,
   "id": "87452179",
   "metadata": {},
   "outputs": [
    {
     "name": "stdout",
     "output_type": "stream",
     "text": [
      "Enter the number: 123456789\n",
      "362880\n"
     ]
    }
   ],
   "source": [
    "#WAP to calculate product of all the digits\n",
    "product=1\n",
    "num=int(input(\"Enter the number: \"))\n",
    "while num!=0:\n",
    "    remainder=num%10          #remember trick to extract digits\n",
    "    product=product*remainder\n",
    "    num=num//10\n",
    "print(product)\n",
    "\n",
    "\n",
    "#Firstly, the logic is very useful application of mod operator and the floor finction operator.\n",
    "#Secondly, the remainder part also has to be inside the while loop to keep it updated along with\n",
    "#number num. It is also a smart way to be able to multiply only the last digits one by one by\n",
    "#shrinking the number to get only its digits"
   ]
  }
 ],
 "metadata": {
  "kernelspec": {
   "display_name": "Python 3 (ipykernel)",
   "language": "python",
   "name": "python3"
  },
  "language_info": {
   "codemirror_mode": {
    "name": "ipython",
    "version": 3
   },
   "file_extension": ".py",
   "mimetype": "text/x-python",
   "name": "python",
   "nbconvert_exporter": "python",
   "pygments_lexer": "ipython3",
   "version": "3.9.12"
  }
 },
 "nbformat": 4,
 "nbformat_minor": 5
}
