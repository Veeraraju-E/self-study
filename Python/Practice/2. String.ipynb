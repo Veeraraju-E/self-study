{
 "cells": [
  {
   "cell_type": "markdown",
   "metadata": {},
   "source": [
    "\n",
    "# String\n",
    "\n",
    " - Creating a string\n",
    " - Indexing\n",
    " - Slicing\n",
    " - Properties\n",
    " - Methods\n",
    " - Print formatting\n",
    "\n",
    "# Creating a string"
   ]
  },
  {
   "cell_type": "code",
   "execution_count": 1,
   "metadata": {},
   "outputs": [
    {
     "name": "stdout",
     "output_type": "stream",
     "text": [
      "hello\n",
      "Hello world\n",
      "Welcome\n"
     ]
    }
   ],
   "source": [
    "print('hello')\n",
    "print(\"Hello world\")\n",
    "print('''Welcome''')"
   ]
  },
  {
   "cell_type": "code",
   "execution_count": 2,
   "metadata": {},
   "outputs": [
    {
     "data": {
      "text/plain": [
       "(str, str)"
      ]
     },
     "execution_count": 2,
     "metadata": {},
     "output_type": "execute_result"
    }
   ],
   "source": [
    "a = 'Hello'\n",
    "b='123'# a = 10\n",
    "type(a), type(b)# calling the variable"
   ]
  },
  {
   "cell_type": "code",
   "execution_count": 3,
   "metadata": {},
   "outputs": [
    {
     "name": "stdout",
     "output_type": "stream",
     "text": [
      "<class 'str'>\n",
      "5\n"
     ]
    },
    {
     "data": {
      "text/plain": [
       "11"
      ]
     },
     "execution_count": 3,
     "metadata": {},
     "output_type": "execute_result"
    }
   ],
   "source": [
    "print(type(a))\n",
    "print(len(a)) \n",
    "len('Hello world') # Len considers space as a character"
   ]
  },
  {
   "cell_type": "markdown",
   "metadata": {},
   "source": [
    "# Indexing"
   ]
  },
  {
   "cell_type": "code",
   "execution_count": 4,
   "metadata": {},
   "outputs": [
    {
     "data": {
      "text/plain": [
       "'_'"
      ]
     },
     "execution_count": 4,
     "metadata": {},
     "output_type": "execute_result"
    }
   ],
   "source": [
    "d='dumb_o'\n",
    "d[4]"
   ]
  },
  {
   "cell_type": "code",
   "execution_count": 5,
   "metadata": {},
   "outputs": [
    {
     "data": {
      "text/plain": [
       "10"
      ]
     },
     "execution_count": 5,
     "metadata": {},
     "output_type": "execute_result"
    }
   ],
   "source": [
    "# In python the index starts from 0\n",
    "\n",
    "a = 'string 123'\n",
    "len(a)\n",
    "\n",
    "# While moving reverse the index starts from -1\n",
    "# -10  -9   -8  -7   -6  -5   -4   -3   -2   -1\n",
    "# s    t    r    i    n    g       1    2    3 \n",
    "# 0    1    2    3    4    5   6   7    8    9\n",
    "# While moving forward the index starts from 0"
   ]
  },
  {
   "cell_type": "code",
   "execution_count": 6,
   "metadata": {},
   "outputs": [
    {
     "data": {
      "text/plain": [
       "'h'"
      ]
     },
     "execution_count": 6,
     "metadata": {},
     "output_type": "execute_result"
    }
   ],
   "source": [
    "s = 'hello world'\n",
    "# variable_name[index]\n",
    "s[0]\n",
    "\n",
    "# -11 -10 -9 -8 -7 -6 -5 -4 -3  -2  -1 \n",
    "#  h  e   l  l  o     w  o  r   l   d\n",
    "#  0  1   2  3  4  5  6  7  8   9   10"
   ]
  },
  {
   "cell_type": "code",
   "execution_count": 7,
   "metadata": {},
   "outputs": [
    {
     "data": {
      "text/plain": [
       "('h', 'h')"
      ]
     },
     "execution_count": 7,
     "metadata": {},
     "output_type": "execute_result"
    }
   ],
   "source": [
    "s[0],s[-11]"
   ]
  },
  {
   "cell_type": "code",
   "execution_count": 8,
   "metadata": {},
   "outputs": [
    {
     "data": {
      "text/plain": [
       "('d', 'd')"
      ]
     },
     "execution_count": 8,
     "metadata": {},
     "output_type": "execute_result"
    }
   ],
   "source": [
    "s[-1], s[10]"
   ]
  },
  {
   "cell_type": "markdown",
   "metadata": {},
   "source": [
    "# Slicing"
   ]
  },
  {
   "cell_type": "code",
   "execution_count": 9,
   "metadata": {},
   "outputs": [
    {
     "data": {
      "text/plain": [
       "'hello world'"
      ]
     },
     "execution_count": 9,
     "metadata": {},
     "output_type": "execute_result"
    }
   ],
   "source": [
    "s"
   ]
  },
  {
   "cell_type": "code",
   "execution_count": 10,
   "metadata": {},
   "outputs": [
    {
     "data": {
      "text/plain": [
       "'hello world'"
      ]
     },
     "execution_count": 10,
     "metadata": {},
     "output_type": "execute_result"
    }
   ],
   "source": [
    "# variable_name[start_index : end_index]\n",
    "\n",
    "s[:]"
   ]
  },
  {
   "cell_type": "code",
   "execution_count": 11,
   "metadata": {},
   "outputs": [
    {
     "data": {
      "text/plain": [
       "'hello world'"
      ]
     },
     "execution_count": 11,
     "metadata": {},
     "output_type": "execute_result"
    }
   ],
   "source": [
    "s[0:]"
   ]
  },
  {
   "cell_type": "code",
   "execution_count": 12,
   "metadata": {},
   "outputs": [],
   "source": [
    "# -11 -10 -9 -8 -7 -6 -5 -4 -3  -2  -1 \n",
    "#  h  e   l  l  o     w  o  r   l   d\n",
    "#  0  1   2  3  4  5  6  7  8   9   10"
   ]
  },
  {
   "cell_type": "code",
   "execution_count": 13,
   "metadata": {},
   "outputs": [
    {
     "data": {
      "text/plain": [
       "'hello worl'"
      ]
     },
     "execution_count": 13,
     "metadata": {},
     "output_type": "execute_result"
    }
   ],
   "source": [
    "s[:10] # end_index - 1 = 10 - 1 = 9. Till 9th index the value will be taken\n",
    "# By default the start index will be 0"
   ]
  },
  {
   "cell_type": "code",
   "execution_count": 14,
   "metadata": {},
   "outputs": [
    {
     "data": {
      "text/plain": [
       "'hello worl'"
      ]
     },
     "execution_count": 14,
     "metadata": {},
     "output_type": "execute_result"
    }
   ],
   "source": [
    "s[:-1] #end_index - 1"
   ]
  },
  {
   "cell_type": "code",
   "execution_count": 15,
   "metadata": {},
   "outputs": [
    {
     "data": {
      "text/plain": [
       "'lo wo'"
      ]
     },
     "execution_count": 15,
     "metadata": {},
     "output_type": "execute_result"
    }
   ],
   "source": [
    "s[3:8] #end_index - 1"
   ]
  },
  {
   "cell_type": "code",
   "execution_count": 16,
   "metadata": {},
   "outputs": [],
   "source": [
    "# variable_name[index] ---> Indexing\n",
    "# variable_name[start_index : end_index] ---> Slicing"
   ]
  },
  {
   "cell_type": "markdown",
   "metadata": {},
   "source": [
    "# Properties"
   ]
  },
  {
   "cell_type": "code",
   "execution_count": 20,
   "metadata": {},
   "outputs": [
    {
     "data": {
      "text/plain": [
       "(10, '10')"
      ]
     },
     "execution_count": 20,
     "metadata": {},
     "output_type": "execute_result"
    }
   ],
   "source": [
    "10, '10'"
   ]
  },
  {
   "cell_type": "code",
   "execution_count": 21,
   "metadata": {},
   "outputs": [
    {
     "data": {
      "text/plain": [
       "(10, '10')"
      ]
     },
     "execution_count": 21,
     "metadata": {},
     "output_type": "execute_result"
    }
   ],
   "source": [
    "10, str(10) # coverting int to string"
   ]
  },
  {
   "cell_type": "code",
   "execution_count": 24,
   "metadata": {},
   "outputs": [
    {
     "name": "stdout",
     "output_type": "stream",
     "text": [
      "Welcome Welcome Welcome \n",
      "Welcome Welcome Welcome \n"
     ]
    }
   ],
   "source": [
    "#Assignment Q 19\n",
    "s8='Welcome '\n",
    "print(3*s8)\n",
    "print(s8*3) # self-concatenation-->eitherways it is fine, note that there is a gap after last 'e' "
   ]
  },
  {
   "cell_type": "markdown",
   "metadata": {},
   "source": [
    "# Methods"
   ]
  },
  {
   "cell_type": "code",
   "execution_count": 26,
   "metadata": {},
   "outputs": [
    {
     "data": {
      "text/plain": [
       "'HELLO WORLD'"
      ]
     },
     "execution_count": 26,
     "metadata": {},
     "output_type": "execute_result"
    }
   ],
   "source": [
    "a = 'Hello WORLD'\n",
    "# variable_name.tab_buttom-> to get to know the methods available for any variable, to get to know what those methods do,\n",
    "# var_name.method?\n",
    "a.upper()"
   ]
  },
  {
   "cell_type": "code",
   "execution_count": 27,
   "metadata": {},
   "outputs": [],
   "source": [
    "a.capitalize?"
   ]
  },
  {
   "cell_type": "code",
   "execution_count": 28,
   "metadata": {},
   "outputs": [
    {
     "name": "stdout",
     "output_type": "stream",
     "text": [
      "Hello WORLD\n"
     ]
    },
    {
     "data": {
      "text/plain": [
       "'Hello world'"
      ]
     },
     "execution_count": 28,
     "metadata": {},
     "output_type": "execute_result"
    }
   ],
   "source": [
    "print(a)\n",
    "a.capitalize()"
   ]
  },
  {
   "cell_type": "code",
   "execution_count": 29,
   "metadata": {},
   "outputs": [
    {
     "name": "stdout",
     "output_type": "stream",
     "text": [
      "Hello WORLD\n"
     ]
    },
    {
     "data": {
      "text/plain": [
       "'Hello World'"
      ]
     },
     "execution_count": 29,
     "metadata": {},
     "output_type": "execute_result"
    }
   ],
   "source": [
    "print(a)\n",
    "a.title()"
   ]
  },
  {
   "cell_type": "code",
   "execution_count": 6,
   "metadata": {},
   "outputs": [
    {
     "name": "stdout",
     "output_type": "stream",
     "text": [
      "Hello\n"
     ]
    },
    {
     "data": {
      "text/plain": [
       "'HELLO'"
      ]
     },
     "execution_count": 6,
     "metadata": {},
     "output_type": "execute_result"
    }
   ],
   "source": [
    "print(a)\n",
    "a = a.upper() # Reassignment\n",
    "a"
   ]
  },
  {
   "cell_type": "code",
   "execution_count": 7,
   "metadata": {},
   "outputs": [
    {
     "name": "stdout",
     "output_type": "stream",
     "text": [
      "True\n",
      "hello\n"
     ]
    }
   ],
   "source": [
    "print(a.isupper())\n",
    "print(a.lower())\n",
    "# after reassignment"
   ]
  },
  {
   "cell_type": "code",
   "execution_count": 9,
   "metadata": {},
   "outputs": [
    {
     "name": "stdout",
     "output_type": "stream",
     "text": [
      "HELLO\n"
     ]
    },
    {
     "data": {
      "text/plain": [
       "1"
      ]
     },
     "execution_count": 9,
     "metadata": {},
     "output_type": "execute_result"
    }
   ],
   "source": [
    "print(a)\n",
    "a.count('O')"
   ]
  },
  {
   "cell_type": "code",
   "execution_count": 33,
   "metadata": {},
   "outputs": [
    {
     "name": "stdout",
     "output_type": "stream",
     "text": [
      "HELLO WORLD\n"
     ]
    },
    {
     "data": {
      "text/plain": [
       "['HELLO', 'WORLD']"
      ]
     },
     "execution_count": 33,
     "metadata": {},
     "output_type": "execute_result"
    }
   ],
   "source": [
    "print(a)\n",
    "a.spli()"
   ]
  },
  {
   "cell_type": "code",
   "execution_count": 34,
   "metadata": {},
   "outputs": [
    {
     "data": {
      "text/plain": [
       "['Hello', 'W', 'orld']"
      ]
     },
     "execution_count": 34,
     "metadata": {},
     "output_type": "execute_result"
    }
   ],
   "source": [
    "s='Hello W orld'\n",
    "s.split()\n",
    "#therefore, it splits at every space, not exactly every word"
   ]
  },
  {
   "cell_type": "code",
   "execution_count": 35,
   "metadata": {},
   "outputs": [
    {
     "name": "stdout",
     "output_type": "stream",
     "text": [
      "HELLO WORLD\n"
     ]
    },
    {
     "data": {
      "text/plain": [
       "['HELL', ' W', 'RLD']"
      ]
     },
     "execution_count": 35,
     "metadata": {},
     "output_type": "execute_result"
    }
   ],
   "source": [
    "print(a)\n",
    "a.split('O')\n",
    "# ['Hell',' w', 'rld']"
   ]
  },
  {
   "cell_type": "code",
   "execution_count": 10,
   "metadata": {},
   "outputs": [
    {
     "name": "stdout",
     "output_type": "stream",
     "text": [
      "<class 'str'>\n",
      "False\n",
      "False\n",
      "True\n",
      "True\n"
     ]
    }
   ],
   "source": [
    "a = '1234a'\n",
    "print(type(a))\n",
    "print(a.isdigit()) # If a method starts with 'is', it returns only True or False\n",
    "print(a.isalpha()) # alpha is alphabets\n",
    "print(a.isalnum()) # alnum is alphabet and number combination\n",
    "print(a.endswith('a')) #also gives a boolean output, even though 'is' isnt there in method name\n",
    "                       #similarly for startswith"
   ]
  },
  {
   "cell_type": "code",
   "execution_count": 37,
   "metadata": {},
   "outputs": [
    {
     "name": "stdout",
     "output_type": "stream",
     "text": [
      "True\n",
      "False\n",
      "43\n",
      "False\n",
      "True\n"
     ]
    }
   ],
   "source": [
    "f='The quick brown fox jumps over the lazy dog'\n",
    "print(f.endswith('lazy dog',35)) #we are mentioning the indexnum from which it has to start search\n",
    "print(f.endswith('lazy dog',36))\n",
    "print(len(f))\n",
    "print(f.startswith('fox',20))\n",
    "print(f.startswith('fox',16))"
   ]
  },
  {
   "cell_type": "code",
   "execution_count": 60,
   "metadata": {},
   "outputs": [
    {
     "name": "stdout",
     "output_type": "stream",
     "text": [
      "Enter your first name:hdahad\n",
      "Enter your last name:sfadga\n",
      "Your name is : sfadga hdahad\n"
     ]
    }
   ],
   "source": [
    "#Assignment Q 21\n",
    "first_name=input(\"Enter your first name:\")\n",
    "last_name=input(\"Enter your last name:\")\n",
    "name=last_name+' '+first_name\n",
    "print(f\"Your name is : {name}\") #use of formatting too!\n",
    "# if we just wanted to print out the last_name +space+ first_name, we could have writtern it\n",
    "# directly in the print statement, but here, it is a bit more pleasing to see the code"
   ]
  },
  {
   "cell_type": "markdown",
   "metadata": {},
   "source": [
    "# More Methods\n",
    "\n",
    "1. join() for strings\n",
    "The join() method returns a string by joining all the elements of a string,list or tuple(mostly for lists and tuples because strings can be directly concetenated.\n"
   ]
  },
  {
   "cell_type": "code",
   "execution_count": 11,
   "metadata": {},
   "outputs": [
    {
     "data": {
      "text/plain": [
       "'Python is a pgm lang'"
      ]
     },
     "execution_count": 11,
     "metadata": {},
     "output_type": "execute_result"
    }
   ],
   "source": [
    "MyList=['Python', 'is a', 'pgm lang']\n",
    "' '.join(MyList)\n",
    "#remember the syntax, the '' b4 .join is called as the separator, here it is the space separator\n",
    "#just note that the required order has to be in the list"
   ]
  },
  {
   "cell_type": "code",
   "execution_count": 1,
   "metadata": {},
   "outputs": [
    {
     "data": {
      "text/plain": [
       "'1,2,3,4'"
      ]
     },
     "execution_count": 1,
     "metadata": {},
     "output_type": "execute_result"
    }
   ],
   "source": [
    "MyList1=['1','2','3','4']\n",
    "','.join(MyList1)\n",
    "#same thing with tuples\n",
    "#role of the separator variable viz the ',' -->every item in the list is separated by comma"
   ]
  },
  {
   "cell_type": "code",
   "execution_count": 43,
   "metadata": {},
   "outputs": [
    {
     "data": {
      "text/plain": [
       "'a123b123c'"
      ]
     },
     "execution_count": 43,
     "metadata": {},
     "output_type": "execute_result"
    }
   ],
   "source": [
    "s1='123'\n",
    "s2='abc'\n",
    "# if we want each element of s2 to be separated by s1\n",
    "s1.join(s2)\n",
    "#interpreted as->in s2, join s1"
   ]
  },
  {
   "cell_type": "code",
   "execution_count": 44,
   "metadata": {},
   "outputs": [
    {
     "data": {
      "text/plain": [
       "'1abc2abc3'"
      ]
     },
     "execution_count": 44,
     "metadata": {},
     "output_type": "execute_result"
    }
   ],
   "source": [
    "# if we want each element of s1 to be separated by s2\n",
    "s2.join(s1)"
   ]
  },
  {
   "cell_type": "code",
   "execution_count": 45,
   "metadata": {},
   "outputs": [
    {
     "name": "stdout",
     "output_type": "stream",
     "text": [
      "Java is a good pgm lang\n",
      "Sally sells mountain shells by the mountain shore\n",
      "Sally sells mountain shells by the sea shore\n",
      "Sally sells sea shells by the sea shore\n"
     ]
    }
   ],
   "source": [
    "# replace method (doesn't change original string)\n",
    "s3='Python is a good pgm lang'\n",
    "print(s3.replace('Python','Java'))\n",
    "#Assignment Q 16\n",
    "s4='Sally sells sea shells by the sea shore'\n",
    "print(s4.replace('sea','mountain'))\n",
    "print(s4.replace('sea','mountain',1)) # stringname.replace('old','new',count)\n",
    "print(s4)"
   ]
  },
  {
   "cell_type": "code",
   "execution_count": 3,
   "metadata": {},
   "outputs": [
    {
     "name": "stdout",
     "output_type": "stream",
     "text": [
      "Birthday  Treat     \n",
      "      Birthday  Treat\n",
      "Birthday  Treat\n"
     ]
    }
   ],
   "source": [
    "s5='      Birthday  Treat     '\n",
    "print(s5.lstrip()) # all left whitespaces only\n",
    "print(s5.rstrip()) # all right whitespaces only\n",
    "print(s5.strip())  # left and right whitespaces, not middle\n",
    "# print(s5=s5.replace(' ','') ) --> throws an error,\" 's5' is an invalid keyword argument for\n",
    "#                                                      print()\"\n",
    "# print(s5.replace('y','y ')) useful only if we already know the word\n",
    "# otherwise, stripping needs to be done, because replace would remove the gapps in between \n",
    "#the word too"
   ]
  },
  {
   "cell_type": "code",
   "execution_count": 65,
   "metadata": {},
   "outputs": [
    {
     "name": "stdout",
     "output_type": "stream",
     "text": [
      "This is g\n",
      "This is good\n"
     ]
    }
   ],
   "source": [
    "s6='This is good'\n",
    "print(s6.rstrip('ood'))\n",
    "print(s6.rstrip('s go')) \n",
    "# we have mentioned rstrip but aren't giving any continuous\n",
    "# trailing characters, hence no stripping is done, similarly for lstrip"
   ]
  },
  {
   "cell_type": "code",
   "execution_count": 18,
   "metadata": {},
   "outputs": [
    {
     "name": "stdout",
     "output_type": "stream",
     "text": [
      " is outstanding  \n",
      "out is outstanding\n"
     ]
    }
   ],
   "source": [
    "s7='out is outstanding  '\n",
    "print(s7.strip('out')) #only leading one is stripped\n",
    "print(s7.strip())"
   ]
  },
  {
   "cell_type": "markdown",
   "metadata": {},
   "source": [
    "# Print Formatting"
   ]
  },
  {
   "cell_type": "code",
   "execution_count": 73,
   "metadata": {
    "scrolled": true
   },
   "outputs": [
    {
     "name": "stdout",
     "output_type": "stream",
     "text": [
      "Enter your name: Veer\n",
      "Enter your age: 18\n",
      "My name is Veer and my age is 18\n"
     ]
    }
   ],
   "source": [
    "v=input(\"Enter your name: \")\n",
    "age=int(input(\"Enter your age: \"))\n",
    "# a = input('Enter a name: ')\n",
    "# string formatiing using the str_name.format() method\n",
    "print(\"My name is {} and my age is {}\".format(v, age)) # note how the first {} correspinds to \n",
    "# first var inside .format()"
   ]
  },
  {
   "cell_type": "code",
   "execution_count": 51,
   "metadata": {},
   "outputs": [
    {
     "name": "stdout",
     "output_type": "stream",
     "text": [
      "My name is Veer and my age is 18\n"
     ]
    }
   ],
   "source": [
    "# 2nd method to do string formatting is using f-string--> more elegant!\n",
    "print(f\"My name is {v} and my age is {age}\")"
   ]
  }
 ],
 "metadata": {
  "kernelspec": {
   "display_name": "Python 3 (ipykernel)",
   "language": "python",
   "name": "python3"
  },
  "language_info": {
   "codemirror_mode": {
    "name": "ipython",
    "version": 3
   },
   "file_extension": ".py",
   "mimetype": "text/x-python",
   "name": "python",
   "nbconvert_exporter": "python",
   "pygments_lexer": "ipython3",
   "version": "3.11.3"
  }
 },
 "nbformat": 4,
 "nbformat_minor": 4
}
