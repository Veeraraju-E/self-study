{
 "cells": [
  {
   "cell_type": "code",
   "execution_count": 1,
   "id": "09eb77aa",
   "metadata": {},
   "outputs": [],
   "source": [
    "# !pip install numpy"
   ]
  },
  {
   "cell_type": "code",
   "execution_count": 37,
   "id": "c376ffc5",
   "metadata": {},
   "outputs": [],
   "source": [
    "import numpy as np"
   ]
  },
  {
   "cell_type": "markdown",
   "id": "1d983f88",
   "metadata": {},
   "source": [
    "## Basic Intro\n",
    "- All of the elements in a NumPy array should be homogeneous,i.e, of same datatype, unlike a list.\n",
    "- An array is a central data structure of the NumPy library,it's a grid of values and it contains information about the raw data.\n",
    "- Rank: number of dimensions\n",
    "- Shape: gives us size along each dimension\n",
    "- Vector: 1D array\n",
    "- Matrix: 2D array\n",
    "- Tensor: array with 3 dimensions or above. Note that dimensions are often called as axes."
   ]
  },
  {
   "cell_type": "code",
   "execution_count": 3,
   "id": "b07fcd15",
   "metadata": {},
   "outputs": [
    {
     "data": {
      "text/plain": [
       "array([1, 2, 3, 4])"
      ]
     },
     "execution_count": 3,
     "metadata": {},
     "output_type": "execute_result"
    }
   ],
   "source": [
    "# Creation of an array\n",
    "a=np.array([1,2,3,4]) # np.array(prev created list_name OR type out the list here itself)\n",
    "a"
   ]
  },
  {
   "cell_type": "code",
   "execution_count": 4,
   "id": "0b4853dd",
   "metadata": {},
   "outputs": [],
   "source": [
    "#dont create arrays with different number of columns"
   ]
  },
  {
   "cell_type": "code",
   "execution_count": 5,
   "id": "0baaacbd",
   "metadata": {},
   "outputs": [
    {
     "data": {
      "text/plain": [
       "array([[0, 0],\n",
       "       [0, 0]])"
      ]
     },
     "execution_count": 5,
     "metadata": {},
     "output_type": "execute_result"
    }
   ],
   "source": [
    "b=np.zeros((2,2),dtype=int)\n",
    "b"
   ]
  },
  {
   "cell_type": "code",
   "execution_count": 6,
   "id": "da2aa020",
   "metadata": {},
   "outputs": [
    {
     "data": {
      "text/plain": [
       "array([[1., 1.],\n",
       "       [1., 1.]])"
      ]
     },
     "execution_count": 6,
     "metadata": {},
     "output_type": "execute_result"
    }
   ],
   "source": [
    "c=np.ones((2,2))\n",
    "c"
   ]
  },
  {
   "cell_type": "code",
   "execution_count": 7,
   "id": "bf6bf375",
   "metadata": {},
   "outputs": [
    {
     "data": {
      "text/plain": [
       "2"
      ]
     },
     "execution_count": 7,
     "metadata": {},
     "output_type": "execute_result"
    }
   ],
   "source": [
    "c.ndim #prints out the number of dimensions, note that there is no ()"
   ]
  },
  {
   "cell_type": "code",
   "execution_count": 41,
   "id": "fc7aa1c9",
   "metadata": {},
   "outputs": [
    {
     "data": {
      "text/plain": [
       "array([[1, 0, 0],\n",
       "       [0, 1, 0],\n",
       "       [0, 0, 1]])"
      ]
     },
     "execution_count": 41,
     "metadata": {},
     "output_type": "execute_result"
    }
   ],
   "source": [
    "np.identity(3,dtype=int) #identity matrix"
   ]
  },
  {
   "cell_type": "code",
   "execution_count": 47,
   "id": "6f06a3be",
   "metadata": {},
   "outputs": [
    {
     "data": {
      "text/plain": [
       "array([ 1.2, -2.4,  3.5, 15.7])"
      ]
     },
     "execution_count": 47,
     "metadata": {},
     "output_type": "execute_result"
    }
   ],
   "source": [
    "string_array=np.array(['1.2','-2.4','3.5','15.7'])\n",
    "string_array.astype(float)"
   ]
  },
  {
   "cell_type": "code",
   "execution_count": 48,
   "id": "9d37c46d",
   "metadata": {},
   "outputs": [
    {
     "data": {
      "text/plain": [
       "array(['1.2', '-2.4', '3.5', '15.7'], dtype='<U4')"
      ]
     },
     "execution_count": 48,
     "metadata": {},
     "output_type": "execute_result"
    }
   ],
   "source": [
    "#temporary change\n",
    "string_array"
   ]
  },
  {
   "cell_type": "code",
   "execution_count": 45,
   "id": "39f4a55a",
   "metadata": {
    "collapsed": true
   },
   "outputs": [
    {
     "ename": "ValueError",
     "evalue": "invalid literal for int() with base 10: '1.2'",
     "output_type": "error",
     "traceback": [
      "\u001b[1;31m---------------------------------------------------------------------------\u001b[0m",
      "\u001b[1;31mValueError\u001b[0m                                Traceback (most recent call last)",
      "Input \u001b[1;32mIn [45]\u001b[0m, in \u001b[0;36m<cell line: 1>\u001b[1;34m()\u001b[0m\n\u001b[1;32m----> 1\u001b[0m int_array\u001b[38;5;241m=\u001b[39m\u001b[43mstring_array\u001b[49m\u001b[38;5;241;43m.\u001b[39;49m\u001b[43mastype\u001b[49m\u001b[43m(\u001b[49m\u001b[38;5;28;43mint\u001b[39;49m\u001b[43m)\u001b[49m\n\u001b[0;32m      2\u001b[0m int_array\n",
      "\u001b[1;31mValueError\u001b[0m: invalid literal for int() with base 10: '1.2'"
     ]
    }
   ],
   "source": [
    "int_array=string_array.astype(int) #can't convert floating point values inside string to int type\n",
    "int_array"
   ]
  },
  {
   "cell_type": "code",
   "execution_count": null,
   "id": "16964378",
   "metadata": {},
   "outputs": [],
   "source": []
  },
  {
   "cell_type": "code",
   "execution_count": 8,
   "id": "275d261e",
   "metadata": {},
   "outputs": [
    {
     "data": {
      "text/plain": [
       "array([0.09849631, 0.91055965, 0.98868856])"
      ]
     },
     "execution_count": 8,
     "metadata": {},
     "output_type": "execute_result"
    }
   ],
   "source": [
    "np.random.random(3)"
   ]
  },
  {
   "cell_type": "code",
   "execution_count": 9,
   "id": "c353493b",
   "metadata": {},
   "outputs": [
    {
     "data": {
      "text/plain": [
       "array([[0.40241441, 0.17154265, 0.44178456],\n",
       "       [0.51615879, 0.14056878, 0.85635933],\n",
       "       [0.24726774, 0.47790534, 0.18583495]])"
      ]
     },
     "execution_count": 9,
     "metadata": {},
     "output_type": "execute_result"
    }
   ],
   "source": [
    "np.random.random((3,3))"
   ]
  },
  {
   "cell_type": "code",
   "execution_count": 10,
   "id": "8341afc7",
   "metadata": {},
   "outputs": [
    {
     "data": {
      "text/plain": [
       "array([0.40584711, 0.90043062])"
      ]
     },
     "execution_count": 10,
     "metadata": {},
     "output_type": "execute_result"
    }
   ],
   "source": [
    "np.random.rand(2)"
   ]
  },
  {
   "cell_type": "code",
   "execution_count": 11,
   "id": "2638a888",
   "metadata": {},
   "outputs": [
    {
     "data": {
      "text/plain": [
       "array([[0.1511869 , 0.4720602 ],\n",
       "       [0.29700102, 0.90428921],\n",
       "       [0.69500111, 0.53890798],\n",
       "       [0.29223643, 0.96023926]])"
      ]
     },
     "execution_count": 11,
     "metadata": {},
     "output_type": "execute_result"
    }
   ],
   "source": [
    "np.random.rand(4,2) #all entries are between (0,1) and no need of further paranthesis"
   ]
  },
  {
   "cell_type": "code",
   "execution_count": 12,
   "id": "f70953ae",
   "metadata": {},
   "outputs": [
    {
     "data": {
      "text/plain": [
       "array([[[0.22966606, 0.76533343, 0.12563552, 0.88657014],\n",
       "        [0.67435165, 0.34905772, 0.47155034, 0.73375164],\n",
       "        [0.2258357 , 0.75207255, 0.97145535, 0.44648773],\n",
       "        [0.00180474, 0.78555101, 0.97907028, 0.25971021]],\n",
       "\n",
       "       [[0.85435629, 0.65766028, 0.38779782, 0.46422533],\n",
       "        [0.55788199, 0.62702751, 0.77294712, 0.61548462],\n",
       "        [0.60795041, 0.72049389, 0.82301471, 0.87610011],\n",
       "        [0.94215229, 0.92564374, 0.17225757, 0.33561918]]])"
      ]
     },
     "execution_count": 12,
     "metadata": {},
     "output_type": "execute_result"
    }
   ],
   "source": [
    "np.random.rand(2,4,4) #2 sets of 4x4 matrices, all entries are between (0,1)"
   ]
  },
  {
   "cell_type": "code",
   "execution_count": 13,
   "id": "e81ea82b",
   "metadata": {},
   "outputs": [
    {
     "data": {
      "text/plain": [
       "array([[-0.11896848,  0.59978958,  0.09762387],\n",
       "       [ 1.00423736, -1.88449042,  1.42069464],\n",
       "       [ 1.18138685, -0.74981485,  0.16812407]])"
      ]
     },
     "execution_count": 13,
     "metadata": {},
     "output_type": "execute_result"
    }
   ],
   "source": [
    "np.random.randn(3,3) #random numbers in 3x3 with both +ve and -ve numbers"
   ]
  },
  {
   "cell_type": "code",
   "execution_count": 14,
   "id": "b05dd82f",
   "metadata": {},
   "outputs": [
    {
     "data": {
      "text/plain": [
       "0"
      ]
     },
     "execution_count": 14,
     "metadata": {},
     "output_type": "execute_result"
    }
   ],
   "source": [
    "np.random.randint(4) #random non negative integer less than 4"
   ]
  },
  {
   "cell_type": "code",
   "execution_count": 15,
   "id": "d42802ed",
   "metadata": {},
   "outputs": [
    {
     "data": {
      "text/plain": [
       "4"
      ]
     },
     "execution_count": 15,
     "metadata": {},
     "output_type": "execute_result"
    }
   ],
   "source": [
    "np.random.randint(1,5) #any number from [start, stop), not rxc &also without paranthesis "
   ]
  },
  {
   "cell_type": "code",
   "execution_count": 16,
   "id": "e96563f8",
   "metadata": {},
   "outputs": [
    {
     "data": {
      "text/plain": [
       "array([[2, 2, 1],\n",
       "       [2, 3, 0],\n",
       "       [1, 2, 1]])"
      ]
     },
     "execution_count": 16,
     "metadata": {},
     "output_type": "execute_result"
    }
   ],
   "source": [
    "np.random.randint(4,size=(3,3)) #till 3 only"
   ]
  },
  {
   "cell_type": "code",
   "execution_count": 17,
   "id": "79f1ea64",
   "metadata": {},
   "outputs": [
    {
     "data": {
      "text/plain": [
       "array([[5, 5, 4],\n",
       "       [5, 4, 4],\n",
       "       [9, 4, 7]])"
      ]
     },
     "execution_count": 17,
     "metadata": {},
     "output_type": "execute_result"
    }
   ],
   "source": [
    "np.random.randint(4,10,size=(3,3)) #from 4 till 9 only"
   ]
  },
  {
   "cell_type": "code",
   "execution_count": 18,
   "id": "32ead569",
   "metadata": {},
   "outputs": [
    {
     "data": {
      "text/plain": [
       "array([['Two', 'Four'],\n",
       "       ['One', 'Four']], dtype='<U5')"
      ]
     },
     "execution_count": 18,
     "metadata": {},
     "output_type": "execute_result"
    }
   ],
   "source": [
    "list_name=['One','Two','Three','Four']\n",
    "np.random.choice(list_name, size=(2,2)) #to choose from the given list as parameter"
   ]
  },
  {
   "cell_type": "code",
   "execution_count": 19,
   "id": "f83905b1",
   "metadata": {},
   "outputs": [
    {
     "data": {
      "text/plain": [
       "array([['One', 'One'],\n",
       "       ['One', 'One']], dtype='<U5')"
      ]
     },
     "execution_count": 19,
     "metadata": {},
     "output_type": "execute_result"
    }
   ],
   "source": [
    "np.random.choice(list_name, size=(2,2), p=[0.9,0.05,0.025,0.025]) \n",
    "#we can further add probabilities for the occurence of each of the elements in our list, make sure\n",
    "#it is a list and has elements of the same number as that of the original list\n",
    "#also ensure that sum of individual probabilities sum up to 1"
   ]
  },
  {
   "cell_type": "code",
   "execution_count": 20,
   "id": "0f221307",
   "metadata": {},
   "outputs": [
    {
     "data": {
      "text/plain": [
       "array([[[-1.15921183,  2.75649936,  1.20986782, -2.18181458],\n",
       "        [ 3.39390038,  3.23217277, 15.70970318,  3.15280985],\n",
       "        [ 1.12700554,  7.37670742,  1.26344084,  3.29953441]],\n",
       "\n",
       "       [[-0.14732429, -7.03581807,  6.12025915,  1.07670462],\n",
       "        [ 0.36364445,  1.78304033,  1.95009775, -3.28100819],\n",
       "        [-1.61377258,  1.77997441, -0.64557686,  2.27004598]]])"
      ]
     },
     "execution_count": 20,
     "metadata": {},
     "output_type": "execute_result"
    }
   ],
   "source": [
    "np.random.normal(2,4,size=(2,3,4)) #(mean,stdev,size=(r x c x h))"
   ]
  },
  {
   "cell_type": "code",
   "execution_count": 21,
   "id": "b1f33896",
   "metadata": {},
   "outputs": [
    {
     "data": {
      "text/plain": [
       "0"
      ]
     },
     "execution_count": 21,
     "metadata": {},
     "output_type": "execute_result"
    }
   ],
   "source": [
    "b.trace() #the actual 'trace' in the matrix"
   ]
  },
  {
   "cell_type": "code",
   "execution_count": 22,
   "id": "eee7a609",
   "metadata": {},
   "outputs": [
    {
     "data": {
      "text/plain": [
       "array([[ 1,  2],\n",
       "       [ 3,  4],\n",
       "       [ 5,  6],\n",
       "       [ 7,  8],\n",
       "       [ 9, 10],\n",
       "       [11, 12],\n",
       "       [13, 14]])"
      ]
     },
     "execution_count": 22,
     "metadata": {},
     "output_type": "execute_result"
    }
   ],
   "source": [
    "#Stacking --> hstack and vstack--> enter a tuple as the parameter inside function name\n",
    "arr1=np.arange(1,5).reshape(2,2)\n",
    "arr2=np.arange(5,15).reshape(5,2)\n",
    "np.vstack((arr1,arr2))"
   ]
  },
  {
   "cell_type": "code",
   "execution_count": 23,
   "id": "1d35dff8",
   "metadata": {},
   "outputs": [
    {
     "data": {
      "text/plain": [
       "array([[ 1,  2, 45, 50, 45],\n",
       "       [ 3,  4, 47, 50, 45]])"
      ]
     },
     "execution_count": 23,
     "metadata": {},
     "output_type": "execute_result"
    }
   ],
   "source": [
    "arr3=np.random.randint(45,51,size=(2,3))\n",
    "np.hstack((arr1,arr3))"
   ]
  },
  {
   "cell_type": "code",
   "execution_count": 24,
   "id": "53ae7a6b",
   "metadata": {},
   "outputs": [
    {
     "data": {
      "text/plain": [
       "array([[0, 1, 2],\n",
       "       [3, 4, 5]])"
      ]
     },
     "execution_count": 24,
     "metadata": {},
     "output_type": "execute_result"
    }
   ],
   "source": [
    "d=np.arange(0,6).reshape(2,3)\n",
    "d"
   ]
  },
  {
   "cell_type": "code",
   "execution_count": 25,
   "id": "120af590",
   "metadata": {},
   "outputs": [
    {
     "data": {
      "text/plain": [
       "array([[False, False, False],\n",
       "       [False,  True,  True]])"
      ]
     },
     "execution_count": 25,
     "metadata": {},
     "output_type": "execute_result"
    }
   ],
   "source": [
    "e=d>3\n",
    "e"
   ]
  },
  {
   "cell_type": "code",
   "execution_count": 26,
   "id": "905e63b4",
   "metadata": {
    "scrolled": true
   },
   "outputs": [
    {
     "data": {
      "text/plain": [
       "array([4, 5])"
      ]
     },
     "execution_count": 26,
     "metadata": {},
     "output_type": "execute_result"
    }
   ],
   "source": [
    "d[d>3]"
   ]
  },
  {
   "cell_type": "code",
   "execution_count": 27,
   "id": "ae17e40a",
   "metadata": {},
   "outputs": [],
   "source": [
    "# now we are kind of accessing these elements that satisfy the condition, and we can perform\n",
    "# operations on them too\n",
    "d[d>3]=0"
   ]
  },
  {
   "cell_type": "code",
   "execution_count": 28,
   "id": "8970d10d",
   "metadata": {},
   "outputs": [
    {
     "data": {
      "text/plain": [
       "array([[1, 1, 1],\n",
       "       [1, 1, 1]])"
      ]
     },
     "execution_count": 28,
     "metadata": {},
     "output_type": "execute_result"
    }
   ],
   "source": [
    "d[d<=3]=1\n",
    "d"
   ]
  }
 ],
 "metadata": {
  "kernelspec": {
   "display_name": "Python 3 (ipykernel)",
   "language": "python",
   "name": "python3"
  },
  "language_info": {
   "codemirror_mode": {
    "name": "ipython",
    "version": 3
   },
   "file_extension": ".py",
   "mimetype": "text/x-python",
   "name": "python",
   "nbconvert_exporter": "python",
   "pygments_lexer": "ipython3",
   "version": "3.9.12"
  }
 },
 "nbformat": 4,
 "nbformat_minor": 5
}
