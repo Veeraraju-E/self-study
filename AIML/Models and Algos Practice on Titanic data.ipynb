{
 "cells": [
  {
   "cell_type": "markdown",
   "id": "40bc4c04",
   "metadata": {},
   "source": [
    "## 1. Importing packages"
   ]
  },
  {
   "cell_type": "code",
   "execution_count": 1,
   "id": "f7a2e43e",
   "metadata": {},
   "outputs": [],
   "source": [
    "import numpy as np\n",
    "import pandas as pd\n",
    "import matplotlib.pyplot as plt\n",
    "import seaborn as sns\n",
    "from sklearn.model_selection import train_test_split\n",
    "from sklearn.linear_model import LogisticRegression\n",
    "from sklearn.metrics import confusion_matrix, accuracy_score, roc_auc_score, roc_curve"
   ]
  },
  {
   "cell_type": "markdown",
   "id": "4c8e0f96",
   "metadata": {},
   "source": [
    "## 2. Importing Dataset"
   ]
  },
  {
   "cell_type": "code",
   "execution_count": 2,
   "id": "56503748",
   "metadata": {},
   "outputs": [
    {
     "data": {
      "text/html": [
       "<div>\n",
       "<style scoped>\n",
       "    .dataframe tbody tr th:only-of-type {\n",
       "        vertical-align: middle;\n",
       "    }\n",
       "\n",
       "    .dataframe tbody tr th {\n",
       "        vertical-align: top;\n",
       "    }\n",
       "\n",
       "    .dataframe thead th {\n",
       "        text-align: right;\n",
       "    }\n",
       "</style>\n",
       "<table border=\"1\" class=\"dataframe\">\n",
       "  <thead>\n",
       "    <tr style=\"text-align: right;\">\n",
       "      <th></th>\n",
       "      <th>Unnamed: 0</th>\n",
       "      <th>Age</th>\n",
       "      <th>Cabin</th>\n",
       "      <th>Embarked</th>\n",
       "      <th>Fare</th>\n",
       "      <th>Name</th>\n",
       "      <th>Parch</th>\n",
       "      <th>PassengerId</th>\n",
       "      <th>Pclass</th>\n",
       "      <th>Sex</th>\n",
       "      <th>SibSp</th>\n",
       "      <th>Survived</th>\n",
       "      <th>Ticket</th>\n",
       "    </tr>\n",
       "  </thead>\n",
       "  <tbody>\n",
       "    <tr>\n",
       "      <th>0</th>\n",
       "      <td>0</td>\n",
       "      <td>22.0</td>\n",
       "      <td>NaN</td>\n",
       "      <td>S</td>\n",
       "      <td>7.2500</td>\n",
       "      <td>Braund, Mr. Owen Harris</td>\n",
       "      <td>0</td>\n",
       "      <td>1</td>\n",
       "      <td>3</td>\n",
       "      <td>male</td>\n",
       "      <td>1</td>\n",
       "      <td>0.0</td>\n",
       "      <td>A/5 21171</td>\n",
       "    </tr>\n",
       "    <tr>\n",
       "      <th>1</th>\n",
       "      <td>1</td>\n",
       "      <td>38.0</td>\n",
       "      <td>C85</td>\n",
       "      <td>C</td>\n",
       "      <td>71.2833</td>\n",
       "      <td>Cumings, Mrs. John Bradley (Florence Briggs Th...</td>\n",
       "      <td>0</td>\n",
       "      <td>2</td>\n",
       "      <td>1</td>\n",
       "      <td>female</td>\n",
       "      <td>1</td>\n",
       "      <td>1.0</td>\n",
       "      <td>PC 17599</td>\n",
       "    </tr>\n",
       "    <tr>\n",
       "      <th>2</th>\n",
       "      <td>2</td>\n",
       "      <td>26.0</td>\n",
       "      <td>NaN</td>\n",
       "      <td>S</td>\n",
       "      <td>7.9250</td>\n",
       "      <td>Heikkinen, Miss. Laina</td>\n",
       "      <td>0</td>\n",
       "      <td>3</td>\n",
       "      <td>3</td>\n",
       "      <td>female</td>\n",
       "      <td>0</td>\n",
       "      <td>1.0</td>\n",
       "      <td>STON/O2. 3101282</td>\n",
       "    </tr>\n",
       "    <tr>\n",
       "      <th>3</th>\n",
       "      <td>3</td>\n",
       "      <td>35.0</td>\n",
       "      <td>C123</td>\n",
       "      <td>S</td>\n",
       "      <td>53.1000</td>\n",
       "      <td>Futrelle, Mrs. Jacques Heath (Lily May Peel)</td>\n",
       "      <td>0</td>\n",
       "      <td>4</td>\n",
       "      <td>1</td>\n",
       "      <td>female</td>\n",
       "      <td>1</td>\n",
       "      <td>1.0</td>\n",
       "      <td>113803</td>\n",
       "    </tr>\n",
       "    <tr>\n",
       "      <th>4</th>\n",
       "      <td>4</td>\n",
       "      <td>35.0</td>\n",
       "      <td>NaN</td>\n",
       "      <td>S</td>\n",
       "      <td>8.0500</td>\n",
       "      <td>Allen, Mr. William Henry</td>\n",
       "      <td>0</td>\n",
       "      <td>5</td>\n",
       "      <td>3</td>\n",
       "      <td>male</td>\n",
       "      <td>0</td>\n",
       "      <td>0.0</td>\n",
       "      <td>373450</td>\n",
       "    </tr>\n",
       "    <tr>\n",
       "      <th>...</th>\n",
       "      <td>...</td>\n",
       "      <td>...</td>\n",
       "      <td>...</td>\n",
       "      <td>...</td>\n",
       "      <td>...</td>\n",
       "      <td>...</td>\n",
       "      <td>...</td>\n",
       "      <td>...</td>\n",
       "      <td>...</td>\n",
       "      <td>...</td>\n",
       "      <td>...</td>\n",
       "      <td>...</td>\n",
       "      <td>...</td>\n",
       "    </tr>\n",
       "    <tr>\n",
       "      <th>1304</th>\n",
       "      <td>413</td>\n",
       "      <td>NaN</td>\n",
       "      <td>NaN</td>\n",
       "      <td>S</td>\n",
       "      <td>8.0500</td>\n",
       "      <td>Spector, Mr. Woolf</td>\n",
       "      <td>0</td>\n",
       "      <td>1305</td>\n",
       "      <td>3</td>\n",
       "      <td>male</td>\n",
       "      <td>0</td>\n",
       "      <td>NaN</td>\n",
       "      <td>A.5. 3236</td>\n",
       "    </tr>\n",
       "    <tr>\n",
       "      <th>1305</th>\n",
       "      <td>414</td>\n",
       "      <td>39.0</td>\n",
       "      <td>C105</td>\n",
       "      <td>C</td>\n",
       "      <td>108.9000</td>\n",
       "      <td>Oliva y Ocana, Dona. Fermina</td>\n",
       "      <td>0</td>\n",
       "      <td>1306</td>\n",
       "      <td>1</td>\n",
       "      <td>female</td>\n",
       "      <td>0</td>\n",
       "      <td>NaN</td>\n",
       "      <td>PC 17758</td>\n",
       "    </tr>\n",
       "    <tr>\n",
       "      <th>1306</th>\n",
       "      <td>415</td>\n",
       "      <td>38.5</td>\n",
       "      <td>NaN</td>\n",
       "      <td>S</td>\n",
       "      <td>7.2500</td>\n",
       "      <td>Saether, Mr. Simon Sivertsen</td>\n",
       "      <td>0</td>\n",
       "      <td>1307</td>\n",
       "      <td>3</td>\n",
       "      <td>male</td>\n",
       "      <td>0</td>\n",
       "      <td>NaN</td>\n",
       "      <td>SOTON/O.Q. 3101262</td>\n",
       "    </tr>\n",
       "    <tr>\n",
       "      <th>1307</th>\n",
       "      <td>416</td>\n",
       "      <td>NaN</td>\n",
       "      <td>NaN</td>\n",
       "      <td>S</td>\n",
       "      <td>8.0500</td>\n",
       "      <td>Ware, Mr. Frederick</td>\n",
       "      <td>0</td>\n",
       "      <td>1308</td>\n",
       "      <td>3</td>\n",
       "      <td>male</td>\n",
       "      <td>0</td>\n",
       "      <td>NaN</td>\n",
       "      <td>359309</td>\n",
       "    </tr>\n",
       "    <tr>\n",
       "      <th>1308</th>\n",
       "      <td>417</td>\n",
       "      <td>NaN</td>\n",
       "      <td>NaN</td>\n",
       "      <td>C</td>\n",
       "      <td>22.3583</td>\n",
       "      <td>Peter, Master. Michael J</td>\n",
       "      <td>1</td>\n",
       "      <td>1309</td>\n",
       "      <td>3</td>\n",
       "      <td>male</td>\n",
       "      <td>1</td>\n",
       "      <td>NaN</td>\n",
       "      <td>2668</td>\n",
       "    </tr>\n",
       "  </tbody>\n",
       "</table>\n",
       "<p>1309 rows × 13 columns</p>\n",
       "</div>"
      ],
      "text/plain": [
       "      Unnamed: 0   Age Cabin Embarked      Fare  \\\n",
       "0              0  22.0   NaN        S    7.2500   \n",
       "1              1  38.0   C85        C   71.2833   \n",
       "2              2  26.0   NaN        S    7.9250   \n",
       "3              3  35.0  C123        S   53.1000   \n",
       "4              4  35.0   NaN        S    8.0500   \n",
       "...          ...   ...   ...      ...       ...   \n",
       "1304         413   NaN   NaN        S    8.0500   \n",
       "1305         414  39.0  C105        C  108.9000   \n",
       "1306         415  38.5   NaN        S    7.2500   \n",
       "1307         416   NaN   NaN        S    8.0500   \n",
       "1308         417   NaN   NaN        C   22.3583   \n",
       "\n",
       "                                                   Name  Parch  PassengerId  \\\n",
       "0                               Braund, Mr. Owen Harris      0            1   \n",
       "1     Cumings, Mrs. John Bradley (Florence Briggs Th...      0            2   \n",
       "2                                Heikkinen, Miss. Laina      0            3   \n",
       "3          Futrelle, Mrs. Jacques Heath (Lily May Peel)      0            4   \n",
       "4                              Allen, Mr. William Henry      0            5   \n",
       "...                                                 ...    ...          ...   \n",
       "1304                                 Spector, Mr. Woolf      0         1305   \n",
       "1305                       Oliva y Ocana, Dona. Fermina      0         1306   \n",
       "1306                       Saether, Mr. Simon Sivertsen      0         1307   \n",
       "1307                                Ware, Mr. Frederick      0         1308   \n",
       "1308                           Peter, Master. Michael J      1         1309   \n",
       "\n",
       "      Pclass     Sex  SibSp  Survived              Ticket  \n",
       "0          3    male      1       0.0           A/5 21171  \n",
       "1          1  female      1       1.0            PC 17599  \n",
       "2          3  female      0       1.0    STON/O2. 3101282  \n",
       "3          1  female      1       1.0              113803  \n",
       "4          3    male      0       0.0              373450  \n",
       "...      ...     ...    ...       ...                 ...  \n",
       "1304       3    male      0       NaN           A.5. 3236  \n",
       "1305       1  female      0       NaN            PC 17758  \n",
       "1306       3    male      0       NaN  SOTON/O.Q. 3101262  \n",
       "1307       3    male      0       NaN              359309  \n",
       "1308       3    male      1       NaN                2668  \n",
       "\n",
       "[1309 rows x 13 columns]"
      ]
     },
     "execution_count": 2,
     "metadata": {},
     "output_type": "execute_result"
    }
   ],
   "source": [
    "Titanic=pd.read_csv(r\"C:\\Users\\roopa\\Desktop\\Veer_Trainings\\Python, AIML, DS\\AIML\\Titanic.csv\")\n",
    "Titanic"
   ]
  },
  {
   "cell_type": "markdown",
   "id": "f4671aef",
   "metadata": {},
   "source": [
    "## 3. Data Wrangling"
   ]
  },
  {
   "cell_type": "code",
   "execution_count": 3,
   "id": "38fb6293",
   "metadata": {},
   "outputs": [
    {
     "name": "stdout",
     "output_type": "stream",
     "text": [
      "<class 'pandas.core.frame.DataFrame'>\n",
      "RangeIndex: 1309 entries, 0 to 1308\n",
      "Data columns (total 13 columns):\n",
      " #   Column       Non-Null Count  Dtype  \n",
      "---  ------       --------------  -----  \n",
      " 0   Unnamed: 0   1309 non-null   int64  \n",
      " 1   Age          1046 non-null   float64\n",
      " 2   Cabin        295 non-null    object \n",
      " 3   Embarked     1307 non-null   object \n",
      " 4   Fare         1308 non-null   float64\n",
      " 5   Name         1309 non-null   object \n",
      " 6   Parch        1309 non-null   int64  \n",
      " 7   PassengerId  1309 non-null   int64  \n",
      " 8   Pclass       1309 non-null   int64  \n",
      " 9   Sex          1309 non-null   object \n",
      " 10  SibSp        1309 non-null   int64  \n",
      " 11  Survived     891 non-null    float64\n",
      " 12  Ticket       1309 non-null   object \n",
      "dtypes: float64(3), int64(5), object(5)\n",
      "memory usage: 133.1+ KB\n"
     ]
    }
   ],
   "source": [
    "Titanic.info() #Name,Cabin No.,Ticket, PassengerId is nominal in nature,Unnamed:0 all are not at all required for analysis\n",
    "#they are insignificant variables"
   ]
  },
  {
   "cell_type": "code",
   "execution_count": 4,
   "id": "c059b516",
   "metadata": {},
   "outputs": [
    {
     "data": {
      "text/plain": [
       "array(['S', 'C', 'Q', nan], dtype=object)"
      ]
     },
     "execution_count": 4,
     "metadata": {},
     "output_type": "execute_result"
    }
   ],
   "source": [
    "Titanic['Embarked'].unique()"
   ]
  },
  {
   "cell_type": "code",
   "execution_count": 5,
   "id": "9d114a7a",
   "metadata": {},
   "outputs": [
    {
     "data": {
      "text/plain": [
       "array([1, 0, 3, 4, 2, 5, 8], dtype=int64)"
      ]
     },
     "execution_count": 5,
     "metadata": {},
     "output_type": "execute_result"
    }
   ],
   "source": [
    "Titanic['SibSp'].unique()"
   ]
  },
  {
   "cell_type": "code",
   "execution_count": 6,
   "id": "d485d344",
   "metadata": {},
   "outputs": [
    {
     "data": {
      "text/plain": [
       "array([0, 1, 2, 5, 3, 4, 6, 9], dtype=int64)"
      ]
     },
     "execution_count": 6,
     "metadata": {},
     "output_type": "execute_result"
    }
   ],
   "source": [
    "Titanic['Parch'].unique()"
   ]
  },
  {
   "cell_type": "code",
   "execution_count": 7,
   "id": "d183653d",
   "metadata": {},
   "outputs": [
    {
     "data": {
      "text/plain": [
       "<AxesSubplot:xlabel='Survived', ylabel='count'>"
      ]
     },
     "execution_count": 7,
     "metadata": {},
     "output_type": "execute_result"
    },
    {
     "data": {
      "image/png": "[encoded data removed]",
      "text/plain": [
       "<Figure size 432x288 with 1 Axes>"
      ]
     },
     "metadata": {
      "needs_background": "light"
     },
     "output_type": "display_data"
    }
   ],
   "source": [
    "# for visualizing, using bar plots w/t too much code\n",
    "sns.countplot(x='Survived', data=Titanic)"
   ]
  },
  {
   "cell_type": "code",
   "execution_count": 8,
   "id": "7691c803",
   "metadata": {},
   "outputs": [
    {
     "data": {
      "text/plain": [
       "<AxesSubplot:xlabel='Survived', ylabel='count'>"
      ]
     },
     "execution_count": 8,
     "metadata": {},
     "output_type": "execute_result"
    },
    {
     "data": {
      "image/png": "[encoded data removed]",
      "text/plain": [
       "<Figure size 432x288 with 1 Axes>"
      ]
     },
     "metadata": {
      "needs_background": "light"
     },
     "output_type": "display_data"
    }
   ],
   "source": [
    "# even more detailed\n",
    "sns.countplot(x='Survived',hue='Sex',data=Titanic) #hue acts as double bar chart together with original classification\n",
    "#even legend is automatically created"
   ]
  },
  {
   "cell_type": "code",
   "execution_count": 9,
   "id": "d1074c80",
   "metadata": {},
   "outputs": [
    {
     "data": {
      "text/plain": [
       "<AxesSubplot:xlabel='Survived', ylabel='count'>"
      ]
     },
     "execution_count": 9,
     "metadata": {},
     "output_type": "execute_result"
    },
    {
     "data": {
      "image/png": "[encoded data removed]",
      "text/plain": [
       "<Figure size 432x288 with 1 Axes>"
      ]
     },
     "metadata": {
      "needs_background": "light"
     },
     "output_type": "display_data"
    }
   ],
   "source": [
    "sns.countplot(x='Survived',hue='Pclass',data=Titanic)"
   ]
  },
  {
   "cell_type": "code",
   "execution_count": 10,
   "id": "b5dca7e0",
   "metadata": {},
   "outputs": [],
   "source": [
    "Titanic['Sex']=Titanic['Sex'].astype('category')"
   ]
  },
  {
   "cell_type": "code",
   "execution_count": 11,
   "id": "903a7fce",
   "metadata": {},
   "outputs": [],
   "source": [
    "Titanic['Sex']=Titanic['Sex'].cat.codes"
   ]
  },
  {
   "cell_type": "code",
   "execution_count": 12,
   "id": "62ee7ca1",
   "metadata": {},
   "outputs": [],
   "source": [
    "Titanic['Embarked']=Titanic['Embarked'].astype('category')"
   ]
  },
  {
   "cell_type": "code",
   "execution_count": 13,
   "id": "ca040208",
   "metadata": {},
   "outputs": [],
   "source": [
    "Titanic['Embarked']=Titanic['Embarked'].cat.codes"
   ]
  },
  {
   "cell_type": "code",
   "execution_count": 14,
   "id": "e60a9829",
   "metadata": {},
   "outputs": [
    {
     "data": {
      "text/plain": [
       "2    914\n",
       "0    270\n",
       "1    123\n",
       "3      2\n",
       "Name: Embarked, dtype: int64"
      ]
     },
     "execution_count": 14,
     "metadata": {},
     "output_type": "execute_result"
    }
   ],
   "source": [
    "Titanic['Embarked'].unique() #don't work with negative values\n",
    "Titanic['Embarked']=Titanic['Embarked'].replace(-1,3)\n",
    "Titanic['Embarked'].value_counts()"
   ]
  },
  {
   "cell_type": "code",
   "execution_count": 15,
   "id": "f8706eca",
   "metadata": {
    "scrolled": true
   },
   "outputs": [
    {
     "data": {
      "text/plain": [
       "Unnamed: 0        0\n",
       "Age             263\n",
       "Cabin          1014\n",
       "Embarked          0\n",
       "Fare              1\n",
       "Name              0\n",
       "Parch             0\n",
       "PassengerId       0\n",
       "Pclass            0\n",
       "Sex               0\n",
       "SibSp             0\n",
       "Survived        418\n",
       "Ticket            0\n",
       "dtype: int64"
      ]
     },
     "execution_count": 15,
     "metadata": {},
     "output_type": "execute_result"
    }
   ],
   "source": [
    "Titanic.isna().sum() #we need to treat the missing values"
   ]
  },
  {
   "cell_type": "code",
   "execution_count": 16,
   "id": "2ae1d000",
   "metadata": {},
   "outputs": [],
   "source": [
    "Titanic=Titanic.drop(['Unnamed: 0','Name', 'Cabin','Ticket','PassengerId'], axis=1)"
   ]
  },
  {
   "cell_type": "code",
   "execution_count": 17,
   "id": "6ba48307",
   "metadata": {},
   "outputs": [
    {
     "data": {
      "text/html": [
       "<div>\n",
       "<style scoped>\n",
       "    .dataframe tbody tr th:only-of-type {\n",
       "        vertical-align: middle;\n",
       "    }\n",
       "\n",
       "    .dataframe tbody tr th {\n",
       "        vertical-align: top;\n",
       "    }\n",
       "\n",
       "    .dataframe thead th {\n",
       "        text-align: right;\n",
       "    }\n",
       "</style>\n",
       "<table border=\"1\" class=\"dataframe\">\n",
       "  <thead>\n",
       "    <tr style=\"text-align: right;\">\n",
       "      <th></th>\n",
       "      <th>Age</th>\n",
       "      <th>Embarked</th>\n",
       "      <th>Fare</th>\n",
       "      <th>Parch</th>\n",
       "      <th>Pclass</th>\n",
       "      <th>Sex</th>\n",
       "      <th>SibSp</th>\n",
       "      <th>Survived</th>\n",
       "    </tr>\n",
       "  </thead>\n",
       "  <tbody>\n",
       "    <tr>\n",
       "      <th>0</th>\n",
       "      <td>22.0</td>\n",
       "      <td>2</td>\n",
       "      <td>7.2500</td>\n",
       "      <td>0</td>\n",
       "      <td>3</td>\n",
       "      <td>1</td>\n",
       "      <td>1</td>\n",
       "      <td>0.0</td>\n",
       "    </tr>\n",
       "    <tr>\n",
       "      <th>1</th>\n",
       "      <td>38.0</td>\n",
       "      <td>0</td>\n",
       "      <td>71.2833</td>\n",
       "      <td>0</td>\n",
       "      <td>1</td>\n",
       "      <td>0</td>\n",
       "      <td>1</td>\n",
       "      <td>1.0</td>\n",
       "    </tr>\n",
       "    <tr>\n",
       "      <th>2</th>\n",
       "      <td>26.0</td>\n",
       "      <td>2</td>\n",
       "      <td>7.9250</td>\n",
       "      <td>0</td>\n",
       "      <td>3</td>\n",
       "      <td>0</td>\n",
       "      <td>0</td>\n",
       "      <td>1.0</td>\n",
       "    </tr>\n",
       "    <tr>\n",
       "      <th>3</th>\n",
       "      <td>35.0</td>\n",
       "      <td>2</td>\n",
       "      <td>53.1000</td>\n",
       "      <td>0</td>\n",
       "      <td>1</td>\n",
       "      <td>0</td>\n",
       "      <td>1</td>\n",
       "      <td>1.0</td>\n",
       "    </tr>\n",
       "    <tr>\n",
       "      <th>4</th>\n",
       "      <td>35.0</td>\n",
       "      <td>2</td>\n",
       "      <td>8.0500</td>\n",
       "      <td>0</td>\n",
       "      <td>3</td>\n",
       "      <td>1</td>\n",
       "      <td>0</td>\n",
       "      <td>0.0</td>\n",
       "    </tr>\n",
       "    <tr>\n",
       "      <th>...</th>\n",
       "      <td>...</td>\n",
       "      <td>...</td>\n",
       "      <td>...</td>\n",
       "      <td>...</td>\n",
       "      <td>...</td>\n",
       "      <td>...</td>\n",
       "      <td>...</td>\n",
       "      <td>...</td>\n",
       "    </tr>\n",
       "    <tr>\n",
       "      <th>1304</th>\n",
       "      <td>NaN</td>\n",
       "      <td>2</td>\n",
       "      <td>8.0500</td>\n",
       "      <td>0</td>\n",
       "      <td>3</td>\n",
       "      <td>1</td>\n",
       "      <td>0</td>\n",
       "      <td>NaN</td>\n",
       "    </tr>\n",
       "    <tr>\n",
       "      <th>1305</th>\n",
       "      <td>39.0</td>\n",
       "      <td>0</td>\n",
       "      <td>108.9000</td>\n",
       "      <td>0</td>\n",
       "      <td>1</td>\n",
       "      <td>0</td>\n",
       "      <td>0</td>\n",
       "      <td>NaN</td>\n",
       "    </tr>\n",
       "    <tr>\n",
       "      <th>1306</th>\n",
       "      <td>38.5</td>\n",
       "      <td>2</td>\n",
       "      <td>7.2500</td>\n",
       "      <td>0</td>\n",
       "      <td>3</td>\n",
       "      <td>1</td>\n",
       "      <td>0</td>\n",
       "      <td>NaN</td>\n",
       "    </tr>\n",
       "    <tr>\n",
       "      <th>1307</th>\n",
       "      <td>NaN</td>\n",
       "      <td>2</td>\n",
       "      <td>8.0500</td>\n",
       "      <td>0</td>\n",
       "      <td>3</td>\n",
       "      <td>1</td>\n",
       "      <td>0</td>\n",
       "      <td>NaN</td>\n",
       "    </tr>\n",
       "    <tr>\n",
       "      <th>1308</th>\n",
       "      <td>NaN</td>\n",
       "      <td>0</td>\n",
       "      <td>22.3583</td>\n",
       "      <td>1</td>\n",
       "      <td>3</td>\n",
       "      <td>1</td>\n",
       "      <td>1</td>\n",
       "      <td>NaN</td>\n",
       "    </tr>\n",
       "  </tbody>\n",
       "</table>\n",
       "<p>1309 rows × 8 columns</p>\n",
       "</div>"
      ],
      "text/plain": [
       "       Age  Embarked      Fare  Parch  Pclass  Sex  SibSp  Survived\n",
       "0     22.0         2    7.2500      0       3    1      1       0.0\n",
       "1     38.0         0   71.2833      0       1    0      1       1.0\n",
       "2     26.0         2    7.9250      0       3    0      0       1.0\n",
       "3     35.0         2   53.1000      0       1    0      1       1.0\n",
       "4     35.0         2    8.0500      0       3    1      0       0.0\n",
       "...    ...       ...       ...    ...     ...  ...    ...       ...\n",
       "1304   NaN         2    8.0500      0       3    1      0       NaN\n",
       "1305  39.0         0  108.9000      0       1    0      0       NaN\n",
       "1306  38.5         2    7.2500      0       3    1      0       NaN\n",
       "1307   NaN         2    8.0500      0       3    1      0       NaN\n",
       "1308   NaN         0   22.3583      1       3    1      1       NaN\n",
       "\n",
       "[1309 rows x 8 columns]"
      ]
     },
     "execution_count": 17,
     "metadata": {},
     "output_type": "execute_result"
    }
   ],
   "source": [
    "Titanic"
   ]
  },
  {
   "cell_type": "code",
   "execution_count": 18,
   "id": "3550de50",
   "metadata": {},
   "outputs": [
    {
     "data": {
      "text/plain": [
       "0.0    549\n",
       "1.0    342\n",
       "Name: Survived, dtype: int64"
      ]
     },
     "execution_count": 18,
     "metadata": {},
     "output_type": "execute_result"
    }
   ],
   "source": [
    "#before finding correlation, we need to fill up all missing values, and a simple scatterplot won't be helpful visually\n",
    "# treat numerical values with median, and catagorical values with mode\n",
    "# for 'Survived'--> categorical, fill with the mode, here it is 0\n",
    "Titanic['Survived'].value_counts()"
   ]
  },
  {
   "cell_type": "code",
   "execution_count": 19,
   "id": "e0060bb9",
   "metadata": {},
   "outputs": [],
   "source": [
    "Titanic['Survived'].fillna(0,inplace=True) #for permanent changes"
   ]
  },
  {
   "cell_type": "code",
   "execution_count": 20,
   "id": "84d7ef6e",
   "metadata": {},
   "outputs": [],
   "source": [
    "Titanic['Fare'].fillna(Titanic['Fare'].median(), inplace=True)"
   ]
  },
  {
   "cell_type": "code",
   "execution_count": 21,
   "id": "ed9ec488",
   "metadata": {},
   "outputs": [],
   "source": [
    "Titanic['Age'].fillna(Titanic['Age'].median(), inplace=True)"
   ]
  },
  {
   "cell_type": "code",
   "execution_count": 22,
   "id": "d2008f13",
   "metadata": {},
   "outputs": [
    {
     "name": "stdout",
     "output_type": "stream",
     "text": [
      "<class 'pandas.core.frame.DataFrame'>\n",
      "RangeIndex: 1309 entries, 0 to 1308\n",
      "Data columns (total 8 columns):\n",
      " #   Column    Non-Null Count  Dtype  \n",
      "---  ------    --------------  -----  \n",
      " 0   Age       1309 non-null   float64\n",
      " 1   Embarked  1309 non-null   int8   \n",
      " 2   Fare      1309 non-null   float64\n",
      " 3   Parch     1309 non-null   int64  \n",
      " 4   Pclass    1309 non-null   int64  \n",
      " 5   Sex       1309 non-null   int8   \n",
      " 6   SibSp     1309 non-null   int64  \n",
      " 7   Survived  1309 non-null   float64\n",
      "dtypes: float64(3), int64(3), int8(2)\n",
      "memory usage: 64.0 KB\n"
     ]
    }
   ],
   "source": [
    "Titanic.info() #now, e don't have any missing values"
   ]
  },
  {
   "cell_type": "code",
   "execution_count": 23,
   "id": "e9d3b237",
   "metadata": {},
   "outputs": [
    {
     "data": {
      "text/plain": [
       "Age         float64\n",
       "Embarked       int8\n",
       "Fare        float64\n",
       "Parch         int64\n",
       "Pclass        int64\n",
       "Sex            int8\n",
       "SibSp         int64\n",
       "Survived    float64\n",
       "dtype: object"
      ]
     },
     "execution_count": 23,
     "metadata": {},
     "output_type": "execute_result"
    }
   ],
   "source": [
    "Titanic.dtypes #all are integer or floating point values, we are good towards modelling"
   ]
  },
  {
   "cell_type": "code",
   "execution_count": 24,
   "id": "d953b672",
   "metadata": {},
   "outputs": [
    {
     "data": {
      "text/html": [
       "<div>\n",
       "<style scoped>\n",
       "    .dataframe tbody tr th:only-of-type {\n",
       "        vertical-align: middle;\n",
       "    }\n",
       "\n",
       "    .dataframe tbody tr th {\n",
       "        vertical-align: top;\n",
       "    }\n",
       "\n",
       "    .dataframe thead th {\n",
       "        text-align: right;\n",
       "    }\n",
       "</style>\n",
       "<table border=\"1\" class=\"dataframe\">\n",
       "  <thead>\n",
       "    <tr style=\"text-align: right;\">\n",
       "      <th></th>\n",
       "      <th>Age</th>\n",
       "      <th>Embarked</th>\n",
       "      <th>Fare</th>\n",
       "      <th>Parch</th>\n",
       "      <th>Pclass</th>\n",
       "      <th>Sex</th>\n",
       "    </tr>\n",
       "  </thead>\n",
       "  <tbody>\n",
       "    <tr>\n",
       "      <th>Age</th>\n",
       "      <td>1.000000</td>\n",
       "      <td>-0.060302</td>\n",
       "      <td>0.178182</td>\n",
       "      <td>-0.125851</td>\n",
       "      <td>-0.377908</td>\n",
       "      <td>0.053663</td>\n",
       "    </tr>\n",
       "    <tr>\n",
       "      <th>Embarked</th>\n",
       "      <td>-0.060302</td>\n",
       "      <td>1.000000</td>\n",
       "      <td>-0.235889</td>\n",
       "      <td>0.043835</td>\n",
       "      <td>0.182154</td>\n",
       "      <td>0.095215</td>\n",
       "    </tr>\n",
       "    <tr>\n",
       "      <th>Fare</th>\n",
       "      <td>0.178182</td>\n",
       "      <td>-0.235889</td>\n",
       "      <td>1.000000</td>\n",
       "      <td>0.221635</td>\n",
       "      <td>-0.558683</td>\n",
       "      <td>-0.185681</td>\n",
       "    </tr>\n",
       "    <tr>\n",
       "      <th>Parch</th>\n",
       "      <td>-0.125851</td>\n",
       "      <td>0.043835</td>\n",
       "      <td>0.221635</td>\n",
       "      <td>1.000000</td>\n",
       "      <td>0.018322</td>\n",
       "      <td>-0.213125</td>\n",
       "    </tr>\n",
       "    <tr>\n",
       "      <th>Pclass</th>\n",
       "      <td>-0.377908</td>\n",
       "      <td>0.182154</td>\n",
       "      <td>-0.558683</td>\n",
       "      <td>0.018322</td>\n",
       "      <td>1.000000</td>\n",
       "      <td>0.124617</td>\n",
       "    </tr>\n",
       "    <tr>\n",
       "      <th>Sex</th>\n",
       "      <td>0.053663</td>\n",
       "      <td>0.095215</td>\n",
       "      <td>-0.185681</td>\n",
       "      <td>-0.213125</td>\n",
       "      <td>0.124617</td>\n",
       "      <td>1.000000</td>\n",
       "    </tr>\n",
       "  </tbody>\n",
       "</table>\n",
       "</div>"
      ],
      "text/plain": [
       "               Age  Embarked      Fare     Parch    Pclass       Sex\n",
       "Age       1.000000 -0.060302  0.178182 -0.125851 -0.377908  0.053663\n",
       "Embarked -0.060302  1.000000 -0.235889  0.043835  0.182154  0.095215\n",
       "Fare      0.178182 -0.235889  1.000000  0.221635 -0.558683 -0.185681\n",
       "Parch    -0.125851  0.043835  0.221635  1.000000  0.018322 -0.213125\n",
       "Pclass   -0.377908  0.182154 -0.558683  0.018322  1.000000  0.124617\n",
       "Sex       0.053663  0.095215 -0.185681 -0.213125  0.124617  1.000000"
      ]
     },
     "execution_count": 24,
     "metadata": {},
     "output_type": "execute_result"
    }
   ],
   "source": [
    "Titanic.iloc[:,:-2].corr() #all |corr| values are <0.75"
   ]
  },
  {
   "cell_type": "markdown",
   "id": "5182079a",
   "metadata": {},
   "source": [
    "## 4. Splitting into IV and DV"
   ]
  },
  {
   "cell_type": "code",
   "execution_count": 25,
   "id": "8a2f5bf9",
   "metadata": {},
   "outputs": [],
   "source": [
    "X=Titanic.iloc[:,:7].values\n",
    "Y=Titanic.iloc[:,7]"
   ]
  },
  {
   "cell_type": "code",
   "execution_count": 26,
   "id": "4c0079c6",
   "metadata": {},
   "outputs": [
    {
     "data": {
      "text/plain": [
       "(array([[22.    ,  2.    ,  7.25  , ...,  3.    ,  1.    ,  1.    ],\n",
       "        [38.    ,  0.    , 71.2833, ...,  1.    ,  0.    ,  1.    ],\n",
       "        [26.    ,  2.    ,  7.925 , ...,  3.    ,  0.    ,  0.    ],\n",
       "        ...,\n",
       "        [38.5   ,  2.    ,  7.25  , ...,  3.    ,  1.    ,  0.    ],\n",
       "        [28.    ,  2.    ,  8.05  , ...,  3.    ,  1.    ,  0.    ],\n",
       "        [28.    ,  0.    , 22.3583, ...,  3.    ,  1.    ,  1.    ]]),\n",
       " 0       0.0\n",
       " 1       1.0\n",
       " 2       1.0\n",
       " 3       1.0\n",
       " 4       0.0\n",
       "        ... \n",
       " 1304    0.0\n",
       " 1305    0.0\n",
       " 1306    0.0\n",
       " 1307    0.0\n",
       " 1308    0.0\n",
       " Name: Survived, Length: 1309, dtype: float64)"
      ]
     },
     "execution_count": 26,
     "metadata": {},
     "output_type": "execute_result"
    }
   ],
   "source": [
    "X,Y"
   ]
  },
  {
   "cell_type": "markdown",
   "id": "dded7a79",
   "metadata": {},
   "source": [
    "## 5. Further splitting into train and test data"
   ]
  },
  {
   "cell_type": "code",
   "execution_count": 32,
   "id": "d971e17f",
   "metadata": {},
   "outputs": [],
   "source": [
    "X_train,X_test,Y_train,Y_test=train_test_split(X,Y,train_size=0.8)"
   ]
  },
  {
   "cell_type": "markdown",
   "id": "72b04d4a",
   "metadata": {},
   "source": [
    "## 6. Modelling"
   ]
  },
  {
   "cell_type": "code",
   "execution_count": 39,
   "id": "956bb43e",
   "metadata": {},
   "outputs": [
    {
     "data": {
      "text/plain": [
       "array([0., 0., 0., 1., 0., 1., 0., 0., 0., 0., 0., 0., 0., 0., 0., 0., 0.,\n",
       "       0., 0., 0., 0., 0., 0., 0., 1., 0., 1., 0., 0., 0., 1., 0., 1., 1.,\n",
       "       1., 0., 0., 1., 0., 0., 0., 0., 0., 0., 0., 1., 0., 0., 0., 0., 0.,\n",
       "       0., 0., 0., 0., 0., 0., 0., 0., 0., 0., 1., 0., 0., 0., 0., 0., 0.,\n",
       "       1., 0., 0., 0., 0., 1., 0., 0., 0., 0., 0., 0., 0., 0., 0., 0., 0.,\n",
       "       1., 0., 0., 0., 0., 1., 0., 0., 0., 0., 0., 0., 0., 0., 0., 0., 0.,\n",
       "       1., 1., 0., 0., 0., 0., 0., 1., 0., 1., 0., 0., 0., 0., 0., 1., 0.,\n",
       "       0., 0., 0., 0., 0., 1., 0., 0., 0., 0., 0., 1., 1., 0., 0., 0., 1.,\n",
       "       0., 0., 0., 0., 0., 0., 0., 0., 0., 0., 0., 1., 0., 0., 0., 1., 0.,\n",
       "       0., 0., 1., 0., 0., 0., 0., 0., 1., 0., 0., 0., 0., 0., 1., 0., 0.,\n",
       "       1., 0., 0., 0., 1., 0., 0., 0., 0., 0., 0., 0., 0., 0., 0., 0., 0.,\n",
       "       0., 0., 1., 0., 0., 1., 0., 0., 0., 0., 0., 0., 0., 0., 0., 0., 0.,\n",
       "       1., 0., 0., 0., 0., 1., 0., 0., 0., 0., 0., 0., 1., 0., 0., 0., 0.,\n",
       "       0., 0., 0., 1., 0., 0., 0., 0., 0., 0., 0., 0., 0., 0., 0., 0., 0.,\n",
       "       0., 0., 0., 0., 0., 0., 0., 0., 0., 0., 0., 0., 0., 0., 1., 1., 1.,\n",
       "       0., 1., 0., 0., 1., 0., 0.])"
      ]
     },
     "execution_count": 39,
     "metadata": {},
     "output_type": "execute_result"
    }
   ],
   "source": [
    "log_reg=LogisticRegression()\n",
    "log_reg.fit(X_train,Y_train)\n",
    "Y_pred=log_reg.predict(X_test)\n",
    "Y_pred"
   ]
  },
  {
   "cell_type": "code",
   "execution_count": 37,
   "id": "e12ca8bd",
   "metadata": {},
   "outputs": [],
   "source": [
    "#but we need it more graphically"
   ]
  },
  {
   "cell_type": "markdown",
   "id": "9aa09d9b",
   "metadata": {},
   "source": [
    "## 7. Evaluation"
   ]
  },
  {
   "cell_type": "code",
   "execution_count": 40,
   "id": "67163371",
   "metadata": {},
   "outputs": [
    {
     "data": {
      "text/plain": [
       "array([[180,  16],\n",
       "       [ 40,  26]], dtype=int64)"
      ]
     },
     "execution_count": 40,
     "metadata": {},
     "output_type": "execute_result"
    }
   ],
   "source": [
    "confusion_matrix(Y_test,Y_pred) #gives us an idea of how many rightly predicted values and how many incorrectly predicted\n",
    "#values are there"
   ]
  },
  {
   "cell_type": "code",
   "execution_count": 41,
   "id": "c6e7bd8f",
   "metadata": {},
   "outputs": [
    {
     "data": {
      "text/plain": [
       "0.7862595419847328"
      ]
     },
     "execution_count": 41,
     "metadata": {},
     "output_type": "execute_result"
    }
   ],
   "source": [
    "accuracy_score(Y_test,Y_pred) #it internally needs the confusion matrix also, as it ultimately does, (180+26)/(180+26+40+16)"
   ]
  },
  {
   "cell_type": "code",
   "execution_count": null,
   "id": "bd11a33e",
   "metadata": {},
   "outputs": [],
   "source": []
  }
 ],
 "metadata": {
  "kernelspec": {
   "display_name": "Python 3 (ipykernel)",
   "language": "python",
   "name": "python3"
  },
  "language_info": {
   "codemirror_mode": {
    "name": "ipython",
    "version": 3
   },
   "file_extension": ".py",
   "mimetype": "text/x-python",
   "name": "python",
   "nbconvert_exporter": "python",
   "pygments_lexer": "ipython3",
   "version": "3.9.12"
  }
 },
 "nbformat": 4,
 "nbformat_minor": 5
}
