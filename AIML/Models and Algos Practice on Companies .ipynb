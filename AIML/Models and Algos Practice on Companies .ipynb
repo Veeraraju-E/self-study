{
 "cells": [
  {
   "cell_type": "markdown",
   "id": "0a49941c",
   "metadata": {},
   "source": [
    "## 1. Importing libraries"
   ]
  },
  {
   "cell_type": "code",
   "execution_count": 1,
   "id": "0ae9f0ef",
   "metadata": {},
   "outputs": [],
   "source": [
    "import numpy as np                                     #Numerical Operations\n",
    "import pandas as pd                                    #Data Analysis\n",
    "import matplotlib.pyplot as plt                        #Visualisation\n",
    "import seaborn as sns                                  #\n",
    "from sklearn.model_selection import train_test_split   #Splitting of our data inot train and test \n",
    "from sklearn.linear_model import LinearRegression      #For Modelling"
   ]
  },
  {
   "cell_type": "markdown",
   "id": "64e69205",
   "metadata": {},
   "source": [
    "## 2. Loading the data"
   ]
  },
  {
   "cell_type": "code",
   "execution_count": 3,
   "id": "cec1b694",
   "metadata": {},
   "outputs": [
    {
     "data": {
      "text/html": [
       "<div>\n",
       "<style scoped>\n",
       "    .dataframe tbody tr th:only-of-type {\n",
       "        vertical-align: middle;\n",
       "    }\n",
       "\n",
       "    .dataframe tbody tr th {\n",
       "        vertical-align: top;\n",
       "    }\n",
       "\n",
       "    .dataframe thead th {\n",
       "        text-align: right;\n",
       "    }\n",
       "</style>\n",
       "<table border=\"1\" class=\"dataframe\">\n",
       "  <thead>\n",
       "    <tr style=\"text-align: right;\">\n",
       "      <th></th>\n",
       "      <th>R&amp;D Spend</th>\n",
       "      <th>Administration</th>\n",
       "      <th>Marketing Spend</th>\n",
       "      <th>State</th>\n",
       "      <th>Profit</th>\n",
       "    </tr>\n",
       "  </thead>\n",
       "  <tbody>\n",
       "    <tr>\n",
       "      <th>0</th>\n",
       "      <td>165349.20</td>\n",
       "      <td>136897.800</td>\n",
       "      <td>471784.1000</td>\n",
       "      <td>New York</td>\n",
       "      <td>192261.83000</td>\n",
       "    </tr>\n",
       "    <tr>\n",
       "      <th>1</th>\n",
       "      <td>162597.70</td>\n",
       "      <td>151377.590</td>\n",
       "      <td>443898.5300</td>\n",
       "      <td>California</td>\n",
       "      <td>191792.06000</td>\n",
       "    </tr>\n",
       "    <tr>\n",
       "      <th>2</th>\n",
       "      <td>153441.51</td>\n",
       "      <td>101145.550</td>\n",
       "      <td>407934.5400</td>\n",
       "      <td>Florida</td>\n",
       "      <td>191050.39000</td>\n",
       "    </tr>\n",
       "    <tr>\n",
       "      <th>3</th>\n",
       "      <td>144372.41</td>\n",
       "      <td>118671.850</td>\n",
       "      <td>383199.6200</td>\n",
       "      <td>New York</td>\n",
       "      <td>182901.99000</td>\n",
       "    </tr>\n",
       "    <tr>\n",
       "      <th>4</th>\n",
       "      <td>142107.34</td>\n",
       "      <td>91391.770</td>\n",
       "      <td>366168.4200</td>\n",
       "      <td>Florida</td>\n",
       "      <td>166187.94000</td>\n",
       "    </tr>\n",
       "    <tr>\n",
       "      <th>...</th>\n",
       "      <td>...</td>\n",
       "      <td>...</td>\n",
       "      <td>...</td>\n",
       "      <td>...</td>\n",
       "      <td>...</td>\n",
       "    </tr>\n",
       "    <tr>\n",
       "      <th>995</th>\n",
       "      <td>54135.00</td>\n",
       "      <td>118451.999</td>\n",
       "      <td>173232.6695</td>\n",
       "      <td>California</td>\n",
       "      <td>95279.96251</td>\n",
       "    </tr>\n",
       "    <tr>\n",
       "      <th>996</th>\n",
       "      <td>134970.00</td>\n",
       "      <td>130390.080</td>\n",
       "      <td>329204.0228</td>\n",
       "      <td>California</td>\n",
       "      <td>164336.60550</td>\n",
       "    </tr>\n",
       "    <tr>\n",
       "      <th>997</th>\n",
       "      <td>100275.47</td>\n",
       "      <td>241926.310</td>\n",
       "      <td>227142.8200</td>\n",
       "      <td>California</td>\n",
       "      <td>413956.48000</td>\n",
       "    </tr>\n",
       "    <tr>\n",
       "      <th>998</th>\n",
       "      <td>128456.23</td>\n",
       "      <td>321652.140</td>\n",
       "      <td>281692.3200</td>\n",
       "      <td>California</td>\n",
       "      <td>333962.19000</td>\n",
       "    </tr>\n",
       "    <tr>\n",
       "      <th>999</th>\n",
       "      <td>161181.72</td>\n",
       "      <td>270939.860</td>\n",
       "      <td>295442.1700</td>\n",
       "      <td>New York</td>\n",
       "      <td>476485.43000</td>\n",
       "    </tr>\n",
       "  </tbody>\n",
       "</table>\n",
       "<p>1000 rows × 5 columns</p>\n",
       "</div>"
      ],
      "text/plain": [
       "     R&D Spend  Administration  Marketing Spend       State        Profit\n",
       "0    165349.20      136897.800      471784.1000    New York  192261.83000\n",
       "1    162597.70      151377.590      443898.5300  California  191792.06000\n",
       "2    153441.51      101145.550      407934.5400     Florida  191050.39000\n",
       "3    144372.41      118671.850      383199.6200    New York  182901.99000\n",
       "4    142107.34       91391.770      366168.4200     Florida  166187.94000\n",
       "..         ...             ...              ...         ...           ...\n",
       "995   54135.00      118451.999      173232.6695  California   95279.96251\n",
       "996  134970.00      130390.080      329204.0228  California  164336.60550\n",
       "997  100275.47      241926.310      227142.8200  California  413956.48000\n",
       "998  128456.23      321652.140      281692.3200  California  333962.19000\n",
       "999  161181.72      270939.860      295442.1700    New York  476485.43000\n",
       "\n",
       "[1000 rows x 5 columns]"
      ]
     },
     "execution_count": 3,
     "metadata": {},
     "output_type": "execute_result"
    }
   ],
   "source": [
    "companies=pd.read_csv(r\"C:\\Users\\roopa\\Desktop\\Veeraraju_Elluru\\Veer_Trainings\\Python, AIML, DS\\AIML\\1000_Companies.csv\")\n",
    "companies"
   ]
  },
  {
   "cell_type": "markdown",
   "id": "addefe7a",
   "metadata": {},
   "source": [
    "## 3. Data Wrangling"
   ]
  },
  {
   "cell_type": "code",
   "execution_count": 4,
   "id": "fe8625d2",
   "metadata": {},
   "outputs": [
    {
     "name": "stdout",
     "output_type": "stream",
     "text": [
      "<class 'pandas.core.frame.DataFrame'>\n",
      "RangeIndex: 1000 entries, 0 to 999\n",
      "Data columns (total 5 columns):\n",
      " #   Column           Non-Null Count  Dtype  \n",
      "---  ------           --------------  -----  \n",
      " 0   R&D Spend        1000 non-null   float64\n",
      " 1   Administration   1000 non-null   float64\n",
      " 2   Marketing Spend  1000 non-null   float64\n",
      " 3   State            1000 non-null   object \n",
      " 4   Profit           1000 non-null   float64\n",
      "dtypes: float64(4), object(1)\n",
      "memory usage: 39.2+ KB\n"
     ]
    }
   ],
   "source": [
    "companies.info() #we are able to detect issues with the data, i.e, the column 'State' is of object dtype vizn't useful\n",
    "#for analysis"
   ]
  },
  {
   "cell_type": "code",
   "execution_count": 6,
   "id": "44a4383e",
   "metadata": {},
   "outputs": [
    {
     "data": {
      "text/html": [
       "<div>\n",
       "<style scoped>\n",
       "    .dataframe tbody tr th:only-of-type {\n",
       "        vertical-align: middle;\n",
       "    }\n",
       "\n",
       "    .dataframe tbody tr th {\n",
       "        vertical-align: top;\n",
       "    }\n",
       "\n",
       "    .dataframe thead th {\n",
       "        text-align: right;\n",
       "    }\n",
       "</style>\n",
       "<table border=\"1\" class=\"dataframe\">\n",
       "  <thead>\n",
       "    <tr style=\"text-align: right;\">\n",
       "      <th></th>\n",
       "      <th>R&amp;D Spend</th>\n",
       "      <th>Administration</th>\n",
       "      <th>Marketing Spend</th>\n",
       "      <th>Profit</th>\n",
       "    </tr>\n",
       "  </thead>\n",
       "  <tbody>\n",
       "    <tr>\n",
       "      <th>count</th>\n",
       "      <td>1000.000000</td>\n",
       "      <td>1000.000000</td>\n",
       "      <td>1000.000000</td>\n",
       "      <td>1000.000000</td>\n",
       "    </tr>\n",
       "    <tr>\n",
       "      <th>mean</th>\n",
       "      <td>81668.927200</td>\n",
       "      <td>122963.897612</td>\n",
       "      <td>226205.058419</td>\n",
       "      <td>119546.164656</td>\n",
       "    </tr>\n",
       "    <tr>\n",
       "      <th>std</th>\n",
       "      <td>46537.567891</td>\n",
       "      <td>12613.927535</td>\n",
       "      <td>91578.393542</td>\n",
       "      <td>42888.633848</td>\n",
       "    </tr>\n",
       "    <tr>\n",
       "      <th>min</th>\n",
       "      <td>0.000000</td>\n",
       "      <td>51283.140000</td>\n",
       "      <td>0.000000</td>\n",
       "      <td>14681.400000</td>\n",
       "    </tr>\n",
       "    <tr>\n",
       "      <th>25%</th>\n",
       "      <td>43084.500000</td>\n",
       "      <td>116640.684850</td>\n",
       "      <td>150969.584600</td>\n",
       "      <td>85943.198543</td>\n",
       "    </tr>\n",
       "    <tr>\n",
       "      <th>50%</th>\n",
       "      <td>79936.000000</td>\n",
       "      <td>122421.612150</td>\n",
       "      <td>224517.887350</td>\n",
       "      <td>117641.466300</td>\n",
       "    </tr>\n",
       "    <tr>\n",
       "      <th>75%</th>\n",
       "      <td>124565.500000</td>\n",
       "      <td>129139.118000</td>\n",
       "      <td>308189.808525</td>\n",
       "      <td>155577.107425</td>\n",
       "    </tr>\n",
       "    <tr>\n",
       "      <th>max</th>\n",
       "      <td>165349.200000</td>\n",
       "      <td>321652.140000</td>\n",
       "      <td>471784.100000</td>\n",
       "      <td>476485.430000</td>\n",
       "    </tr>\n",
       "  </tbody>\n",
       "</table>\n",
       "</div>"
      ],
      "text/plain": [
       "           R&D Spend  Administration  Marketing Spend         Profit\n",
       "count    1000.000000     1000.000000      1000.000000    1000.000000\n",
       "mean    81668.927200   122963.897612    226205.058419  119546.164656\n",
       "std     46537.567891    12613.927535     91578.393542   42888.633848\n",
       "min         0.000000    51283.140000         0.000000   14681.400000\n",
       "25%     43084.500000   116640.684850    150969.584600   85943.198543\n",
       "50%     79936.000000   122421.612150    224517.887350  117641.466300\n",
       "75%    124565.500000   129139.118000    308189.808525  155577.107425\n",
       "max    165349.200000   321652.140000    471784.100000  476485.430000"
      ]
     },
     "execution_count": 6,
     "metadata": {},
     "output_type": "execute_result"
    }
   ],
   "source": [
    "companies.describe()"
   ]
  },
  {
   "cell_type": "code",
   "execution_count": 8,
   "id": "56112c92",
   "metadata": {},
   "outputs": [
    {
     "data": {
      "text/plain": [
       "array(['New York', 'California', 'Florida'], dtype=object)"
      ]
     },
     "execution_count": 8,
     "metadata": {},
     "output_type": "execute_result"
    }
   ],
   "source": [
    "companies['State'].unique() #this column has only categorical variables, it will be useful for data analysis iff\n",
    "#converted into numerical format, can be done directly using sklearn"
   ]
  },
  {
   "cell_type": "code",
   "execution_count": 13,
   "id": "1bde8c69",
   "metadata": {},
   "outputs": [],
   "source": [
    "companies['State']=companies['State'].astype('category')"
   ]
  },
  {
   "cell_type": "code",
   "execution_count": 14,
   "id": "f6405f6c",
   "metadata": {},
   "outputs": [],
   "source": [
    " companies['State']=companies['State'].cat.codes #numerical values from 0,1 etc and they are assigned alphabetically"
   ]
  },
  {
   "cell_type": "code",
   "execution_count": 15,
   "id": "3b800789",
   "metadata": {},
   "outputs": [
    {
     "data": {
      "text/html": [
       "<div>\n",
       "<style scoped>\n",
       "    .dataframe tbody tr th:only-of-type {\n",
       "        vertical-align: middle;\n",
       "    }\n",
       "\n",
       "    .dataframe tbody tr th {\n",
       "        vertical-align: top;\n",
       "    }\n",
       "\n",
       "    .dataframe thead th {\n",
       "        text-align: right;\n",
       "    }\n",
       "</style>\n",
       "<table border=\"1\" class=\"dataframe\">\n",
       "  <thead>\n",
       "    <tr style=\"text-align: right;\">\n",
       "      <th></th>\n",
       "      <th>R&amp;D Spend</th>\n",
       "      <th>Administration</th>\n",
       "      <th>Marketing Spend</th>\n",
       "      <th>State</th>\n",
       "      <th>Profit</th>\n",
       "    </tr>\n",
       "  </thead>\n",
       "  <tbody>\n",
       "    <tr>\n",
       "      <th>0</th>\n",
       "      <td>165349.20</td>\n",
       "      <td>136897.800</td>\n",
       "      <td>471784.1000</td>\n",
       "      <td>2</td>\n",
       "      <td>192261.83000</td>\n",
       "    </tr>\n",
       "    <tr>\n",
       "      <th>1</th>\n",
       "      <td>162597.70</td>\n",
       "      <td>151377.590</td>\n",
       "      <td>443898.5300</td>\n",
       "      <td>0</td>\n",
       "      <td>191792.06000</td>\n",
       "    </tr>\n",
       "    <tr>\n",
       "      <th>2</th>\n",
       "      <td>153441.51</td>\n",
       "      <td>101145.550</td>\n",
       "      <td>407934.5400</td>\n",
       "      <td>1</td>\n",
       "      <td>191050.39000</td>\n",
       "    </tr>\n",
       "    <tr>\n",
       "      <th>3</th>\n",
       "      <td>144372.41</td>\n",
       "      <td>118671.850</td>\n",
       "      <td>383199.6200</td>\n",
       "      <td>2</td>\n",
       "      <td>182901.99000</td>\n",
       "    </tr>\n",
       "    <tr>\n",
       "      <th>4</th>\n",
       "      <td>142107.34</td>\n",
       "      <td>91391.770</td>\n",
       "      <td>366168.4200</td>\n",
       "      <td>1</td>\n",
       "      <td>166187.94000</td>\n",
       "    </tr>\n",
       "    <tr>\n",
       "      <th>...</th>\n",
       "      <td>...</td>\n",
       "      <td>...</td>\n",
       "      <td>...</td>\n",
       "      <td>...</td>\n",
       "      <td>...</td>\n",
       "    </tr>\n",
       "    <tr>\n",
       "      <th>995</th>\n",
       "      <td>54135.00</td>\n",
       "      <td>118451.999</td>\n",
       "      <td>173232.6695</td>\n",
       "      <td>0</td>\n",
       "      <td>95279.96251</td>\n",
       "    </tr>\n",
       "    <tr>\n",
       "      <th>996</th>\n",
       "      <td>134970.00</td>\n",
       "      <td>130390.080</td>\n",
       "      <td>329204.0228</td>\n",
       "      <td>0</td>\n",
       "      <td>164336.60550</td>\n",
       "    </tr>\n",
       "    <tr>\n",
       "      <th>997</th>\n",
       "      <td>100275.47</td>\n",
       "      <td>241926.310</td>\n",
       "      <td>227142.8200</td>\n",
       "      <td>0</td>\n",
       "      <td>413956.48000</td>\n",
       "    </tr>\n",
       "    <tr>\n",
       "      <th>998</th>\n",
       "      <td>128456.23</td>\n",
       "      <td>321652.140</td>\n",
       "      <td>281692.3200</td>\n",
       "      <td>0</td>\n",
       "      <td>333962.19000</td>\n",
       "    </tr>\n",
       "    <tr>\n",
       "      <th>999</th>\n",
       "      <td>161181.72</td>\n",
       "      <td>270939.860</td>\n",
       "      <td>295442.1700</td>\n",
       "      <td>2</td>\n",
       "      <td>476485.43000</td>\n",
       "    </tr>\n",
       "  </tbody>\n",
       "</table>\n",
       "<p>1000 rows × 5 columns</p>\n",
       "</div>"
      ],
      "text/plain": [
       "     R&D Spend  Administration  Marketing Spend  State        Profit\n",
       "0    165349.20      136897.800      471784.1000      2  192261.83000\n",
       "1    162597.70      151377.590      443898.5300      0  191792.06000\n",
       "2    153441.51      101145.550      407934.5400      1  191050.39000\n",
       "3    144372.41      118671.850      383199.6200      2  182901.99000\n",
       "4    142107.34       91391.770      366168.4200      1  166187.94000\n",
       "..         ...             ...              ...    ...           ...\n",
       "995   54135.00      118451.999      173232.6695      0   95279.96251\n",
       "996  134970.00      130390.080      329204.0228      0  164336.60550\n",
       "997  100275.47      241926.310      227142.8200      0  413956.48000\n",
       "998  128456.23      321652.140      281692.3200      0  333962.19000\n",
       "999  161181.72      270939.860      295442.1700      2  476485.43000\n",
       "\n",
       "[1000 rows x 5 columns]"
      ]
     },
     "execution_count": 15,
     "metadata": {},
     "output_type": "execute_result"
    }
   ],
   "source": [
    "companies"
   ]
  },
  {
   "cell_type": "code",
   "execution_count": 16,
   "id": "4c810c48",
   "metadata": {},
   "outputs": [
    {
     "data": {
      "text/plain": [
       "<seaborn.axisgrid.PairGrid at 0x1f70380ef10>"
      ]
     },
     "execution_count": 16,
     "metadata": {},
     "output_type": "execute_result"
    },
    {
     "data": {
      "image/png": "[encoded data removed]",
      "text/plain": [
       "<Figure size 540x180 with 3 Axes>"
      ]
     },
     "metadata": {
      "needs_background": "light"
     },
     "output_type": "display_data"
    }
   ],
   "source": [
    "sns.pairplot(companies, x_vars=['R&D Spend','Administration','Marketing Spend'], y_vars=['Profit']) #bulk checking for\n",
    "#linear relationship"
   ]
  },
  {
   "cell_type": "code",
   "execution_count": 17,
   "id": "bba455be",
   "metadata": {
    "scrolled": true
   },
   "outputs": [
    {
     "data": {
      "text/html": [
       "<div>\n",
       "<style scoped>\n",
       "    .dataframe tbody tr th:only-of-type {\n",
       "        vertical-align: middle;\n",
       "    }\n",
       "\n",
       "    .dataframe tbody tr th {\n",
       "        vertical-align: top;\n",
       "    }\n",
       "\n",
       "    .dataframe thead th {\n",
       "        text-align: right;\n",
       "    }\n",
       "</style>\n",
       "<table border=\"1\" class=\"dataframe\">\n",
       "  <thead>\n",
       "    <tr style=\"text-align: right;\">\n",
       "      <th></th>\n",
       "      <th>R&amp;D Spend</th>\n",
       "      <th>Administration</th>\n",
       "      <th>Marketing Spend</th>\n",
       "    </tr>\n",
       "  </thead>\n",
       "  <tbody>\n",
       "    <tr>\n",
       "      <th>R&amp;D Spend</th>\n",
       "      <td>1.000000</td>\n",
       "      <td>0.582434</td>\n",
       "      <td>0.978407</td>\n",
       "    </tr>\n",
       "    <tr>\n",
       "      <th>Administration</th>\n",
       "      <td>0.582434</td>\n",
       "      <td>1.000000</td>\n",
       "      <td>0.520465</td>\n",
       "    </tr>\n",
       "    <tr>\n",
       "      <th>Marketing Spend</th>\n",
       "      <td>0.978407</td>\n",
       "      <td>0.520465</td>\n",
       "      <td>1.000000</td>\n",
       "    </tr>\n",
       "  </tbody>\n",
       "</table>\n",
       "</div>"
      ],
      "text/plain": [
       "                 R&D Spend  Administration  Marketing Spend\n",
       "R&D Spend         1.000000        0.582434         0.978407\n",
       "Administration    0.582434        1.000000         0.520465\n",
       "Marketing Spend   0.978407        0.520465         1.000000"
      ]
     },
     "execution_count": 17,
     "metadata": {},
     "output_type": "execute_result"
    }
   ],
   "source": [
    "companies.iloc[:,:-2].corr() #checking for multicollinearity\n",
    "#RnD Spend and the Marketing Spend have corr >0.75, hence it shd be treated before further analysis, kept for later "
   ]
  },
  {
   "cell_type": "markdown",
   "id": "14424856",
   "metadata": {},
   "source": [
    "## 4. Splitting data into IV and DV"
   ]
  },
  {
   "cell_type": "code",
   "execution_count": 19,
   "id": "af05908f",
   "metadata": {},
   "outputs": [
    {
     "data": {
      "text/plain": [
       "(array([[165349.2 , 136897.8 , 471784.1 ],\n",
       "        [162597.7 , 151377.59, 443898.53],\n",
       "        [153441.51, 101145.55, 407934.54],\n",
       "        ...,\n",
       "        [100275.47, 241926.31, 227142.82],\n",
       "        [128456.23, 321652.14, 281692.32],\n",
       "        [161181.72, 270939.86, 295442.17]]),\n",
       " 0      192261.83000\n",
       " 1      191792.06000\n",
       " 2      191050.39000\n",
       " 3      182901.99000\n",
       " 4      166187.94000\n",
       "            ...     \n",
       " 995     95279.96251\n",
       " 996    164336.60550\n",
       " 997    413956.48000\n",
       " 998    333962.19000\n",
       " 999    476485.43000\n",
       " Name: Profit, Length: 1000, dtype: float64)"
      ]
     },
     "execution_count": 19,
     "metadata": {},
     "output_type": "execute_result"
    }
   ],
   "source": [
    "X=companies.iloc[:,:-2].values\n",
    "Y=companies.iloc[:,4]\n",
    "X,Y"
   ]
  },
  {
   "cell_type": "markdown",
   "id": "f3c9b3af",
   "metadata": {},
   "source": [
    "## 5. Splitting data into train and test data"
   ]
  },
  {
   "cell_type": "code",
   "execution_count": 20,
   "id": "9c7e85c8",
   "metadata": {},
   "outputs": [],
   "source": [
    "X_train, X_test, Y_train, Y_test=train_test_split(X,Y,test_size=0.20,random_state=9) #random_state can have any value\n",
    "#and order of mentioning X,Y and repective train and test is also important"
   ]
  },
  {
   "cell_type": "code",
   "execution_count": 21,
   "id": "bb07c10f",
   "metadata": {},
   "outputs": [
    {
     "data": {
      "text/plain": [
       "800"
      ]
     },
     "execution_count": 21,
     "metadata": {},
     "output_type": "execute_result"
    }
   ],
   "source": [
    "len(X_train)\n",
    "# len(X_test)\n",
    "# len(Y_train)\n",
    "# len(Y_test)"
   ]
  },
  {
   "cell_type": "markdown",
   "id": "e4312243",
   "metadata": {},
   "source": [
    "## 6. Modelling"
   ]
  },
  {
   "cell_type": "code",
   "execution_count": 24,
   "id": "c4ea3a78",
   "metadata": {},
   "outputs": [
    {
     "data": {
      "text/plain": [
       "array([157501.50410476,  62745.2686851 , 172190.84630527,  66486.79344514,\n",
       "       154397.24814569,  54520.87948394, 147081.62769468, 168491.17883748,\n",
       "        60622.50867317, 168140.09060603,  75483.53732977, 157349.46498183,\n",
       "        97450.04608473, 129195.77279839, 131783.23359103, 110573.57214331,\n",
       "       109543.37147854, 140123.92933845, 119804.78081299, 104024.19541898,\n",
       "       138945.09276841, 166785.28279393,  90376.17252838, 135102.76900601,\n",
       "        90693.94581238, 169265.96490168, 105713.86119013, 162142.54604012,\n",
       "       101239.40765813, 159720.80573202, 132286.37469691,  90320.64761251,\n",
       "        87928.8052827 , 116483.13100281, 150601.05280472, 174460.5338243 ,\n",
       "        70722.91696625,  68861.55117488, 119691.61659642, 178758.16187195,\n",
       "       120170.83933467,  71589.10553527, 157897.02601417, 142920.67632061,\n",
       "       184721.53724812, 181690.73138115, 129689.51739944, 144958.01343942,\n",
       "       294863.04507557,  98094.13499025, 168351.93942664, 115016.41921244,\n",
       "       100646.57244664,  95438.33580774, 126190.59378363, 108204.79403461,\n",
       "       164542.93062207, 169770.81449214,  70208.67088135,  73367.61116974,\n",
       "       174067.5882975 , 102182.47685878,  59980.12816165, 100904.54968869,\n",
       "       182152.01520206, 115180.43123319,  95276.88652425, 185237.49173222,\n",
       "       131868.65657057, 180462.34951629, 105543.86947334,  54274.73011914,\n",
       "       157293.08582367, 109554.47646795, 117855.02340458, 171622.78378907,\n",
       "       185184.52954322,  76441.98272089, 144392.51356472,  51886.30476473,\n",
       "        74265.40628701, 116702.66801443, 103615.01954479,  64192.33332656,\n",
       "       170549.01744013, 160206.86224823,  95359.74677691,  83603.84189826,\n",
       "        92500.64102593, 173469.62771764,  86054.62601734,  82175.57033833,\n",
       "        82133.1251784 , 174256.37300316,  59850.28533895,  69322.83499579,\n",
       "        92001.77104613,  75510.01849926, 134931.9231427 , 162606.39258789,\n",
       "       171857.69690578, 120242.71836428,  72098.22625181, 142783.14540474,\n",
       "       172589.77144273, 169610.21936556, 173725.0423182 , 140497.2276237 ,\n",
       "       133825.6960886 , 158545.38605616,  55441.60746059,  85741.97810171,\n",
       "        57172.46372102, 153101.38222902,  57158.60856749, 124330.903903  ,\n",
       "       103589.39269257,  50331.60727106,  63520.05474619,  99517.28118182,\n",
       "       106727.83141174,  84764.73962595, 161049.13244962,  87820.13922691,\n",
       "       183298.39105655, 118052.35044777, 150724.06185778, 133106.43494027,\n",
       "        52128.05165732,  94612.30040101,  88709.52824977, 141735.005983  ,\n",
       "        78059.89322878, 180462.34951629, 158877.68128834, 118429.06561681,\n",
       "       103454.42441821, 181779.57124448, 150965.64248111, 143059.91573144,\n",
       "        86042.66679603,  90014.83346444, 121458.16299919, 182407.42980262,\n",
       "        94620.83830165, 169829.7562918 , 160874.01536447, 156752.35864427,\n",
       "        58998.61864104, 146897.96836777,  96368.75086776, 150232.02573092,\n",
       "       112852.65615679,  63420.47787472, 174212.80731898, 146404.22384171,\n",
       "       112264.94631366,  77840.35621716,  65418.15246456, 167597.65493166,\n",
       "        96792.28946292,  57357.64401404, 127055.92818535, 141078.10360349,\n",
       "        97810.53089599,  53698.12526127, 181755.65279147, 182521.04235085,\n",
       "        59998.06699985,  86433.90383826, 109316.14645707, 109127.36175141,\n",
       "        59439.40097914, 127934.07597568,  97924.14336923, 152382.97532297,\n",
       "        74420.87595985,  77230.43640561, 107076.35700169, 175371.99656208,\n",
       "       169867.34236532, 169441.08189107, 119953.01080763, 102424.22375344,\n",
       "        58819.23043293,  68918.78448996,  74715.58511851, 165736.28905491,\n",
       "        93817.86266875, 144411.30664936, 179183.56810391, 131706.24394246,\n",
       "        72820.05012701, 130898.25194776, 174534.85181443,  84517.86736291,\n",
       "        90523.95418097, 145013.53835529,  84795.4919319 ,  65877.72787587])"
      ]
     },
     "execution_count": 24,
     "metadata": {},
     "output_type": "execute_result"
    }
   ],
   "source": [
    "#Calling and giving the model used, some name\n",
    "lin_reg=LinearRegression()\n",
    "\n",
    "#Fitting the data\n",
    "lin_reg.fit(X_train, Y_train)\n",
    "\n",
    "#Testing/Predicting the output of the data\n",
    "Y_pred=lin_reg.predict(X_test) #predict the outcomes for remaining X data, based on what it has learned from the X_train\n",
    "Y_pred #will print out all the outputs that it predcits for the inputs in X_test\n",
    "#the names like lin_reg, Y_pred are just conventions\n",
    "#lin_reg=LinearRegression()       } -\n",
    "#lin_reg.fit(X_train,Y_train)     } -\n",
    "#Y_pred=lin_reg.predict(X_test)   } --> let this code snippet be byhearted for the basic modelling type\n",
    "#Y_pred                           } -"
   ]
  },
  {
   "cell_type": "code",
   "execution_count": 25,
   "id": "45657158",
   "metadata": {},
   "outputs": [
    {
     "data": {
      "text/plain": [
       "array([511383.22280493])"
      ]
     },
     "execution_count": 25,
     "metadata": {},
     "output_type": "execute_result"
    }
   ],
   "source": [
    "#predicting for some completely new values/dataset\n",
    "lin_reg.predict([[200000,500000,300000]]) #note the syntax v.carefully, .predict([[dataset acc to the columns]])"
   ]
  },
  {
   "cell_type": "markdown",
   "id": "49e7c9f8",
   "metadata": {},
   "source": [
    "## Evaluation"
   ]
  },
  {
   "cell_type": "code",
   "execution_count": 26,
   "id": "34568186",
   "metadata": {},
   "outputs": [
    {
     "data": {
      "text/plain": [
       "0.9141832470808273"
      ]
     },
     "execution_count": 26,
     "metadata": {},
     "output_type": "execute_result"
    }
   ],
   "source": [
    "#we've quite a few methods, one popular metric is r^2 calculation\n",
    "from sklearn.metrics import r2_score\n",
    "r2_score(Y_test,Y_pred) #91.41 % accuracy"
   ]
  },
  {
   "cell_type": "code",
   "execution_count": 27,
   "id": "d35d305a",
   "metadata": {},
   "outputs": [],
   "source": [
    "#second method for evaluation\n",
    "def MAPE(a,b): #Mean Absolute Percentage Error, closer the value is to 0, better it is\n",
    "    return np.mean(np.abs((a-b)/a))*100"
   ]
  },
  {
   "cell_type": "code",
   "execution_count": 28,
   "id": "46e5dc37",
   "metadata": {},
   "outputs": [
    {
     "data": {
      "text/plain": [
       "1.6891794992724312"
      ]
     },
     "execution_count": 28,
     "metadata": {},
     "output_type": "execute_result"
    }
   ],
   "source": [
    "MAPE(Y_test,Y_pred)"
   ]
  },
  {
   "cell_type": "markdown",
   "id": "77174f7e",
   "metadata": {},
   "source": [
    "## -------"
   ]
  },
  {
   "cell_type": "code",
   "execution_count": 30,
   "id": "a5a62ab4",
   "metadata": {},
   "outputs": [],
   "source": [
    "# now to treat columns with high correl values, here RnD Spend and Marketting Spend\n",
    "# one way is to remove either column and check the r2_score and MAPE\n",
    "# del companies['R&D Spend'], the r2 score is 0.89 and MAPE score is 1.689\n",
    "companies=pd.read_csv(r\"C:\\Users\\roopa\\Desktop\\Veeraraju_Elluru\\Veer_Trainings\\Python, AIML, DS\\AIML\\1000_Companies.csv\")"
   ]
  },
  {
   "cell_type": "code",
   "execution_count": 20,
   "id": "143a6e19",
   "metadata": {},
   "outputs": [],
   "source": [
    "# del companies['Marketing Spend'], the r2 score is 0.91, and MAPE score is 1.698, so we would overall chose to remove\n",
    "# Marketing Spend column"
   ]
  },
  {
   "cell_type": "code",
   "execution_count": 21,
   "id": "34de35cd",
   "metadata": {},
   "outputs": [
    {
     "data": {
      "text/html": [
       "<div>\n",
       "<style scoped>\n",
       "    .dataframe tbody tr th:only-of-type {\n",
       "        vertical-align: middle;\n",
       "    }\n",
       "\n",
       "    .dataframe tbody tr th {\n",
       "        vertical-align: top;\n",
       "    }\n",
       "\n",
       "    .dataframe thead th {\n",
       "        text-align: right;\n",
       "    }\n",
       "</style>\n",
       "<table border=\"1\" class=\"dataframe\">\n",
       "  <thead>\n",
       "    <tr style=\"text-align: right;\">\n",
       "      <th></th>\n",
       "      <th>R&amp;D Spend</th>\n",
       "      <th>Administration</th>\n",
       "      <th>Marketing Spend</th>\n",
       "      <th>State</th>\n",
       "      <th>Profit</th>\n",
       "    </tr>\n",
       "  </thead>\n",
       "  <tbody>\n",
       "    <tr>\n",
       "      <th>0</th>\n",
       "      <td>165349.20</td>\n",
       "      <td>136897.800</td>\n",
       "      <td>471784.1000</td>\n",
       "      <td>New York</td>\n",
       "      <td>192261.83000</td>\n",
       "    </tr>\n",
       "    <tr>\n",
       "      <th>1</th>\n",
       "      <td>162597.70</td>\n",
       "      <td>151377.590</td>\n",
       "      <td>443898.5300</td>\n",
       "      <td>California</td>\n",
       "      <td>191792.06000</td>\n",
       "    </tr>\n",
       "    <tr>\n",
       "      <th>2</th>\n",
       "      <td>153441.51</td>\n",
       "      <td>101145.550</td>\n",
       "      <td>407934.5400</td>\n",
       "      <td>Florida</td>\n",
       "      <td>191050.39000</td>\n",
       "    </tr>\n",
       "    <tr>\n",
       "      <th>3</th>\n",
       "      <td>144372.41</td>\n",
       "      <td>118671.850</td>\n",
       "      <td>383199.6200</td>\n",
       "      <td>New York</td>\n",
       "      <td>182901.99000</td>\n",
       "    </tr>\n",
       "    <tr>\n",
       "      <th>4</th>\n",
       "      <td>142107.34</td>\n",
       "      <td>91391.770</td>\n",
       "      <td>366168.4200</td>\n",
       "      <td>Florida</td>\n",
       "      <td>166187.94000</td>\n",
       "    </tr>\n",
       "    <tr>\n",
       "      <th>...</th>\n",
       "      <td>...</td>\n",
       "      <td>...</td>\n",
       "      <td>...</td>\n",
       "      <td>...</td>\n",
       "      <td>...</td>\n",
       "    </tr>\n",
       "    <tr>\n",
       "      <th>995</th>\n",
       "      <td>54135.00</td>\n",
       "      <td>118451.999</td>\n",
       "      <td>173232.6695</td>\n",
       "      <td>California</td>\n",
       "      <td>95279.96251</td>\n",
       "    </tr>\n",
       "    <tr>\n",
       "      <th>996</th>\n",
       "      <td>134970.00</td>\n",
       "      <td>130390.080</td>\n",
       "      <td>329204.0228</td>\n",
       "      <td>California</td>\n",
       "      <td>164336.60550</td>\n",
       "    </tr>\n",
       "    <tr>\n",
       "      <th>997</th>\n",
       "      <td>100275.47</td>\n",
       "      <td>241926.310</td>\n",
       "      <td>227142.8200</td>\n",
       "      <td>California</td>\n",
       "      <td>413956.48000</td>\n",
       "    </tr>\n",
       "    <tr>\n",
       "      <th>998</th>\n",
       "      <td>128456.23</td>\n",
       "      <td>321652.140</td>\n",
       "      <td>281692.3200</td>\n",
       "      <td>California</td>\n",
       "      <td>333962.19000</td>\n",
       "    </tr>\n",
       "    <tr>\n",
       "      <th>999</th>\n",
       "      <td>161181.72</td>\n",
       "      <td>270939.860</td>\n",
       "      <td>295442.1700</td>\n",
       "      <td>New York</td>\n",
       "      <td>476485.43000</td>\n",
       "    </tr>\n",
       "  </tbody>\n",
       "</table>\n",
       "<p>1000 rows × 5 columns</p>\n",
       "</div>"
      ],
      "text/plain": [
       "     R&D Spend  Administration  Marketing Spend       State        Profit\n",
       "0    165349.20      136897.800      471784.1000    New York  192261.83000\n",
       "1    162597.70      151377.590      443898.5300  California  191792.06000\n",
       "2    153441.51      101145.550      407934.5400     Florida  191050.39000\n",
       "3    144372.41      118671.850      383199.6200    New York  182901.99000\n",
       "4    142107.34       91391.770      366168.4200     Florida  166187.94000\n",
       "..         ...             ...              ...         ...           ...\n",
       "995   54135.00      118451.999      173232.6695  California   95279.96251\n",
       "996  134970.00      130390.080      329204.0228  California  164336.60550\n",
       "997  100275.47      241926.310      227142.8200  California  413956.48000\n",
       "998  128456.23      321652.140      281692.3200  California  333962.19000\n",
       "999  161181.72      270939.860      295442.1700    New York  476485.43000\n",
       "\n",
       "[1000 rows x 5 columns]"
      ]
     },
     "execution_count": 21,
     "metadata": {},
     "output_type": "execute_result"
    }
   ],
   "source": [
    "companies"
   ]
  },
  {
   "cell_type": "code",
   "execution_count": 22,
   "id": "52a682ce",
   "metadata": {},
   "outputs": [],
   "source": [
    "# X1=companies.iloc[:,:2].values\n",
    "# Y1=companies.iloc[:,3]\n",
    "# X1_train, X1_test, Y1_train, Y1_test=train_test_split(X1,Y1,test_size=0.20,random_state=9)"
   ]
  },
  {
   "cell_type": "code",
   "execution_count": 23,
   "id": "d9aed926",
   "metadata": {},
   "outputs": [],
   "source": [
    "# lin_reg1=LinearRegression()\n",
    "# lin_reg1.fit(X1_train,Y1_train)\n",
    "# Y1_pred=lin_reg1.predict(X1_test)\n",
    "# r2_score(Y1_test,Y1_pred)"
   ]
  },
  {
   "cell_type": "code",
   "execution_count": 24,
   "id": "20606825",
   "metadata": {},
   "outputs": [],
   "source": [
    "# MAPE(Y1_test,Y1_pred)"
   ]
  }
 ],
 "metadata": {
  "kernelspec": {
   "display_name": "Python 3 (ipykernel)",
   "language": "python",
   "name": "python3"
  },
  "language_info": {
   "codemirror_mode": {
    "name": "ipython",
    "version": 3
   },
   "file_extension": ".py",
   "mimetype": "text/x-python",
   "name": "python",
   "nbconvert_exporter": "python",
   "pygments_lexer": "ipython3",
   "version": "3.9.12"
  }
 },
 "nbformat": 4,
 "nbformat_minor": 5
}
